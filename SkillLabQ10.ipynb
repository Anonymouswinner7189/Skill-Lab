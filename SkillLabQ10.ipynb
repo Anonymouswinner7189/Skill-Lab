{
  "nbformat": 4,
  "nbformat_minor": 0,
  "metadata": {
    "colab": {
      "provenance": []
    },
    "kernelspec": {
      "name": "python3",
      "display_name": "Python 3"
    },
    "language_info": {
      "name": "python"
    }
  },
  "cells": [
    {
      "cell_type": "code",
      "execution_count": null,
      "metadata": {
        "id": "c5PDhYysbUrH"
      },
      "outputs": [],
      "source": [
        "from pyspark import *;\n",
        "from pyspark.sql import *;\n",
        "from pyspark.sql.functions import *;\n",
        "import pandas as pd;\n",
        "\n",
        "spark = SparkSession.builder.appName(\"Q10\").getOrCreate()"
      ]
    },
    {
      "cell_type": "code",
      "source": [
        "df = spark.read.csv(\"Real_estate.csv\",header=True,inferSchema=True)\n",
        "df.printSchema()\n",
        "df.show()"
      ],
      "metadata": {
        "colab": {
          "base_uri": "https://localhost:8080/"
        },
        "id": "osgW_I-Nbe-x",
        "outputId": "b5ab3436-1aef-4168-8008-868098e8732d"
      },
      "execution_count": null,
      "outputs": [
        {
          "output_type": "stream",
          "name": "stdout",
          "text": [
            "root\n",
            " |-- Serial Number: integer (nullable = true)\n",
            " |-- List Year: integer (nullable = true)\n",
            " |-- Date Recorded: string (nullable = true)\n",
            " |-- Town: string (nullable = true)\n",
            " |-- Address: string (nullable = true)\n",
            " |-- Assessed Value: integer (nullable = true)\n",
            " |-- Sale Amount: integer (nullable = true)\n",
            " |-- Property Type: string (nullable = true)\n",
            " |-- Residential Type: string (nullable = true)\n",
            "\n",
            "+-------------+---------+-------------+------------+--------------------+--------------+-----------+-------------+----------------+\n",
            "|Serial Number|List Year|Date Recorded|        Town|             Address|Assessed Value|Sale Amount|Property Type|Residential Type|\n",
            "+-------------+---------+-------------+------------+--------------------+--------------+-----------+-------------+----------------+\n",
            "|       220008|     2022|   01/30/2023|     Andover|         618 ROUTE 6|        139020|     232000|  Residential|   Single Family|\n",
            "|      2020348|     2020|   09/13/2021|     Ansonia|     230 WAKELEE AVE|        150500|     325000|   Commercial|            NULL|\n",
            "|        20002|     2020|   10-02-2020|     Ashford|     390 TURNPIKE RD|        253000|     430000|  Residential|   Single Family|\n",
            "|       210317|     2021|   07-05-2022|        Avon|     53 COTSWOLD WAY|        329730|     805000|  Residential|   Single Family|\n",
            "|       200212|     2020|   03-09-2021|        Avon|    5 CHESTNUT DRIVE|        130400|     179900|  Residential|           Condo|\n",
            "|       200243|     2020|   04/13/2021|        Avon|111 NORTHINGTON D...|        619290|     890000|  Residential|   Single Family|\n",
            "|       200377|     2020|   07-02-2021|        Avon|  70 FAR HILLS DRIVE|        862330|    1447500|  Residential|   Single Family|\n",
            "|        22043|     2022|   03/15/2023|Beacon Falls|   41 EDGEWOOD DRIVE|        164170|     285000|  Residential|   Single Family|\n",
            "|       200109|     2020|   12-09-2020|        Avon|  57 FAR HILLS DRIVE|        847520|    1250000|  Residential|   Single Family|\n",
            "|      2020180|     2020|   03-01-2021|      Berlin| 1539 FARMINGTON AVE|        234200|     130000|  Residential|      Two Family|\n",
            "|      2020313|     2020|   07-01-2021|      Berlin|   216 WATCH HILL RD|        412000|     677500|  Residential|   Single Family|\n",
            "|       220440|     2022|   02/16/2023|    Branford|          69 MONTOYA|         84300|     195000|  Residential|           Condo|\n",
            "|       200097|     2020|   06-04-2021|     Bethany|         23 AMITY RD|        511000|     795000|   Commercial|            NULL|\n",
            "|       210045|     2025|   04/29/2022|   Bethlehem|   89 LONG MEADOW RD|        229900|     561850|  Residential|   Single Family|\n",
            "|       210101|     2025|   12/20/2021|        NULL|      43 LEDYARD AVE|        111580|     209000|  Residential|   Single Family|\n",
            "|        20139|     2025|   12/16/2020|        NULL|   16 DEEPWOOD DRIVE|        171360|     335000|  Residential|   Single Family|\n",
            "|       200086|     2025|   08-10-2021|        NULL|      39 WOODLAND RD|        168900|     352000|  Residential|   Single Family|\n",
            "|      2000381|     2025|   09/13/2021|        NULL|      9 SADDLE RIDGE|        163730|     250000|  Residential|           Condo|\n",
            "|       200258|     2020|   01/22/2021|        NULL|34 SUNRISE COVE CAMP|        530500|     700000|  Residential|   Single Family|\n",
            "|       210035|     2021|   10/20/2021|        NULL|   25 QUARRY DOCK RD|        208100|     448000|  Residential|           Condo|\n",
            "+-------------+---------+-------------+------------+--------------------+--------------+-----------+-------------+----------------+\n",
            "only showing top 20 rows\n",
            "\n"
          ]
        }
      ]
    },
    {
      "cell_type": "code",
      "source": [
        "df.select([count(when(isnull(c)|isnan(c),c)).alias(c) for c in df.columns]).show()"
      ],
      "metadata": {
        "colab": {
          "base_uri": "https://localhost:8080/"
        },
        "id": "krvOdo3fbrzS",
        "outputId": "d6bd53c0-f595-4074-fd8f-d56bff9d87b0"
      },
      "execution_count": null,
      "outputs": [
        {
          "output_type": "stream",
          "name": "stdout",
          "text": [
            "+-------------+---------+-------------+----+-------+--------------+-----------+-------------+----------------+\n",
            "|Serial Number|List Year|Date Recorded|Town|Address|Assessed Value|Sale Amount|Property Type|Residential Type|\n",
            "+-------------+---------+-------------+----+-------+--------------+-----------+-------------+----------------+\n",
            "|            0|        0|            0|  10|      0|             0|          0|           72|             168|\n",
            "+-------------+---------+-------------+----+-------+--------------+-----------+-------------+----------------+\n",
            "\n"
          ]
        }
      ]
    },
    {
      "cell_type": "code",
      "source": [
        "df = df.withColumn(\"Date Recorded\",regexp_replace(\"Date Recorded\",\"/\",\"-\"))\n",
        "df = df.withColumn(\"Date Recorded\",date_format(to_date(col(\"Date Recorded\"),\"MM-dd-yyyy\"),\"yyyy-MM-dd\"))\n",
        "df.show()"
      ],
      "metadata": {
        "colab": {
          "base_uri": "https://localhost:8080/"
        },
        "id": "9v3zkFKsb13_",
        "outputId": "79654a82-3064-4329-e21e-66c714b51a5b"
      },
      "execution_count": null,
      "outputs": [
        {
          "output_type": "stream",
          "name": "stdout",
          "text": [
            "+-------------+---------+-------------+------------+--------------------+--------------+-----------+-------------+----------------+\n",
            "|Serial Number|List Year|Date Recorded|        Town|             Address|Assessed Value|Sale Amount|Property Type|Residential Type|\n",
            "+-------------+---------+-------------+------------+--------------------+--------------+-----------+-------------+----------------+\n",
            "|       220008|     2022|   2023-01-30|     Andover|         618 ROUTE 6|        139020|     232000|  Residential|   Single Family|\n",
            "|      2020348|     2020|   2021-09-13|     Ansonia|     230 WAKELEE AVE|        150500|     325000|   Commercial|            NULL|\n",
            "|        20002|     2020|   2020-10-02|     Ashford|     390 TURNPIKE RD|        253000|     430000|  Residential|   Single Family|\n",
            "|       210317|     2021|   2022-07-05|        Avon|     53 COTSWOLD WAY|        329730|     805000|  Residential|   Single Family|\n",
            "|       200212|     2020|   2021-03-09|        Avon|    5 CHESTNUT DRIVE|        130400|     179900|  Residential|           Condo|\n",
            "|       200243|     2020|   2021-04-13|        Avon|111 NORTHINGTON D...|        619290|     890000|  Residential|   Single Family|\n",
            "|       200377|     2020|   2021-07-02|        Avon|  70 FAR HILLS DRIVE|        862330|    1447500|  Residential|   Single Family|\n",
            "|        22043|     2022|   2023-03-15|Beacon Falls|   41 EDGEWOOD DRIVE|        164170|     285000|  Residential|   Single Family|\n",
            "|       200109|     2020|   2020-12-09|        Avon|  57 FAR HILLS DRIVE|        847520|    1250000|  Residential|   Single Family|\n",
            "|      2020180|     2020|   2021-03-01|      Berlin| 1539 FARMINGTON AVE|        234200|     130000|  Residential|      Two Family|\n",
            "|      2020313|     2020|   2021-07-01|      Berlin|   216 WATCH HILL RD|        412000|     677500|  Residential|   Single Family|\n",
            "|       220440|     2022|   2023-02-16|    Branford|          69 MONTOYA|         84300|     195000|  Residential|           Condo|\n",
            "|       200097|     2020|   2021-06-04|     Bethany|         23 AMITY RD|        511000|     795000|   Commercial|            NULL|\n",
            "|       210045|     2025|   2022-04-29|   Bethlehem|   89 LONG MEADOW RD|        229900|     561850|  Residential|   Single Family|\n",
            "|       210101|     2025|   2021-12-20|        NULL|      43 LEDYARD AVE|        111580|     209000|  Residential|   Single Family|\n",
            "|        20139|     2025|   2020-12-16|        NULL|   16 DEEPWOOD DRIVE|        171360|     335000|  Residential|   Single Family|\n",
            "|       200086|     2025|   2021-08-10|        NULL|      39 WOODLAND RD|        168900|     352000|  Residential|   Single Family|\n",
            "|      2000381|     2025|   2021-09-13|        NULL|      9 SADDLE RIDGE|        163730|     250000|  Residential|           Condo|\n",
            "|       200258|     2020|   2021-01-22|        NULL|34 SUNRISE COVE CAMP|        530500|     700000|  Residential|   Single Family|\n",
            "|       210035|     2021|   2021-10-20|        NULL|   25 QUARRY DOCK RD|        208100|     448000|  Residential|           Condo|\n",
            "+-------------+---------+-------------+------------+--------------------+--------------+-----------+-------------+----------------+\n",
            "only showing top 20 rows\n",
            "\n"
          ]
        }
      ]
    },
    {
      "cell_type": "code",
      "source": [
        "df = df.withColumn(\"Sales_Ratio\", round(col(\"Assessed Value\")/col(\"Sale Amount\"),2))\n",
        "df.show()"
      ],
      "metadata": {
        "colab": {
          "base_uri": "https://localhost:8080/"
        },
        "id": "WDbNRuRgcTSt",
        "outputId": "5a573d82-8bf3-4fad-85d9-0fdfc169f36a"
      },
      "execution_count": null,
      "outputs": [
        {
          "output_type": "stream",
          "name": "stdout",
          "text": [
            "+-------------+---------+-------------+------------+--------------------+--------------+-----------+-------------+----------------+-----------+\n",
            "|Serial Number|List Year|Date Recorded|        Town|             Address|Assessed Value|Sale Amount|Property Type|Residential Type|Sales_Ratio|\n",
            "+-------------+---------+-------------+------------+--------------------+--------------+-----------+-------------+----------------+-----------+\n",
            "|       220008|     2022|   2023-01-30|     Andover|         618 ROUTE 6|        139020|     232000|  Residential|   Single Family|        0.6|\n",
            "|      2020348|     2020|   2021-09-13|     Ansonia|     230 WAKELEE AVE|        150500|     325000|   Commercial|            NULL|       0.46|\n",
            "|        20002|     2020|   2020-10-02|     Ashford|     390 TURNPIKE RD|        253000|     430000|  Residential|   Single Family|       0.59|\n",
            "|       210317|     2021|   2022-07-05|        Avon|     53 COTSWOLD WAY|        329730|     805000|  Residential|   Single Family|       0.41|\n",
            "|       200212|     2020|   2021-03-09|        Avon|    5 CHESTNUT DRIVE|        130400|     179900|  Residential|           Condo|       0.72|\n",
            "|       200243|     2020|   2021-04-13|        Avon|111 NORTHINGTON D...|        619290|     890000|  Residential|   Single Family|        0.7|\n",
            "|       200377|     2020|   2021-07-02|        Avon|  70 FAR HILLS DRIVE|        862330|    1447500|  Residential|   Single Family|        0.6|\n",
            "|        22043|     2022|   2023-03-15|Beacon Falls|   41 EDGEWOOD DRIVE|        164170|     285000|  Residential|   Single Family|       0.58|\n",
            "|       200109|     2020|   2020-12-09|        Avon|  57 FAR HILLS DRIVE|        847520|    1250000|  Residential|   Single Family|       0.68|\n",
            "|      2020180|     2020|   2021-03-01|      Berlin| 1539 FARMINGTON AVE|        234200|     130000|  Residential|      Two Family|        1.8|\n",
            "|      2020313|     2020|   2021-07-01|      Berlin|   216 WATCH HILL RD|        412000|     677500|  Residential|   Single Family|       0.61|\n",
            "|       220440|     2022|   2023-02-16|    Branford|          69 MONTOYA|         84300|     195000|  Residential|           Condo|       0.43|\n",
            "|       200097|     2020|   2021-06-04|     Bethany|         23 AMITY RD|        511000|     795000|   Commercial|            NULL|       0.64|\n",
            "|       210045|     2025|   2022-04-29|   Bethlehem|   89 LONG MEADOW RD|        229900|     561850|  Residential|   Single Family|       0.41|\n",
            "|       210101|     2025|   2021-12-20|        NULL|      43 LEDYARD AVE|        111580|     209000|  Residential|   Single Family|       0.53|\n",
            "|        20139|     2025|   2020-12-16|        NULL|   16 DEEPWOOD DRIVE|        171360|     335000|  Residential|   Single Family|       0.51|\n",
            "|       200086|     2025|   2021-08-10|        NULL|      39 WOODLAND RD|        168900|     352000|  Residential|   Single Family|       0.48|\n",
            "|      2000381|     2025|   2021-09-13|        NULL|      9 SADDLE RIDGE|        163730|     250000|  Residential|           Condo|       0.65|\n",
            "|       200258|     2020|   2021-01-22|        NULL|34 SUNRISE COVE CAMP|        530500|     700000|  Residential|   Single Family|       0.76|\n",
            "|       210035|     2021|   2021-10-20|        NULL|   25 QUARRY DOCK RD|        208100|     448000|  Residential|           Condo|       0.46|\n",
            "+-------------+---------+-------------+------------+--------------------+--------------+-----------+-------------+----------------+-----------+\n",
            "only showing top 20 rows\n",
            "\n"
          ]
        }
      ]
    },
    {
      "cell_type": "code",
      "source": [
        "df = df.fillna({\"Residential Type\":\"Unknown\"})\n",
        "df = df.fillna({\"Property Type\":\"Unknown\"})\n",
        "df.show()"
      ],
      "metadata": {
        "colab": {
          "base_uri": "https://localhost:8080/"
        },
        "id": "S3rFAzlZfCQa",
        "outputId": "3ecc39f9-9ffb-4653-ef82-17fcc7696c5c"
      },
      "execution_count": null,
      "outputs": [
        {
          "output_type": "stream",
          "name": "stdout",
          "text": [
            "+-------------+---------+-------------+------------+--------------------+--------------+-----------+-------------+----------------+-----------+\n",
            "|Serial Number|List Year|Date Recorded|        Town|             Address|Assessed Value|Sale Amount|Property Type|Residential Type|Sales_Ratio|\n",
            "+-------------+---------+-------------+------------+--------------------+--------------+-----------+-------------+----------------+-----------+\n",
            "|       220008|     2022|   2023-01-30|     Andover|         618 ROUTE 6|        139020|     232000|  Residential|   Single Family|        0.6|\n",
            "|      2020348|     2020|   2021-09-13|     Ansonia|     230 WAKELEE AVE|        150500|     325000|   Commercial|         Unknown|       0.46|\n",
            "|        20002|     2020|   2020-10-02|     Ashford|     390 TURNPIKE RD|        253000|     430000|  Residential|   Single Family|       0.59|\n",
            "|       210317|     2021|   2022-07-05|        Avon|     53 COTSWOLD WAY|        329730|     805000|  Residential|   Single Family|       0.41|\n",
            "|       200212|     2020|   2021-03-09|        Avon|    5 CHESTNUT DRIVE|        130400|     179900|  Residential|           Condo|       0.72|\n",
            "|       200243|     2020|   2021-04-13|        Avon|111 NORTHINGTON D...|        619290|     890000|  Residential|   Single Family|        0.7|\n",
            "|       200377|     2020|   2021-07-02|        Avon|  70 FAR HILLS DRIVE|        862330|    1447500|  Residential|   Single Family|        0.6|\n",
            "|        22043|     2022|   2023-03-15|Beacon Falls|   41 EDGEWOOD DRIVE|        164170|     285000|  Residential|   Single Family|       0.58|\n",
            "|       200109|     2020|   2020-12-09|        Avon|  57 FAR HILLS DRIVE|        847520|    1250000|  Residential|   Single Family|       0.68|\n",
            "|      2020180|     2020|   2021-03-01|      Berlin| 1539 FARMINGTON AVE|        234200|     130000|  Residential|      Two Family|        1.8|\n",
            "|      2020313|     2020|   2021-07-01|      Berlin|   216 WATCH HILL RD|        412000|     677500|  Residential|   Single Family|       0.61|\n",
            "|       220440|     2022|   2023-02-16|    Branford|          69 MONTOYA|         84300|     195000|  Residential|           Condo|       0.43|\n",
            "|       200097|     2020|   2021-06-04|     Bethany|         23 AMITY RD|        511000|     795000|   Commercial|         Unknown|       0.64|\n",
            "|       210045|     2025|   2022-04-29|   Bethlehem|   89 LONG MEADOW RD|        229900|     561850|  Residential|   Single Family|       0.41|\n",
            "|       210101|     2025|   2021-12-20|        NULL|      43 LEDYARD AVE|        111580|     209000|  Residential|   Single Family|       0.53|\n",
            "|        20139|     2025|   2020-12-16|        NULL|   16 DEEPWOOD DRIVE|        171360|     335000|  Residential|   Single Family|       0.51|\n",
            "|       200086|     2025|   2021-08-10|        NULL|      39 WOODLAND RD|        168900|     352000|  Residential|   Single Family|       0.48|\n",
            "|      2000381|     2025|   2021-09-13|        NULL|      9 SADDLE RIDGE|        163730|     250000|  Residential|           Condo|       0.65|\n",
            "|       200258|     2020|   2021-01-22|        NULL|34 SUNRISE COVE CAMP|        530500|     700000|  Residential|   Single Family|       0.76|\n",
            "|       210035|     2021|   2021-10-20|        NULL|   25 QUARRY DOCK RD|        208100|     448000|  Residential|           Condo|       0.46|\n",
            "+-------------+---------+-------------+------------+--------------------+--------------+-----------+-------------+----------------+-----------+\n",
            "only showing top 20 rows\n",
            "\n"
          ]
        }
      ]
    },
    {
      "cell_type": "code",
      "source": [
        "df.select(\"List Year\").distinct().show()\n",
        "df = df.filter((col(\"List Year\")>=2001) & (col(\"List Year\")<=2022))\n",
        "df.select(\"List Year\").distinct().show()"
      ],
      "metadata": {
        "colab": {
          "base_uri": "https://localhost:8080/"
        },
        "id": "seTMxabBfNlC",
        "outputId": "58ead280-9d7b-4126-dd01-7ca0d7eb0ebf"
      },
      "execution_count": null,
      "outputs": [
        {
          "output_type": "stream",
          "name": "stdout",
          "text": [
            "+---------+\n",
            "|List Year|\n",
            "+---------+\n",
            "|     2025|\n",
            "|     2022|\n",
            "|     2020|\n",
            "|     2001|\n",
            "|     2002|\n",
            "|     2021|\n",
            "+---------+\n",
            "\n",
            "+---------+\n",
            "|List Year|\n",
            "+---------+\n",
            "|     2022|\n",
            "|     2020|\n",
            "|     2001|\n",
            "|     2002|\n",
            "|     2021|\n",
            "+---------+\n",
            "\n"
          ]
        }
      ]
    },
    {
      "cell_type": "code",
      "source": [
        "mode_town = df.select(mode(\"Town\")).collect()[0][0]\n",
        "df = df.fillna({\"Town\":mode_town})\n",
        "df.show()"
      ],
      "metadata": {
        "colab": {
          "base_uri": "https://localhost:8080/"
        },
        "id": "m3ubkZS0fZhh",
        "outputId": "de225d80-eb12-4e93-a3a6-534e732f900a"
      },
      "execution_count": null,
      "outputs": [
        {
          "output_type": "stream",
          "name": "stdout",
          "text": [
            "+-------------+---------+-------------+------------+--------------------+--------------+-----------+-------------+----------------+-----------+\n",
            "|Serial Number|List Year|Date Recorded|        Town|             Address|Assessed Value|Sale Amount|Property Type|Residential Type|Sales_Ratio|\n",
            "+-------------+---------+-------------+------------+--------------------+--------------+-----------+-------------+----------------+-----------+\n",
            "|       220008|     2022|   2023-01-30|     Andover|         618 ROUTE 6|        139020|     232000|  Residential|   Single Family|        0.6|\n",
            "|      2020348|     2020|   2021-09-13|     Ansonia|     230 WAKELEE AVE|        150500|     325000|   Commercial|         Unknown|       0.46|\n",
            "|        20002|     2020|   2020-10-02|     Ashford|     390 TURNPIKE RD|        253000|     430000|  Residential|   Single Family|       0.59|\n",
            "|       210317|     2021|   2022-07-05|        Avon|     53 COTSWOLD WAY|        329730|     805000|  Residential|   Single Family|       0.41|\n",
            "|       200212|     2020|   2021-03-09|        Avon|    5 CHESTNUT DRIVE|        130400|     179900|  Residential|           Condo|       0.72|\n",
            "|       200243|     2020|   2021-04-13|        Avon|111 NORTHINGTON D...|        619290|     890000|  Residential|   Single Family|        0.7|\n",
            "|       200377|     2020|   2021-07-02|        Avon|  70 FAR HILLS DRIVE|        862330|    1447500|  Residential|   Single Family|        0.6|\n",
            "|        22043|     2022|   2023-03-15|Beacon Falls|   41 EDGEWOOD DRIVE|        164170|     285000|  Residential|   Single Family|       0.58|\n",
            "|       200109|     2020|   2020-12-09|        Avon|  57 FAR HILLS DRIVE|        847520|    1250000|  Residential|   Single Family|       0.68|\n",
            "|      2020180|     2020|   2021-03-01|      Berlin| 1539 FARMINGTON AVE|        234200|     130000|  Residential|      Two Family|        1.8|\n",
            "|      2020313|     2020|   2021-07-01|      Berlin|   216 WATCH HILL RD|        412000|     677500|  Residential|   Single Family|       0.61|\n",
            "|       220440|     2022|   2023-02-16|    Branford|          69 MONTOYA|         84300|     195000|  Residential|           Condo|       0.43|\n",
            "|       200097|     2020|   2021-06-04|     Bethany|         23 AMITY RD|        511000|     795000|   Commercial|         Unknown|       0.64|\n",
            "|       200258|     2020|   2021-01-22|  Bridgeport|34 SUNRISE COVE CAMP|        530500|     700000|  Residential|   Single Family|       0.76|\n",
            "|       210035|     2021|   2021-10-20|  Bridgeport|   25 QUARRY DOCK RD|        208100|     448000|  Residential|           Condo|       0.46|\n",
            "|       210748|     2021|   2022-01-14|  Bridgeport|  360 VINCELLETTE ST|        160776|     315000|  Residential|   Single Family|       0.51|\n",
            "|       200804|     2020|   2021-09-28|  Bridgeport|    119 MONTOWESE ST|        455100|     650000|   Commercial|         Unknown|        0.7|\n",
            "|       201295|     2020|   2021-09-09|  Bridgeport|         609 CAMP ST|        144340|     249900|  Residential|   Single Family|       0.58|\n",
            "|       200032|     2020|   2020-10-08|  Bridgeport|      9 LESLIE COURT|         94920|     155000|  Residential|   Single Family|       0.61|\n",
            "|       211762|     2021|   2022-06-21|  Bridgeport|     38 RIVERVIEW DR|         86990|     247000|  Residential|           Condo|       0.35|\n",
            "+-------------+---------+-------------+------------+--------------------+--------------+-----------+-------------+----------------+-----------+\n",
            "only showing top 20 rows\n",
            "\n"
          ]
        }
      ]
    },
    {
      "cell_type": "code",
      "source": [
        "df.select([count(when(col(c).isNull(),c)).alias(c) for c in df.columns]).show()"
      ],
      "metadata": {
        "colab": {
          "base_uri": "https://localhost:8080/"
        },
        "id": "m41enqtafzXF",
        "outputId": "ffb1d256-fd46-46e2-ebdb-a92e79fb45a6"
      },
      "execution_count": null,
      "outputs": [
        {
          "output_type": "stream",
          "name": "stdout",
          "text": [
            "+-------------+---------+-------------+----+-------+--------------+-----------+-------------+----------------+-----------+\n",
            "|Serial Number|List Year|Date Recorded|Town|Address|Assessed Value|Sale Amount|Property Type|Residential Type|Sales_Ratio|\n",
            "+-------------+---------+-------------+----+-------+--------------+-----------+-------------+----------------+-----------+\n",
            "|            0|        0|            0|   0|      0|             0|          0|            0|               0|          7|\n",
            "+-------------+---------+-------------+----+-------+--------------+-----------+-------------+----------------+-----------+\n",
            "\n"
          ]
        }
      ]
    },
    {
      "cell_type": "code",
      "source": [
        "data = df.toPandas()\n",
        "data.to_csv(\"cleaned_10.csv\", index=False)"
      ],
      "metadata": {
        "id": "CIphECCDf019"
      },
      "execution_count": null,
      "outputs": []
    },
    {
      "cell_type": "code",
      "source": [
        "spark.stop()"
      ],
      "metadata": {
        "id": "33ztVFWBf39n"
      },
      "execution_count": null,
      "outputs": []
    }
  ]
}