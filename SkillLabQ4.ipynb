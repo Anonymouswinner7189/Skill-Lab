{
  "nbformat": 4,
  "nbformat_minor": 0,
  "metadata": {
    "colab": {
      "provenance": []
    },
    "kernelspec": {
      "name": "python3",
      "display_name": "Python 3"
    },
    "language_info": {
      "name": "python"
    }
  },
  "cells": [
    {
      "cell_type": "code",
      "execution_count": null,
      "metadata": {
        "id": "35RkojGcyjVO"
      },
      "outputs": [],
      "source": [
        "from pyspark import *;\n",
        "from pyspark.sql import *;\n",
        "from pyspark.sql.functions import *;\n",
        "import pandas as pd;"
      ]
    },
    {
      "cell_type": "code",
      "source": [
        "spark = SparkSession.builder.appName(\"Q4\").getOrCreate()"
      ],
      "metadata": {
        "id": "uX5ktPGjzAIO"
      },
      "execution_count": null,
      "outputs": []
    },
    {
      "cell_type": "code",
      "source": [
        "df = spark.read.csv(\"audible_uncleaned.csv\",header=True,inferSchema=True)\n",
        "df.printSchema()\n",
        "df.show()"
      ],
      "metadata": {
        "colab": {
          "base_uri": "https://localhost:8080/"
        },
        "id": "xDtpZCuxziH1",
        "outputId": "8b88e998-dfb2-4713-adbd-47afc67e4489"
      },
      "execution_count": null,
      "outputs": [
        {
          "output_type": "stream",
          "name": "stdout",
          "text": [
            "root\n",
            " |-- name: string (nullable = true)\n",
            " |-- author: string (nullable = true)\n",
            " |-- narrator: string (nullable = true)\n",
            " |-- time: string (nullable = true)\n",
            " |-- releasedate: string (nullable = true)\n",
            " |-- language: string (nullable = true)\n",
            " |-- stars: string (nullable = true)\n",
            " |-- price: string (nullable = true)\n",
            "\n",
            "+--------------------+--------------------+--------------------+------------------+-----------+--------+--------------------+--------+\n",
            "|                name|              author|            narrator|              time|releasedate|language|               stars|   price|\n",
            "+--------------------+--------------------+--------------------+------------------+-----------+--------+--------------------+--------+\n",
            "|Geronimo Stilton ...|Writtenby:Geronim...|Narratedby:BillLo...| 2 hrs and 20 mins| 04-08-2008| English|5 out of 5 stars3...|     468|\n",
            "|    The Burning Maze|Writtenby:RickRio...|Narratedby:Robbie...| 13 hrs and 8 mins| 01-05-2018| English|4.5 out of 5 star...|     820|\n",
            "|        The Deep End|Writtenby:JeffKinney|Narratedby:DanRus...|  2 hrs and 3 mins| 06-11-2020| English|4.5 out of 5 star...|     410|\n",
            "|Daughter of the Deep|Writtenby:RickRio...|Narratedby:Soneel...|11 hrs and 16 mins| 05-10-2021| English|4.5 out of 5 star...|     615|\n",
            "|The Lightning Thi...|Writtenby:RickRio...|Narratedby:JesseB...|            10 hrs| 13-01-2010| English|4.5 out of 5 star...|     820|\n",
            "|The Hunger Games:...|Writtenby:Suzanne...|Narratedby:Tatian...|10 hrs and 35 mins| 30-10-2018| English|5 out of 5 stars7...|     656|\n",
            "|Quest for the Dia...|Writtenby:WinterM...|Narratedby:LukeDa...| 2 hrs and 23 mins| 25-11-2014| English|5 out of 5 stars1...|     233|\n",
            "|   The Dark Prophecy|Writtenby:RickRio...|Narratedby:Robbie...|12 hrs and 32 mins| 02-05-2017| English|5 out of 5 stars5...|     820|\n",
            "|Merlin Mission Co...|Writtenby:MaryPop...|Narratedby:MaryPo...|10 hrs and 56 mins| 02-05-2017| English|5 out of 5 stars5...|1,256.00|\n",
            "|   The Tyrant’s Tomb|Writtenby:RickRio...|Narratedby:Robbie...|13 hrs and 22 mins| 24-09-2019| English|5 out of 5 stars5...|     820|\n",
            "|The Titan's Curse...|Writtenby:RickRio...|Narratedby:JesseB...| 8 hrs and 48 mins| 14-01-2010| English|4.5 out of 5 star...|     820|\n",
            "|Magic Tree House ...|Writtenby:MaryPop...|Narratedby:MaryPo...| 5 hrs and 23 mins| 24-08-2011| English|5 out of 5 stars6...|1,206.00|\n",
            "|Magic Tree House ...|                NULL|Narratedby:MaryPo...|   6 hrs and 1 min| 27-09-2011| English|5 out of 5 stars7...|1,206.00|\n",
            "|Magnus Chase and ...|Writtenby:RickRio...|Narratedby:Michae...|12 hrs and 58 mins| 03-10-2017| English|5 out of 5 stars4...|     820|\n",
            "|     Northern Lights|Writtenby:PhilipP...|Narratedby:Philip...|11 hrs and 55 mins| 24-06-2021| English|4 out of 5 stars2...|1,093.00|\n",
            "|Geronimo Stilton ...|Writtenby:Geronim...|Narratedby:BillLo...| 2 hrs and 25 mins| 08-02-2008| English|4.5 out of 5 star...|     467|\n",
            "|Magic Tree House ...|Writtenby:MaryPop...|Narratedby:MaryPo...|  5 hrs and 4 mins| 26-12-2004| English|5 out of 5 stars7...|1,206.00|\n",
            "|               Exile|Writtenby:Shannon...|Narratedby:Caitli...|14 hrs and 41 mins| 06-11-2018| English|5 out of 5 stars2...|     836|\n",
            "|Merlin Mission Co...|Writtenby:MaryPop...|Narratedby:MaryPo...|10 hrs and 18 mins| 02-05-2017| English|5 out of 5 stars1...|1,256.00|\n",
            "|           Neverseen|Writtenby:Shannon...|Narratedby:Caitli...|16 hrs and 42 mins| 06-11-2018| English|5 out of 5 stars1...|1,003.00|\n",
            "+--------------------+--------------------+--------------------+------------------+-----------+--------+--------------------+--------+\n",
            "only showing top 20 rows\n",
            "\n"
          ]
        }
      ]
    },
    {
      "cell_type": "code",
      "source": [
        "df.select([count(when(isnull(c)|isnan(c),c)).alias(c) for c in df.columns]).show()"
      ],
      "metadata": {
        "colab": {
          "base_uri": "https://localhost:8080/"
        },
        "id": "m1ZA3fCj0GHN",
        "outputId": "ae22a7bd-abd2-45f4-af69-1a093a5623fb"
      },
      "execution_count": null,
      "outputs": [
        {
          "output_type": "stream",
          "name": "stdout",
          "text": [
            "+----+------+--------+----+-----------+--------+-----+-----+\n",
            "|name|author|narrator|time|releasedate|language|stars|price|\n",
            "+----+------+--------+----+-----------+--------+-----+-----+\n",
            "|   0|    11|       0|   0|          0|       0|   14|    0|\n",
            "+----+------+--------+----+-----------+--------+-----+-----+\n",
            "\n"
          ]
        }
      ]
    },
    {
      "cell_type": "code",
      "source": [
        "df = df.withColumn(\"price\",regexp_replace(\"price\",\"[$,]\",\"\"))\n",
        "df = df.withColumn(\"price\",col(\"price\").cast(\"int\"))\n",
        "df.show()"
      ],
      "metadata": {
        "colab": {
          "base_uri": "https://localhost:8080/"
        },
        "id": "MAw2hgqkBnqP",
        "outputId": "b51bd7e9-a7f6-4b9e-f20d-f21dc83e2d34"
      },
      "execution_count": null,
      "outputs": [
        {
          "output_type": "stream",
          "name": "stdout",
          "text": [
            "+--------------------+--------------------+--------------------+------------------+-----------+--------+--------------------+-----+\n",
            "|                name|              author|            narrator|              time|releasedate|language|               stars|price|\n",
            "+--------------------+--------------------+--------------------+------------------+-----------+--------+--------------------+-----+\n",
            "|Geronimo Stilton ...|Writtenby:Geronim...|Narratedby:BillLo...| 2 hrs and 20 mins| 04-08-2008| English|5 out of 5 stars3...|  468|\n",
            "|    The Burning Maze|Writtenby:RickRio...|Narratedby:Robbie...| 13 hrs and 8 mins| 01-05-2018| English|4.5 out of 5 star...|  820|\n",
            "|        The Deep End|Writtenby:JeffKinney|Narratedby:DanRus...|  2 hrs and 3 mins| 06-11-2020| English|4.5 out of 5 star...|  410|\n",
            "|Daughter of the Deep|Writtenby:RickRio...|Narratedby:Soneel...|11 hrs and 16 mins| 05-10-2021| English|4.5 out of 5 star...|  615|\n",
            "|The Lightning Thi...|Writtenby:RickRio...|Narratedby:JesseB...|            10 hrs| 13-01-2010| English|4.5 out of 5 star...|  820|\n",
            "|The Hunger Games:...|Writtenby:Suzanne...|Narratedby:Tatian...|10 hrs and 35 mins| 30-10-2018| English|5 out of 5 stars7...|  656|\n",
            "|Quest for the Dia...|Writtenby:WinterM...|Narratedby:LukeDa...| 2 hrs and 23 mins| 25-11-2014| English|5 out of 5 stars1...|  233|\n",
            "|   The Dark Prophecy|Writtenby:RickRio...|Narratedby:Robbie...|12 hrs and 32 mins| 02-05-2017| English|5 out of 5 stars5...|  820|\n",
            "|Merlin Mission Co...|Writtenby:MaryPop...|Narratedby:MaryPo...|10 hrs and 56 mins| 02-05-2017| English|5 out of 5 stars5...| 1256|\n",
            "|   The Tyrant’s Tomb|Writtenby:RickRio...|Narratedby:Robbie...|13 hrs and 22 mins| 24-09-2019| English|5 out of 5 stars5...|  820|\n",
            "|The Titan's Curse...|Writtenby:RickRio...|Narratedby:JesseB...| 8 hrs and 48 mins| 14-01-2010| English|4.5 out of 5 star...|  820|\n",
            "|Magic Tree House ...|Writtenby:MaryPop...|Narratedby:MaryPo...| 5 hrs and 23 mins| 24-08-2011| English|5 out of 5 stars6...| 1206|\n",
            "|Magic Tree House ...|                NULL|Narratedby:MaryPo...|   6 hrs and 1 min| 27-09-2011| English|5 out of 5 stars7...| 1206|\n",
            "|Magnus Chase and ...|Writtenby:RickRio...|Narratedby:Michae...|12 hrs and 58 mins| 03-10-2017| English|5 out of 5 stars4...|  820|\n",
            "|     Northern Lights|Writtenby:PhilipP...|Narratedby:Philip...|11 hrs and 55 mins| 24-06-2021| English|4 out of 5 stars2...| 1093|\n",
            "|Geronimo Stilton ...|Writtenby:Geronim...|Narratedby:BillLo...| 2 hrs and 25 mins| 08-02-2008| English|4.5 out of 5 star...|  467|\n",
            "|Magic Tree House ...|Writtenby:MaryPop...|Narratedby:MaryPo...|  5 hrs and 4 mins| 26-12-2004| English|5 out of 5 stars7...| 1206|\n",
            "|               Exile|Writtenby:Shannon...|Narratedby:Caitli...|14 hrs and 41 mins| 06-11-2018| English|5 out of 5 stars2...|  836|\n",
            "|Merlin Mission Co...|Writtenby:MaryPop...|Narratedby:MaryPo...|10 hrs and 18 mins| 02-05-2017| English|5 out of 5 stars1...| 1256|\n",
            "|           Neverseen|Writtenby:Shannon...|Narratedby:Caitli...|16 hrs and 42 mins| 06-11-2018| English|5 out of 5 stars1...| 1003|\n",
            "+--------------------+--------------------+--------------------+------------------+-----------+--------+--------------------+-----+\n",
            "only showing top 20 rows\n",
            "\n"
          ]
        }
      ]
    },
    {
      "cell_type": "code",
      "source": [
        "df = df.fillna({\"author\":\"Writtenby:Unknown\"})\n",
        "df = df.dropna(subset=[\"stars\"])"
      ],
      "metadata": {
        "id": "Ga5oukLC1G9l"
      },
      "execution_count": null,
      "outputs": []
    },
    {
      "cell_type": "code",
      "source": [
        "df = df.withColumn(\"author\",regexp_replace(\"author\",\"Writtenby:\",\"\"))\n",
        "df = df.withColumn(\"narrator\",regexp_replace(\"narrator\",\"Narratedby:\",\"\"))\n",
        "df.show()"
      ],
      "metadata": {
        "colab": {
          "base_uri": "https://localhost:8080/"
        },
        "id": "i20sJ4jnBNFW",
        "outputId": "acc77a48-3c56-4b5c-f051-5b89dd740826"
      },
      "execution_count": null,
      "outputs": [
        {
          "output_type": "stream",
          "name": "stdout",
          "text": [
            "+--------------------+----------------+--------------------+------------------+-----------+--------+--------------------+-----+\n",
            "|                name|          author|            narrator|              time|releasedate|language|               stars|price|\n",
            "+--------------------+----------------+--------------------+------------------+-----------+--------+--------------------+-----+\n",
            "|Geronimo Stilton ...| GeronimoStilton|          BillLobely| 2 hrs and 20 mins| 04-08-2008| English|5 out of 5 stars3...|  468|\n",
            "|    The Burning Maze|     RickRiordan|       RobbieDaymond| 13 hrs and 8 mins| 01-05-2018| English|4.5 out of 5 star...|  820|\n",
            "|        The Deep End|      JeffKinney|          DanRussell|  2 hrs and 3 mins| 06-11-2020| English|4.5 out of 5 star...|  410|\n",
            "|Daughter of the Deep|     RickRiordan|      SoneelaNankani|11 hrs and 16 mins| 05-10-2021| English|4.5 out of 5 star...|  615|\n",
            "|The Lightning Thi...|     RickRiordan|      JesseBernstein|            10 hrs| 13-01-2010| English|4.5 out of 5 star...|  820|\n",
            "|The Hunger Games:...|  SuzanneCollins|      TatianaMaslany|10 hrs and 35 mins| 30-10-2018| English|5 out of 5 stars7...|  656|\n",
            "|Quest for the Dia...|    WinterMorgan|         LukeDaniels| 2 hrs and 23 mins| 25-11-2014| English|5 out of 5 stars1...|  233|\n",
            "|   The Dark Prophecy|     RickRiordan|       RobbieDaymond|12 hrs and 32 mins| 02-05-2017| English|5 out of 5 stars5...|  820|\n",
            "|Merlin Mission Co...| MaryPopeOsborne|     MaryPopeOsborne|10 hrs and 56 mins| 02-05-2017| English|5 out of 5 stars5...| 1256|\n",
            "|   The Tyrant’s Tomb|     RickRiordan|       RobbieDaymond|13 hrs and 22 mins| 24-09-2019| English|5 out of 5 stars5...|  820|\n",
            "|The Titan's Curse...|     RickRiordan|      JesseBernstein| 8 hrs and 48 mins| 14-01-2010| English|4.5 out of 5 star...|  820|\n",
            "|Magic Tree House ...| MaryPopeOsborne|     MaryPopeOsborne| 5 hrs and 23 mins| 24-08-2011| English|5 out of 5 stars6...| 1206|\n",
            "|Magic Tree House ...|         Unknown|     MaryPopeOsborne|   6 hrs and 1 min| 27-09-2011| English|5 out of 5 stars7...| 1206|\n",
            "|Magnus Chase and ...|     RickRiordan|       MichaelCrouch|12 hrs and 58 mins| 03-10-2017| English|5 out of 5 stars4...|  820|\n",
            "|     Northern Lights|   PhilipPullman|PhilipPullman,ful...|11 hrs and 55 mins| 24-06-2021| English|4 out of 5 stars2...| 1093|\n",
            "|Geronimo Stilton ...| GeronimoStilton|          BillLobley| 2 hrs and 25 mins| 08-02-2008| English|4.5 out of 5 star...|  467|\n",
            "|Magic Tree House ...| MaryPopeOsborne|     MaryPopeOsborne|  5 hrs and 4 mins| 26-12-2004| English|5 out of 5 stars7...| 1206|\n",
            "|               Exile|ShannonMessenger|        CaitlinKelly|14 hrs and 41 mins| 06-11-2018| English|5 out of 5 stars2...|  836|\n",
            "|Merlin Mission Co...| MaryPopeOsborne|     MaryPopeOsborne|10 hrs and 18 mins| 02-05-2017| English|5 out of 5 stars1...| 1256|\n",
            "|           Neverseen|ShannonMessenger|        CaitlinKelly|16 hrs and 42 mins| 06-11-2018| English|5 out of 5 stars1...| 1003|\n",
            "+--------------------+----------------+--------------------+------------------+-----------+--------+--------------------+-----+\n",
            "only showing top 20 rows\n",
            "\n"
          ]
        }
      ]
    },
    {
      "cell_type": "code",
      "source": [
        "df.select(min(\"price\")).show()\n",
        "df.select(max(\"price\")).show()\n",
        "df = df.filter((col(\"price\")>=100)& (col(\"price\")<=2000))"
      ],
      "metadata": {
        "colab": {
          "base_uri": "https://localhost:8080/"
        },
        "id": "zA5AG_zmCtFk",
        "outputId": "6747a1a7-c926-481b-86a5-04b5bb01794e"
      },
      "execution_count": null,
      "outputs": [
        {
          "output_type": "stream",
          "name": "stdout",
          "text": [
            "+----------+\n",
            "|min(price)|\n",
            "+----------+\n",
            "|        32|\n",
            "+----------+\n",
            "\n",
            "+----------+\n",
            "|max(price)|\n",
            "+----------+\n",
            "|    263566|\n",
            "+----------+\n",
            "\n"
          ]
        }
      ]
    },
    {
      "cell_type": "code",
      "source": [
        "df.show()"
      ],
      "metadata": {
        "colab": {
          "base_uri": "https://localhost:8080/"
        },
        "id": "P_1kQiKxC9HZ",
        "outputId": "e4d6b169-1dcc-45b0-f73a-466f467cb712"
      },
      "execution_count": null,
      "outputs": [
        {
          "output_type": "stream",
          "name": "stdout",
          "text": [
            "+--------------------+----------------+--------------------+------------------+-----------+--------+--------------------+-----+\n",
            "|                name|          author|            narrator|              time|releasedate|language|               stars|price|\n",
            "+--------------------+----------------+--------------------+------------------+-----------+--------+--------------------+-----+\n",
            "|Geronimo Stilton ...| GeronimoStilton|          BillLobely| 2 hrs and 20 mins| 04-08-2008| English|5 out of 5 stars3...|  468|\n",
            "|    The Burning Maze|     RickRiordan|       RobbieDaymond| 13 hrs and 8 mins| 01-05-2018| English|4.5 out of 5 star...|  820|\n",
            "|        The Deep End|      JeffKinney|          DanRussell|  2 hrs and 3 mins| 06-11-2020| English|4.5 out of 5 star...|  410|\n",
            "|Daughter of the Deep|     RickRiordan|      SoneelaNankani|11 hrs and 16 mins| 05-10-2021| English|4.5 out of 5 star...|  615|\n",
            "|The Lightning Thi...|     RickRiordan|      JesseBernstein|            10 hrs| 13-01-2010| English|4.5 out of 5 star...|  820|\n",
            "|The Hunger Games:...|  SuzanneCollins|      TatianaMaslany|10 hrs and 35 mins| 30-10-2018| English|5 out of 5 stars7...|  656|\n",
            "|Quest for the Dia...|    WinterMorgan|         LukeDaniels| 2 hrs and 23 mins| 25-11-2014| English|5 out of 5 stars1...|  233|\n",
            "|   The Dark Prophecy|     RickRiordan|       RobbieDaymond|12 hrs and 32 mins| 02-05-2017| English|5 out of 5 stars5...|  820|\n",
            "|Merlin Mission Co...| MaryPopeOsborne|     MaryPopeOsborne|10 hrs and 56 mins| 02-05-2017| English|5 out of 5 stars5...| 1256|\n",
            "|   The Tyrant’s Tomb|     RickRiordan|       RobbieDaymond|13 hrs and 22 mins| 24-09-2019| English|5 out of 5 stars5...|  820|\n",
            "|The Titan's Curse...|     RickRiordan|      JesseBernstein| 8 hrs and 48 mins| 14-01-2010| English|4.5 out of 5 star...|  820|\n",
            "|Magic Tree House ...| MaryPopeOsborne|     MaryPopeOsborne| 5 hrs and 23 mins| 24-08-2011| English|5 out of 5 stars6...| 1206|\n",
            "|Magic Tree House ...|         Unknown|     MaryPopeOsborne|   6 hrs and 1 min| 27-09-2011| English|5 out of 5 stars7...| 1206|\n",
            "|Magnus Chase and ...|     RickRiordan|       MichaelCrouch|12 hrs and 58 mins| 03-10-2017| English|5 out of 5 stars4...|  820|\n",
            "|     Northern Lights|   PhilipPullman|PhilipPullman,ful...|11 hrs and 55 mins| 24-06-2021| English|4 out of 5 stars2...| 1093|\n",
            "|Geronimo Stilton ...| GeronimoStilton|          BillLobley| 2 hrs and 25 mins| 08-02-2008| English|4.5 out of 5 star...|  467|\n",
            "|Magic Tree House ...| MaryPopeOsborne|     MaryPopeOsborne|  5 hrs and 4 mins| 26-12-2004| English|5 out of 5 stars7...| 1206|\n",
            "|               Exile|ShannonMessenger|        CaitlinKelly|14 hrs and 41 mins| 06-11-2018| English|5 out of 5 stars2...|  836|\n",
            "|Merlin Mission Co...| MaryPopeOsborne|     MaryPopeOsborne|10 hrs and 18 mins| 02-05-2017| English|5 out of 5 stars1...| 1256|\n",
            "|           Neverseen|ShannonMessenger|        CaitlinKelly|16 hrs and 42 mins| 06-11-2018| English|5 out of 5 stars1...| 1003|\n",
            "+--------------------+----------------+--------------------+------------------+-----------+--------+--------------------+-----+\n",
            "only showing top 20 rows\n",
            "\n"
          ]
        }
      ]
    },
    {
      "cell_type": "code",
      "source": [
        "hours = regexp_extract(col(\"time\"), r\"(\\d+)\\s*hrs\", 1)\n",
        "minutes = regexp_extract(col(\"time\"), r\"(\\d+)\\s*mins\", 1)\n",
        "\n",
        "df = df.withColumn(\"hours\", when(hours == \"\", 0).otherwise(hours.cast(\"int\")))\n",
        "df = df.withColumn(\"minutes\", when(minutes == \"\", 0).otherwise(minutes.cast(\"int\")))\n",
        "df = df.withColumn(\"total_time_mins\", (col(\"hours\") * 60 + col(\"minutes\")))\n",
        "\n",
        "df = df.drop(\"hours\",\"minutes\")\n",
        "df.show()"
      ],
      "metadata": {
        "colab": {
          "base_uri": "https://localhost:8080/"
        },
        "id": "CnDsakrMDfGy",
        "outputId": "149eab3d-ec9f-495e-de22-d7eb40727d47"
      },
      "execution_count": null,
      "outputs": [
        {
          "output_type": "stream",
          "name": "stdout",
          "text": [
            "+--------------------+----------------+--------------------+------------------+-----------+--------+--------------------+-----+---------------+\n",
            "|                name|          author|            narrator|              time|releasedate|language|               stars|price|total_time_mins|\n",
            "+--------------------+----------------+--------------------+------------------+-----------+--------+--------------------+-----+---------------+\n",
            "|Geronimo Stilton ...| GeronimoStilton|          BillLobely| 2 hrs and 20 mins| 04-08-2008| English|5 out of 5 stars3...|  468|            140|\n",
            "|    The Burning Maze|     RickRiordan|       RobbieDaymond| 13 hrs and 8 mins| 01-05-2018| English|4.5 out of 5 star...|  820|            788|\n",
            "|        The Deep End|      JeffKinney|          DanRussell|  2 hrs and 3 mins| 06-11-2020| English|4.5 out of 5 star...|  410|            123|\n",
            "|Daughter of the Deep|     RickRiordan|      SoneelaNankani|11 hrs and 16 mins| 05-10-2021| English|4.5 out of 5 star...|  615|            676|\n",
            "|The Lightning Thi...|     RickRiordan|      JesseBernstein|            10 hrs| 13-01-2010| English|4.5 out of 5 star...|  820|            600|\n",
            "|The Hunger Games:...|  SuzanneCollins|      TatianaMaslany|10 hrs and 35 mins| 30-10-2018| English|5 out of 5 stars7...|  656|            635|\n",
            "|Quest for the Dia...|    WinterMorgan|         LukeDaniels| 2 hrs and 23 mins| 25-11-2014| English|5 out of 5 stars1...|  233|            143|\n",
            "|   The Dark Prophecy|     RickRiordan|       RobbieDaymond|12 hrs and 32 mins| 02-05-2017| English|5 out of 5 stars5...|  820|            752|\n",
            "|Merlin Mission Co...| MaryPopeOsborne|     MaryPopeOsborne|10 hrs and 56 mins| 02-05-2017| English|5 out of 5 stars5...| 1256|            656|\n",
            "|   The Tyrant’s Tomb|     RickRiordan|       RobbieDaymond|13 hrs and 22 mins| 24-09-2019| English|5 out of 5 stars5...|  820|            802|\n",
            "|The Titan's Curse...|     RickRiordan|      JesseBernstein| 8 hrs and 48 mins| 14-01-2010| English|4.5 out of 5 star...|  820|            528|\n",
            "|Magic Tree House ...| MaryPopeOsborne|     MaryPopeOsborne| 5 hrs and 23 mins| 24-08-2011| English|5 out of 5 stars6...| 1206|            323|\n",
            "|Magic Tree House ...|         Unknown|     MaryPopeOsborne|   6 hrs and 1 min| 27-09-2011| English|5 out of 5 stars7...| 1206|            360|\n",
            "|Magnus Chase and ...|     RickRiordan|       MichaelCrouch|12 hrs and 58 mins| 03-10-2017| English|5 out of 5 stars4...|  820|            778|\n",
            "|     Northern Lights|   PhilipPullman|PhilipPullman,ful...|11 hrs and 55 mins| 24-06-2021| English|4 out of 5 stars2...| 1093|            715|\n",
            "|Geronimo Stilton ...| GeronimoStilton|          BillLobley| 2 hrs and 25 mins| 08-02-2008| English|4.5 out of 5 star...|  467|            145|\n",
            "|Magic Tree House ...| MaryPopeOsborne|     MaryPopeOsborne|  5 hrs and 4 mins| 26-12-2004| English|5 out of 5 stars7...| 1206|            304|\n",
            "|               Exile|ShannonMessenger|        CaitlinKelly|14 hrs and 41 mins| 06-11-2018| English|5 out of 5 stars2...|  836|            881|\n",
            "|Merlin Mission Co...| MaryPopeOsborne|     MaryPopeOsborne|10 hrs and 18 mins| 02-05-2017| English|5 out of 5 stars1...| 1256|            618|\n",
            "|           Neverseen|ShannonMessenger|        CaitlinKelly|16 hrs and 42 mins| 06-11-2018| English|5 out of 5 stars1...| 1003|           1002|\n",
            "+--------------------+----------------+--------------------+------------------+-----------+--------+--------------------+-----+---------------+\n",
            "only showing top 20 rows\n",
            "\n"
          ]
        }
      ]
    },
    {
      "cell_type": "code",
      "source": [
        "df = df.withColumn(\"releasedate\", to_date(col(\"releasedate\"), \"dd-MM-yyyy\"))\n",
        "df.show()"
      ],
      "metadata": {
        "colab": {
          "base_uri": "https://localhost:8080/"
        },
        "id": "srkzkb2ZEhk_",
        "outputId": "f194c1e4-a00b-4a22-f30b-adbbca673804"
      },
      "execution_count": null,
      "outputs": [
        {
          "output_type": "stream",
          "name": "stdout",
          "text": [
            "+--------------------+----------------+--------------------+------------------+-----------+--------+--------------------+-----+---------------+\n",
            "|                name|          author|            narrator|              time|releasedate|language|               stars|price|total_time_mins|\n",
            "+--------------------+----------------+--------------------+------------------+-----------+--------+--------------------+-----+---------------+\n",
            "|Geronimo Stilton ...| GeronimoStilton|          BillLobely| 2 hrs and 20 mins| 2008-08-04| English|5 out of 5 stars3...|  468|            140|\n",
            "|    The Burning Maze|     RickRiordan|       RobbieDaymond| 13 hrs and 8 mins| 2018-05-01| English|4.5 out of 5 star...|  820|            788|\n",
            "|        The Deep End|      JeffKinney|          DanRussell|  2 hrs and 3 mins| 2020-11-06| English|4.5 out of 5 star...|  410|            123|\n",
            "|Daughter of the Deep|     RickRiordan|      SoneelaNankani|11 hrs and 16 mins| 2021-10-05| English|4.5 out of 5 star...|  615|            676|\n",
            "|The Lightning Thi...|     RickRiordan|      JesseBernstein|            10 hrs| 2010-01-13| English|4.5 out of 5 star...|  820|            600|\n",
            "|The Hunger Games:...|  SuzanneCollins|      TatianaMaslany|10 hrs and 35 mins| 2018-10-30| English|5 out of 5 stars7...|  656|            635|\n",
            "|Quest for the Dia...|    WinterMorgan|         LukeDaniels| 2 hrs and 23 mins| 2014-11-25| English|5 out of 5 stars1...|  233|            143|\n",
            "|   The Dark Prophecy|     RickRiordan|       RobbieDaymond|12 hrs and 32 mins| 2017-05-02| English|5 out of 5 stars5...|  820|            752|\n",
            "|Merlin Mission Co...| MaryPopeOsborne|     MaryPopeOsborne|10 hrs and 56 mins| 2017-05-02| English|5 out of 5 stars5...| 1256|            656|\n",
            "|   The Tyrant’s Tomb|     RickRiordan|       RobbieDaymond|13 hrs and 22 mins| 2019-09-24| English|5 out of 5 stars5...|  820|            802|\n",
            "|The Titan's Curse...|     RickRiordan|      JesseBernstein| 8 hrs and 48 mins| 2010-01-14| English|4.5 out of 5 star...|  820|            528|\n",
            "|Magic Tree House ...| MaryPopeOsborne|     MaryPopeOsborne| 5 hrs and 23 mins| 2011-08-24| English|5 out of 5 stars6...| 1206|            323|\n",
            "|Magic Tree House ...|         Unknown|     MaryPopeOsborne|   6 hrs and 1 min| 2011-09-27| English|5 out of 5 stars7...| 1206|            360|\n",
            "|Magnus Chase and ...|     RickRiordan|       MichaelCrouch|12 hrs and 58 mins| 2017-10-03| English|5 out of 5 stars4...|  820|            778|\n",
            "|     Northern Lights|   PhilipPullman|PhilipPullman,ful...|11 hrs and 55 mins| 2021-06-24| English|4 out of 5 stars2...| 1093|            715|\n",
            "|Geronimo Stilton ...| GeronimoStilton|          BillLobley| 2 hrs and 25 mins| 2008-02-08| English|4.5 out of 5 star...|  467|            145|\n",
            "|Magic Tree House ...| MaryPopeOsborne|     MaryPopeOsborne|  5 hrs and 4 mins| 2004-12-26| English|5 out of 5 stars7...| 1206|            304|\n",
            "|               Exile|ShannonMessenger|        CaitlinKelly|14 hrs and 41 mins| 2018-11-06| English|5 out of 5 stars2...|  836|            881|\n",
            "|Merlin Mission Co...| MaryPopeOsborne|     MaryPopeOsborne|10 hrs and 18 mins| 2017-05-02| English|5 out of 5 stars1...| 1256|            618|\n",
            "|           Neverseen|ShannonMessenger|        CaitlinKelly|16 hrs and 42 mins| 2018-11-06| English|5 out of 5 stars1...| 1003|           1002|\n",
            "+--------------------+----------------+--------------------+------------------+-----------+--------+--------------------+-----+---------------+\n",
            "only showing top 20 rows\n",
            "\n"
          ]
        }
      ]
    },
    {
      "cell_type": "code",
      "source": [
        "df = df.withColumn(\"stars1\", regexp_extract(col(\"stars\"), r\"(\\d+(\\.\\d+)?)\", 1).cast(\"double\"))\n",
        "df = df.withColumn(\"ratings\", regexp_extract(col(\"stars\"), r\"stars(\\d+)\", 1).cast(\"int\"))\n",
        "df.show()"
      ],
      "metadata": {
        "colab": {
          "base_uri": "https://localhost:8080/"
        },
        "id": "5rH-GiFZFV47",
        "outputId": "43c27993-f9b4-4c8f-fc60-391cefa84ba9"
      },
      "execution_count": null,
      "outputs": [
        {
          "output_type": "stream",
          "name": "stdout",
          "text": [
            "+--------------------+----------------+--------------------+------------------+-----------+--------+--------------------+-----+---------------+------+-------+\n",
            "|                name|          author|            narrator|              time|releasedate|language|               stars|price|total_time_mins|stars1|ratings|\n",
            "+--------------------+----------------+--------------------+------------------+-----------+--------+--------------------+-----+---------------+------+-------+\n",
            "|Geronimo Stilton ...| GeronimoStilton|          BillLobely| 2 hrs and 20 mins| 2008-08-04| English|5 out of 5 stars3...|  468|            140|   5.0|     34|\n",
            "|    The Burning Maze|     RickRiordan|       RobbieDaymond| 13 hrs and 8 mins| 2018-05-01| English|4.5 out of 5 star...|  820|            788|   4.5|     41|\n",
            "|        The Deep End|      JeffKinney|          DanRussell|  2 hrs and 3 mins| 2020-11-06| English|4.5 out of 5 star...|  410|            123|   4.5|     38|\n",
            "|Daughter of the Deep|     RickRiordan|      SoneelaNankani|11 hrs and 16 mins| 2021-10-05| English|4.5 out of 5 star...|  615|            676|   4.5|     12|\n",
            "|The Lightning Thi...|     RickRiordan|      JesseBernstein|            10 hrs| 2010-01-13| English|4.5 out of 5 star...|  820|            600|   4.5|    181|\n",
            "|The Hunger Games:...|  SuzanneCollins|      TatianaMaslany|10 hrs and 35 mins| 2018-10-30| English|5 out of 5 stars7...|  656|            635|   5.0|     72|\n",
            "|Quest for the Dia...|    WinterMorgan|         LukeDaniels| 2 hrs and 23 mins| 2014-11-25| English|5 out of 5 stars1...|  233|            143|   5.0|     11|\n",
            "|   The Dark Prophecy|     RickRiordan|       RobbieDaymond|12 hrs and 32 mins| 2017-05-02| English|5 out of 5 stars5...|  820|            752|   5.0|     50|\n",
            "|Merlin Mission Co...| MaryPopeOsborne|     MaryPopeOsborne|10 hrs and 56 mins| 2017-05-02| English|5 out of 5 stars5...| 1256|            656|   5.0|      5|\n",
            "|   The Tyrant’s Tomb|     RickRiordan|       RobbieDaymond|13 hrs and 22 mins| 2019-09-24| English|5 out of 5 stars5...|  820|            802|   5.0|     58|\n",
            "|The Titan's Curse...|     RickRiordan|      JesseBernstein| 8 hrs and 48 mins| 2010-01-14| English|4.5 out of 5 star...|  820|            528|   4.5|    130|\n",
            "|Magic Tree House ...| MaryPopeOsborne|     MaryPopeOsborne| 5 hrs and 23 mins| 2011-08-24| English|5 out of 5 stars6...| 1206|            323|   5.0|      6|\n",
            "|Magic Tree House ...|         Unknown|     MaryPopeOsborne|   6 hrs and 1 min| 2011-09-27| English|5 out of 5 stars7...| 1206|            360|   5.0|      7|\n",
            "|Magnus Chase and ...|     RickRiordan|       MichaelCrouch|12 hrs and 58 mins| 2017-10-03| English|5 out of 5 stars4...|  820|            778|   5.0|     41|\n",
            "|     Northern Lights|   PhilipPullman|PhilipPullman,ful...|11 hrs and 55 mins| 2021-06-24| English|4 out of 5 stars2...| 1093|            715|   4.0|      2|\n",
            "|Geronimo Stilton ...| GeronimoStilton|          BillLobley| 2 hrs and 25 mins| 2008-02-08| English|4.5 out of 5 star...|  467|            145|   4.5|     33|\n",
            "|Magic Tree House ...| MaryPopeOsborne|     MaryPopeOsborne|  5 hrs and 4 mins| 2004-12-26| English|5 out of 5 stars7...| 1206|            304|   5.0|      7|\n",
            "|               Exile|ShannonMessenger|        CaitlinKelly|14 hrs and 41 mins| 2018-11-06| English|5 out of 5 stars2...|  836|            881|   5.0|     20|\n",
            "|Merlin Mission Co...| MaryPopeOsborne|     MaryPopeOsborne|10 hrs and 18 mins| 2017-05-02| English|5 out of 5 stars1...| 1256|            618|   5.0|     11|\n",
            "|           Neverseen|ShannonMessenger|        CaitlinKelly|16 hrs and 42 mins| 2018-11-06| English|5 out of 5 stars1...| 1003|           1002|   5.0|     13|\n",
            "+--------------------+----------------+--------------------+------------------+-----------+--------+--------------------+-----+---------------+------+-------+\n",
            "only showing top 20 rows\n",
            "\n"
          ]
        }
      ]
    },
    {
      "cell_type": "code",
      "source": [
        "df = df.toPandas()\n",
        "df.to_csv(\"cleaned_audible.csv\")"
      ],
      "metadata": {
        "id": "cza7cV_ZJWCH"
      },
      "execution_count": null,
      "outputs": []
    }
  ]
}