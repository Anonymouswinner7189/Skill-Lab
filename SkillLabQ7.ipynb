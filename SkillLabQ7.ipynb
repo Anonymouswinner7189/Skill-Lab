{
  "nbformat": 4,
  "nbformat_minor": 0,
  "metadata": {
    "colab": {
      "provenance": []
    },
    "kernelspec": {
      "name": "python3",
      "display_name": "Python 3"
    },
    "language_info": {
      "name": "python"
    }
  },
  "cells": [
    {
      "cell_type": "code",
      "execution_count": null,
      "metadata": {
        "id": "0P717emYl3bI"
      },
      "outputs": [],
      "source": [
        "from pyspark import *;\n",
        "from pyspark.sql import *;\n",
        "from pyspark.sql.functions import *;\n",
        "import pandas as pd;"
      ]
    },
    {
      "cell_type": "code",
      "source": [
        "spark = SparkSession.builder.appName(\"Q7\").getOrCreate()\n",
        "\n",
        "df = spark.read.csv(\"phone_usage_india.csv\",header=True,inferSchema=True)\n",
        "df.printSchema()\n",
        "df.show()"
      ],
      "metadata": {
        "colab": {
          "base_uri": "https://localhost:8080/"
        },
        "id": "_sTIevfhmCEJ",
        "outputId": "1483ceb8-9168-4591-b0bf-11545c327141"
      },
      "execution_count": null,
      "outputs": [
        {
          "output_type": "stream",
          "name": "stdout",
          "text": [
            "root\n",
            " |-- User ID: string (nullable = true)\n",
            " |-- Age: integer (nullable = true)\n",
            " |-- Gender: string (nullable = true)\n",
            " |-- Location: string (nullable = true)\n",
            " |-- Phone Brand: string (nullable = true)\n",
            " |-- OS: string (nullable = true)\n",
            " |-- Screen Time (hrs/day): double (nullable = true)\n",
            " |-- Data Usage (GB/month): double (nullable = true)\n",
            " |-- Calls Duration (mins/day): double (nullable = true)\n",
            " |-- Number of Apps Installed: integer (nullable = true)\n",
            " |-- Social Media Time (hrs/day): double (nullable = true)\n",
            " |-- E-commerce Spend (INR/month): integer (nullable = true)\n",
            " |-- Streaming Time (hrs/day): double (nullable = true)\n",
            " |-- Gaming Time (hrs/day): double (nullable = true)\n",
            " |-- Monthly Recharge Cost (INR): integer (nullable = true)\n",
            " |-- Primary Use: string (nullable = true)\n",
            "\n",
            "+-------+---+------+---------+------------+-------+---------------------+---------------------+-------------------------+------------------------+---------------------------+----------------------------+------------------------+---------------------+---------------------------+-------------+\n",
            "|User ID|Age|Gender| Location| Phone Brand|     OS|Screen Time (hrs/day)|Data Usage (GB/month)|Calls Duration (mins/day)|Number of Apps Installed|Social Media Time (hrs/day)|E-commerce Spend (INR/month)|Streaming Time (hrs/day)|Gaming Time (hrs/day)|Monthly Recharge Cost (INR)|  Primary Use|\n",
            "+-------+---+------+---------+------------+-------+---------------------+---------------------+-------------------------+------------------------+---------------------------+----------------------------+------------------------+---------------------+---------------------------+-------------+\n",
            "| U00001| 53|  Male|   Mumbai|        Vivo|Android|                  3.7|                 23.9|                     37.9|                     104|                        3.9|                         469|                     5.2|                  4.1|                        803|    Education|\n",
            "| U00002| 60| Other|    Delhi|      Realme|  apple|                  9.2|                 28.1|                     13.7|                     169|                        2.8|                        4997|                     5.1|                  0.4|                       1526|       Gaming|\n",
            "| U00003| 37|Female|Ahmedabad|       Nokia|Android|                  4.5|                 12.3|                     66.8|                      96|                        3.0|                        2381|                     1.7|                  2.9|                       1619|Entertainment|\n",
            "| U00004| 32|  Male|     Pune|     Samsung|Android|                 11.0|                 25.6|                    156.2|                     146|                        5.2|                        1185|                     3.2|                  0.3|                       1560|Entertainment|\n",
            "| U00005| 16|  Male|   Mumbai|      Xiaomi|  apple|                  2.2|                  2.5|                    236.2|                      86|                        5.5|                         106|                     3.4|                  2.3|                        742| Social Media|\n",
            "| U00006| 21|  Male|   Jaipur|        Oppo|  apple|                  5.4|                 10.6|                    210.6|                      25|                        4.2|                        6285|                     0.6|                  4.8|                       1749|Entertainment|\n",
            "| U00007|157|Female|  Lucknow|       Apple|  apple|                  6.0|                 35.2|                    154.5|                     123|                        0.8|                        2653|                     2.9|                  2.3|                       1073| Social Media|\n",
            "| U00008| 56| Other|  Kolkata|      Realme|  apple|                  3.1|                 43.5|                    125.3|                     188|                        2.3|                        9767|                     5.2|                  5.0|                       1136|Entertainment|\n",
            "| U00009| 46|Female|  Kolkata|        Oppo|Android|                  5.3|                 46.4|                     21.3|                     194|                        3.7|                        2870|                     6.1|                  2.8|                       1253|Entertainment|\n",
            "| U00010|144| Other|  Kolkata|       Apple|  apple|                  9.9|                 10.6|                    180.2|                      84|                        4.8|                        9193|                     7.6|                  0.4|                        168|    Education|\n",
            "| U00011|155| Other|  Lucknow|       Nokia|Android|                  1.6|                 23.7|                    192.0|                      27|                        3.1|                        9330|                     1.2|                  2.3|                       1098|         Work|\n",
            "| U00012| 41|Female|    Delhi|        Oppo|Android|                  7.5|                 23.5|                     84.9|                     187|                        0.9|                         643|                     3.5|                  2.7|                        151| Social Media|\n",
            "| U00013| 53|  Male|     NULL|      Realme|  apple|                 10.5|                  1.4|                     33.7|                     137|                        4.5|                        7854|                     7.2|                  1.4|                        240|    Education|\n",
            "| U00014|135|  Male|     NULL|      Realme|Android|                 10.3|                 32.4|                    247.1|                     124|                        5.2|                        3347|                     3.8|                  4.5|                        972| Social Media|\n",
            "| U00015| 33|Female|     NULL|     Samsung|  apple|                  1.7|                 33.2|                    208.8|                     121|                        3.0|                        3185|                     4.2|                  0.5|                       1046|Entertainment|\n",
            "| U00016|152|  Male|     NULL|Google Pixel|Android|                  5.1|                 28.5|                    169.2|                     161|                        4.6|                        6175|                     4.4|                  4.3|                       1769|         Work|\n",
            "| U00017| 46| Other|     NULL|       Apple|Android|                  3.1|                 23.6|                    153.9|                     183|                        2.5|                        6242|                     6.2|                  0.4|                       1679|    Education|\n",
            "| U00018| 54|  Male|  Kolkata|       Apple|Android|                 11.6|                 12.6|                    210.4|                      62|                        4.9|                        4642|                     0.9|                  4.1|                       1360|Entertainment|\n",
            "| U00019| 50|Female|  Chennai|Google Pixel|Android|                  5.3|                  5.2|                    235.6|                     188|                        4.6|                        1120|                     1.0|                  0.8|                       1639|         Work|\n",
            "| U00020| 40| Other|Hyderabad|    Motorola|  apple|                  9.0|                 38.9|                    289.6|                      62|                        2.4|                        8012|                     7.7|                  2.0|                       1224|         Work|\n",
            "+-------+---+------+---------+------------+-------+---------------------+---------------------+-------------------------+------------------------+---------------------------+----------------------------+------------------------+---------------------+---------------------------+-------------+\n",
            "only showing top 20 rows\n",
            "\n"
          ]
        }
      ]
    },
    {
      "cell_type": "code",
      "source": [
        "df.select([count(when(isnull(c)|isnan(c),c)).alias(c) for c in df.columns]).show()"
      ],
      "metadata": {
        "colab": {
          "base_uri": "https://localhost:8080/"
        },
        "id": "WHtBWR2nmHj8",
        "outputId": "efeaa8eb-2d54-4484-ada3-c5ab0878868e"
      },
      "execution_count": null,
      "outputs": [
        {
          "output_type": "stream",
          "name": "stdout",
          "text": [
            "+-------+---+------+--------+-----------+---+---------------------+---------------------+-------------------------+------------------------+---------------------------+----------------------------+------------------------+---------------------+---------------------------+-----------+\n",
            "|User ID|Age|Gender|Location|Phone Brand| OS|Screen Time (hrs/day)|Data Usage (GB/month)|Calls Duration (mins/day)|Number of Apps Installed|Social Media Time (hrs/day)|E-commerce Spend (INR/month)|Streaming Time (hrs/day)|Gaming Time (hrs/day)|Monthly Recharge Cost (INR)|Primary Use|\n",
            "+-------+---+------+--------+-----------+---+---------------------+---------------------+-------------------------+------------------------+---------------------------+----------------------------+------------------------+---------------------+---------------------------+-----------+\n",
            "|      0|  0|     0|      18|          0|  0|                    0|                    0|                        0|                       0|                          0|                           0|                       0|                    0|                          0|          0|\n",
            "+-------+---+------+--------+-----------+---+---------------------+---------------------+-------------------------+------------------------+---------------------------+----------------------------+------------------------+---------------------+---------------------------+-----------+\n",
            "\n"
          ]
        }
      ]
    },
    {
      "cell_type": "code",
      "source": [
        "df = df.filter((col(\"Age\")>=18)&(col(\"Age\")<=90))\n",
        "df.show()"
      ],
      "metadata": {
        "colab": {
          "base_uri": "https://localhost:8080/"
        },
        "id": "StAkdi_WmdLA",
        "outputId": "e6c0895b-3020-4314-a623-d2fdaf5087d2"
      },
      "execution_count": null,
      "outputs": [
        {
          "output_type": "stream",
          "name": "stdout",
          "text": [
            "+-------+---+------+---------+------------+-------+---------------------+---------------------+-------------------------+------------------------+---------------------------+----------------------------+------------------------+---------------------+---------------------------+-------------+\n",
            "|User ID|Age|Gender| Location| Phone Brand|     OS|Screen Time (hrs/day)|Data Usage (GB/month)|Calls Duration (mins/day)|Number of Apps Installed|Social Media Time (hrs/day)|E-commerce Spend (INR/month)|Streaming Time (hrs/day)|Gaming Time (hrs/day)|Monthly Recharge Cost (INR)|  Primary Use|\n",
            "+-------+---+------+---------+------------+-------+---------------------+---------------------+-------------------------+------------------------+---------------------------+----------------------------+------------------------+---------------------+---------------------------+-------------+\n",
            "| U00001| 53|  Male|   Mumbai|        Vivo|Android|                  3.7|                 23.9|                     37.9|                     104|                        3.9|                         469|                     5.2|                  4.1|                        803|    Education|\n",
            "| U00002| 60| Other|    Delhi|      Realme|  apple|                  9.2|                 28.1|                     13.7|                     169|                        2.8|                        4997|                     5.1|                  0.4|                       1526|       Gaming|\n",
            "| U00003| 37|Female|Ahmedabad|       Nokia|Android|                  4.5|                 12.3|                     66.8|                      96|                        3.0|                        2381|                     1.7|                  2.9|                       1619|Entertainment|\n",
            "| U00004| 32|  Male|     Pune|     Samsung|Android|                 11.0|                 25.6|                    156.2|                     146|                        5.2|                        1185|                     3.2|                  0.3|                       1560|Entertainment|\n",
            "| U00006| 21|  Male|   Jaipur|        Oppo|  apple|                  5.4|                 10.6|                    210.6|                      25|                        4.2|                        6285|                     0.6|                  4.8|                       1749|Entertainment|\n",
            "| U00008| 56| Other|  Kolkata|      Realme|  apple|                  3.1|                 43.5|                    125.3|                     188|                        2.3|                        9767|                     5.2|                  5.0|                       1136|Entertainment|\n",
            "| U00009| 46|Female|  Kolkata|        Oppo|Android|                  5.3|                 46.4|                     21.3|                     194|                        3.7|                        2870|                     6.1|                  2.8|                       1253|Entertainment|\n",
            "| U00012| 41|Female|    Delhi|        Oppo|Android|                  7.5|                 23.5|                     84.9|                     187|                        0.9|                         643|                     3.5|                  2.7|                        151| Social Media|\n",
            "| U00013| 53|  Male|     NULL|      Realme|  apple|                 10.5|                  1.4|                     33.7|                     137|                        4.5|                        7854|                     7.2|                  1.4|                        240|    Education|\n",
            "| U00015| 33|Female|     NULL|     Samsung|  apple|                  1.7|                 33.2|                    208.8|                     121|                        3.0|                        3185|                     4.2|                  0.5|                       1046|Entertainment|\n",
            "| U00017| 46| Other|     NULL|       Apple|Android|                  3.1|                 23.6|                    153.9|                     183|                        2.5|                        6242|                     6.2|                  0.4|                       1679|    Education|\n",
            "| U00018| 54|  Male|  Kolkata|       Apple|Android|                 11.6|                 12.6|                    210.4|                      62|                        4.9|                        4642|                     0.9|                  4.1|                       1360|Entertainment|\n",
            "| U00019| 50|Female|  Chennai|Google Pixel|Android|                  5.3|                  5.2|                    235.6|                     188|                        4.6|                        1120|                     1.0|                  0.8|                       1639|         Work|\n",
            "| U00020| 40| Other|Hyderabad|    Motorola|  apple|                  9.0|                 38.9|                    289.6|                      62|                        2.4|                        8012|                     7.7|                  2.0|                       1224|         Work|\n",
            "| U00022| 59| Other|     Pune|      Xiaomi|Android|                 11.7|                  9.1|                    203.9|                     101|                        5.8|                        2579|                     2.6|                  4.1|                        446|       Gaming|\n",
            "| U00023| 46| Other|  Chennai|     Samsung|Android|                  8.1|                 15.5|                    206.8|                      77|                        5.9|                        1776|                     3.4|                  2.5|                        899| Social Media|\n",
            "| U00025| 29|Female|Bangalore|      Realme|Android|                  7.0|                 41.7|                     51.0|                     130|                        1.4|                        2604|                     3.5|                  1.6|                       1154|    Education|\n",
            "| U00026| 36|  Male|Hyderabad|        Vivo|  apple|                  5.6|                 47.4|                    155.4|                     123|                        5.9|                        1886|                     2.3|                  3.0|                        955|         Work|\n",
            "| U00028| 41| Other|   Jaipur|      Realme|Android|                  8.1|                 44.1|                     81.8|                      25|                        1.9|                        5545|                     5.7|                  3.7|                       1488|    Education|\n",
            "| U00029| 51|Female|  Kolkata|        Vivo|  apple|                 10.7|                 45.1|                     94.0|                     127|                        3.5|                        2293|                     6.7|                  5.0|                        333|    Education|\n",
            "+-------+---+------+---------+------------+-------+---------------------+---------------------+-------------------------+------------------------+---------------------------+----------------------------+------------------------+---------------------+---------------------------+-------------+\n",
            "only showing top 20 rows\n",
            "\n"
          ]
        }
      ]
    },
    {
      "cell_type": "code",
      "source": [
        "df = df.withColumn(\"Age_Category\",\n",
        "                   when(col(\"Age\")<=35,\"Young\").\n",
        "                   when(col(\"Age\")<=60,\"Middle-aged\").\n",
        "                   otherwise(\"Senior\"))\n",
        "df.show()"
      ],
      "metadata": {
        "colab": {
          "base_uri": "https://localhost:8080/"
        },
        "id": "Y6696BNOmdaK",
        "outputId": "5f2b3874-403f-48a6-9d5a-1dce04a60dcd"
      },
      "execution_count": null,
      "outputs": [
        {
          "output_type": "stream",
          "name": "stdout",
          "text": [
            "+-------+---+------+---------+------------+-------+---------------------+---------------------+-------------------------+------------------------+---------------------------+----------------------------+------------------------+---------------------+---------------------------+-------------+------------+\n",
            "|User ID|Age|Gender| Location| Phone Brand|     OS|Screen Time (hrs/day)|Data Usage (GB/month)|Calls Duration (mins/day)|Number of Apps Installed|Social Media Time (hrs/day)|E-commerce Spend (INR/month)|Streaming Time (hrs/day)|Gaming Time (hrs/day)|Monthly Recharge Cost (INR)|  Primary Use|Age_Category|\n",
            "+-------+---+------+---------+------------+-------+---------------------+---------------------+-------------------------+------------------------+---------------------------+----------------------------+------------------------+---------------------+---------------------------+-------------+------------+\n",
            "| U00001| 53|  Male|   Mumbai|        Vivo|Android|                  3.7|                 23.9|                     37.9|                     104|                        3.9|                         469|                     5.2|                  4.1|                        803|    Education| Middle-aged|\n",
            "| U00002| 60| Other|    Delhi|      Realme|  apple|                  9.2|                 28.1|                     13.7|                     169|                        2.8|                        4997|                     5.1|                  0.4|                       1526|       Gaming| Middle-aged|\n",
            "| U00003| 37|Female|Ahmedabad|       Nokia|Android|                  4.5|                 12.3|                     66.8|                      96|                        3.0|                        2381|                     1.7|                  2.9|                       1619|Entertainment| Middle-aged|\n",
            "| U00004| 32|  Male|     Pune|     Samsung|Android|                 11.0|                 25.6|                    156.2|                     146|                        5.2|                        1185|                     3.2|                  0.3|                       1560|Entertainment|       Young|\n",
            "| U00006| 21|  Male|   Jaipur|        Oppo|  apple|                  5.4|                 10.6|                    210.6|                      25|                        4.2|                        6285|                     0.6|                  4.8|                       1749|Entertainment|       Young|\n",
            "| U00008| 56| Other|  Kolkata|      Realme|  apple|                  3.1|                 43.5|                    125.3|                     188|                        2.3|                        9767|                     5.2|                  5.0|                       1136|Entertainment| Middle-aged|\n",
            "| U00009| 46|Female|  Kolkata|        Oppo|Android|                  5.3|                 46.4|                     21.3|                     194|                        3.7|                        2870|                     6.1|                  2.8|                       1253|Entertainment| Middle-aged|\n",
            "| U00012| 41|Female|    Delhi|        Oppo|Android|                  7.5|                 23.5|                     84.9|                     187|                        0.9|                         643|                     3.5|                  2.7|                        151| Social Media| Middle-aged|\n",
            "| U00013| 53|  Male|     NULL|      Realme|  apple|                 10.5|                  1.4|                     33.7|                     137|                        4.5|                        7854|                     7.2|                  1.4|                        240|    Education| Middle-aged|\n",
            "| U00015| 33|Female|     NULL|     Samsung|  apple|                  1.7|                 33.2|                    208.8|                     121|                        3.0|                        3185|                     4.2|                  0.5|                       1046|Entertainment|       Young|\n",
            "| U00017| 46| Other|     NULL|       Apple|Android|                  3.1|                 23.6|                    153.9|                     183|                        2.5|                        6242|                     6.2|                  0.4|                       1679|    Education| Middle-aged|\n",
            "| U00018| 54|  Male|  Kolkata|       Apple|Android|                 11.6|                 12.6|                    210.4|                      62|                        4.9|                        4642|                     0.9|                  4.1|                       1360|Entertainment| Middle-aged|\n",
            "| U00019| 50|Female|  Chennai|Google Pixel|Android|                  5.3|                  5.2|                    235.6|                     188|                        4.6|                        1120|                     1.0|                  0.8|                       1639|         Work| Middle-aged|\n",
            "| U00020| 40| Other|Hyderabad|    Motorola|  apple|                  9.0|                 38.9|                    289.6|                      62|                        2.4|                        8012|                     7.7|                  2.0|                       1224|         Work| Middle-aged|\n",
            "| U00022| 59| Other|     Pune|      Xiaomi|Android|                 11.7|                  9.1|                    203.9|                     101|                        5.8|                        2579|                     2.6|                  4.1|                        446|       Gaming| Middle-aged|\n",
            "| U00023| 46| Other|  Chennai|     Samsung|Android|                  8.1|                 15.5|                    206.8|                      77|                        5.9|                        1776|                     3.4|                  2.5|                        899| Social Media| Middle-aged|\n",
            "| U00025| 29|Female|Bangalore|      Realme|Android|                  7.0|                 41.7|                     51.0|                     130|                        1.4|                        2604|                     3.5|                  1.6|                       1154|    Education|       Young|\n",
            "| U00026| 36|  Male|Hyderabad|        Vivo|  apple|                  5.6|                 47.4|                    155.4|                     123|                        5.9|                        1886|                     2.3|                  3.0|                        955|         Work| Middle-aged|\n",
            "| U00028| 41| Other|   Jaipur|      Realme|Android|                  8.1|                 44.1|                     81.8|                      25|                        1.9|                        5545|                     5.7|                  3.7|                       1488|    Education| Middle-aged|\n",
            "| U00029| 51|Female|  Kolkata|        Vivo|  apple|                 10.7|                 45.1|                     94.0|                     127|                        3.5|                        2293|                     6.7|                  5.0|                        333|    Education| Middle-aged|\n",
            "+-------+---+------+---------+------------+-------+---------------------+---------------------+-------------------------+------------------------+---------------------------+----------------------------+------------------------+---------------------+---------------------------+-------------+------------+\n",
            "only showing top 20 rows\n",
            "\n"
          ]
        }
      ]
    },
    {
      "cell_type": "code",
      "source": [
        "df = df.fillna({\"Location\":\"Unknown\"})\n",
        "df.show()"
      ],
      "metadata": {
        "colab": {
          "base_uri": "https://localhost:8080/"
        },
        "id": "cFvXdRlhmdo1",
        "outputId": "21304943-3a99-48c5-c0c6-4bf84d06353c"
      },
      "execution_count": null,
      "outputs": [
        {
          "output_type": "stream",
          "name": "stdout",
          "text": [
            "+-------+---+------+---------+------------+-------+---------------------+---------------------+-------------------------+------------------------+---------------------------+----------------------------+------------------------+---------------------+---------------------------+-------------+------------+\n",
            "|User ID|Age|Gender| Location| Phone Brand|     OS|Screen Time (hrs/day)|Data Usage (GB/month)|Calls Duration (mins/day)|Number of Apps Installed|Social Media Time (hrs/day)|E-commerce Spend (INR/month)|Streaming Time (hrs/day)|Gaming Time (hrs/day)|Monthly Recharge Cost (INR)|  Primary Use|Age_Category|\n",
            "+-------+---+------+---------+------------+-------+---------------------+---------------------+-------------------------+------------------------+---------------------------+----------------------------+------------------------+---------------------+---------------------------+-------------+------------+\n",
            "| U00001| 53|  Male|   Mumbai|        Vivo|Android|                  3.7|                 23.9|                     37.9|                     104|                        3.9|                         469|                     5.2|                  4.1|                        803|    Education| Middle-aged|\n",
            "| U00002| 60| Other|    Delhi|      Realme|  apple|                  9.2|                 28.1|                     13.7|                     169|                        2.8|                        4997|                     5.1|                  0.4|                       1526|       Gaming| Middle-aged|\n",
            "| U00003| 37|Female|Ahmedabad|       Nokia|Android|                  4.5|                 12.3|                     66.8|                      96|                        3.0|                        2381|                     1.7|                  2.9|                       1619|Entertainment| Middle-aged|\n",
            "| U00004| 32|  Male|     Pune|     Samsung|Android|                 11.0|                 25.6|                    156.2|                     146|                        5.2|                        1185|                     3.2|                  0.3|                       1560|Entertainment|       Young|\n",
            "| U00006| 21|  Male|   Jaipur|        Oppo|  apple|                  5.4|                 10.6|                    210.6|                      25|                        4.2|                        6285|                     0.6|                  4.8|                       1749|Entertainment|       Young|\n",
            "| U00008| 56| Other|  Kolkata|      Realme|  apple|                  3.1|                 43.5|                    125.3|                     188|                        2.3|                        9767|                     5.2|                  5.0|                       1136|Entertainment| Middle-aged|\n",
            "| U00009| 46|Female|  Kolkata|        Oppo|Android|                  5.3|                 46.4|                     21.3|                     194|                        3.7|                        2870|                     6.1|                  2.8|                       1253|Entertainment| Middle-aged|\n",
            "| U00012| 41|Female|    Delhi|        Oppo|Android|                  7.5|                 23.5|                     84.9|                     187|                        0.9|                         643|                     3.5|                  2.7|                        151| Social Media| Middle-aged|\n",
            "| U00013| 53|  Male|  Unknown|      Realme|  apple|                 10.5|                  1.4|                     33.7|                     137|                        4.5|                        7854|                     7.2|                  1.4|                        240|    Education| Middle-aged|\n",
            "| U00015| 33|Female|  Unknown|     Samsung|  apple|                  1.7|                 33.2|                    208.8|                     121|                        3.0|                        3185|                     4.2|                  0.5|                       1046|Entertainment|       Young|\n",
            "| U00017| 46| Other|  Unknown|       Apple|Android|                  3.1|                 23.6|                    153.9|                     183|                        2.5|                        6242|                     6.2|                  0.4|                       1679|    Education| Middle-aged|\n",
            "| U00018| 54|  Male|  Kolkata|       Apple|Android|                 11.6|                 12.6|                    210.4|                      62|                        4.9|                        4642|                     0.9|                  4.1|                       1360|Entertainment| Middle-aged|\n",
            "| U00019| 50|Female|  Chennai|Google Pixel|Android|                  5.3|                  5.2|                    235.6|                     188|                        4.6|                        1120|                     1.0|                  0.8|                       1639|         Work| Middle-aged|\n",
            "| U00020| 40| Other|Hyderabad|    Motorola|  apple|                  9.0|                 38.9|                    289.6|                      62|                        2.4|                        8012|                     7.7|                  2.0|                       1224|         Work| Middle-aged|\n",
            "| U00022| 59| Other|     Pune|      Xiaomi|Android|                 11.7|                  9.1|                    203.9|                     101|                        5.8|                        2579|                     2.6|                  4.1|                        446|       Gaming| Middle-aged|\n",
            "| U00023| 46| Other|  Chennai|     Samsung|Android|                  8.1|                 15.5|                    206.8|                      77|                        5.9|                        1776|                     3.4|                  2.5|                        899| Social Media| Middle-aged|\n",
            "| U00025| 29|Female|Bangalore|      Realme|Android|                  7.0|                 41.7|                     51.0|                     130|                        1.4|                        2604|                     3.5|                  1.6|                       1154|    Education|       Young|\n",
            "| U00026| 36|  Male|Hyderabad|        Vivo|  apple|                  5.6|                 47.4|                    155.4|                     123|                        5.9|                        1886|                     2.3|                  3.0|                        955|         Work| Middle-aged|\n",
            "| U00028| 41| Other|   Jaipur|      Realme|Android|                  8.1|                 44.1|                     81.8|                      25|                        1.9|                        5545|                     5.7|                  3.7|                       1488|    Education| Middle-aged|\n",
            "| U00029| 51|Female|  Kolkata|        Vivo|  apple|                 10.7|                 45.1|                     94.0|                     127|                        3.5|                        2293|                     6.7|                  5.0|                        333|    Education| Middle-aged|\n",
            "+-------+---+------+---------+------------+-------+---------------------+---------------------+-------------------------+------------------------+---------------------------+----------------------------+------------------------+---------------------+---------------------------+-------------+------------+\n",
            "only showing top 20 rows\n",
            "\n"
          ]
        }
      ]
    },
    {
      "cell_type": "code",
      "source": [
        "df = df.withColumn(\"ScreenTime_Minutes\", col(\"Screen Time (hrs/day)\")*60)\n",
        "df = df.withColumn(\"SocialMediaTime_Minutes\", col(\"Social Media Time (hrs/day)\")*60)\n",
        "df = df.withColumn(\"StreamingTime_Minutes\", col(\"Streaming Time (hrs/day)\")*60)\n",
        "df = df.withColumn(\"GamingTime_Minutes\", round(col(\"Gaming Time (hrs/day)\")*60,2))\n",
        "df.show()"
      ],
      "metadata": {
        "colab": {
          "base_uri": "https://localhost:8080/"
        },
        "id": "2r6H6eNdmd3G",
        "outputId": "19a6ddfc-b616-4e32-f31c-21d8d220df5c"
      },
      "execution_count": null,
      "outputs": [
        {
          "output_type": "stream",
          "name": "stdout",
          "text": [
            "+-------+---+------+---------+------------+-------+---------------------+---------------------+-------------------------+------------------------+---------------------------+----------------------------+------------------------+---------------------+---------------------------+-------------+------------+------------------+-----------------------+---------------------+------------------+\n",
            "|User ID|Age|Gender| Location| Phone Brand|     OS|Screen Time (hrs/day)|Data Usage (GB/month)|Calls Duration (mins/day)|Number of Apps Installed|Social Media Time (hrs/day)|E-commerce Spend (INR/month)|Streaming Time (hrs/day)|Gaming Time (hrs/day)|Monthly Recharge Cost (INR)|  Primary Use|Age_Category|ScreenTime_Minutes|SocialMediaTime_Minutes|StreamingTime_Minutes|GamingTime_Minutes|\n",
            "+-------+---+------+---------+------------+-------+---------------------+---------------------+-------------------------+------------------------+---------------------------+----------------------------+------------------------+---------------------+---------------------------+-------------+------------+------------------+-----------------------+---------------------+------------------+\n",
            "| U00001| 53|  Male|   Mumbai|        Vivo|Android|                  3.7|                 23.9|                     37.9|                     104|                        3.9|                         469|                     5.2|                  4.1|                        803|    Education| Middle-aged|             222.0|                  234.0|                312.0|             246.0|\n",
            "| U00002| 60| Other|    Delhi|      Realme|  apple|                  9.2|                 28.1|                     13.7|                     169|                        2.8|                        4997|                     5.1|                  0.4|                       1526|       Gaming| Middle-aged|             552.0|                  168.0|                306.0|              24.0|\n",
            "| U00003| 37|Female|Ahmedabad|       Nokia|Android|                  4.5|                 12.3|                     66.8|                      96|                        3.0|                        2381|                     1.7|                  2.9|                       1619|Entertainment| Middle-aged|             270.0|                  180.0|                102.0|             174.0|\n",
            "| U00004| 32|  Male|     Pune|     Samsung|Android|                 11.0|                 25.6|                    156.2|                     146|                        5.2|                        1185|                     3.2|                  0.3|                       1560|Entertainment|       Young|             660.0|                  312.0|                192.0|              18.0|\n",
            "| U00006| 21|  Male|   Jaipur|        Oppo|  apple|                  5.4|                 10.6|                    210.6|                      25|                        4.2|                        6285|                     0.6|                  4.8|                       1749|Entertainment|       Young|             324.0|                  252.0|                 36.0|             288.0|\n",
            "| U00008| 56| Other|  Kolkata|      Realme|  apple|                  3.1|                 43.5|                    125.3|                     188|                        2.3|                        9767|                     5.2|                  5.0|                       1136|Entertainment| Middle-aged|             186.0|                  138.0|                312.0|             300.0|\n",
            "| U00009| 46|Female|  Kolkata|        Oppo|Android|                  5.3|                 46.4|                     21.3|                     194|                        3.7|                        2870|                     6.1|                  2.8|                       1253|Entertainment| Middle-aged|             318.0|                  222.0|                366.0|             168.0|\n",
            "| U00012| 41|Female|    Delhi|        Oppo|Android|                  7.5|                 23.5|                     84.9|                     187|                        0.9|                         643|                     3.5|                  2.7|                        151| Social Media| Middle-aged|             450.0|                   54.0|                210.0|             162.0|\n",
            "| U00013| 53|  Male|  Unknown|      Realme|  apple|                 10.5|                  1.4|                     33.7|                     137|                        4.5|                        7854|                     7.2|                  1.4|                        240|    Education| Middle-aged|             630.0|                  270.0|                432.0|              84.0|\n",
            "| U00015| 33|Female|  Unknown|     Samsung|  apple|                  1.7|                 33.2|                    208.8|                     121|                        3.0|                        3185|                     4.2|                  0.5|                       1046|Entertainment|       Young|             102.0|                  180.0|                252.0|              30.0|\n",
            "| U00017| 46| Other|  Unknown|       Apple|Android|                  3.1|                 23.6|                    153.9|                     183|                        2.5|                        6242|                     6.2|                  0.4|                       1679|    Education| Middle-aged|             186.0|                  150.0|                372.0|              24.0|\n",
            "| U00018| 54|  Male|  Kolkata|       Apple|Android|                 11.6|                 12.6|                    210.4|                      62|                        4.9|                        4642|                     0.9|                  4.1|                       1360|Entertainment| Middle-aged|             696.0|                  294.0|                 54.0|             246.0|\n",
            "| U00019| 50|Female|  Chennai|Google Pixel|Android|                  5.3|                  5.2|                    235.6|                     188|                        4.6|                        1120|                     1.0|                  0.8|                       1639|         Work| Middle-aged|             318.0|                  276.0|                 60.0|              48.0|\n",
            "| U00020| 40| Other|Hyderabad|    Motorola|  apple|                  9.0|                 38.9|                    289.6|                      62|                        2.4|                        8012|                     7.7|                  2.0|                       1224|         Work| Middle-aged|             540.0|                  144.0|                462.0|             120.0|\n",
            "| U00022| 59| Other|     Pune|      Xiaomi|Android|                 11.7|                  9.1|                    203.9|                     101|                        5.8|                        2579|                     2.6|                  4.1|                        446|       Gaming| Middle-aged|             702.0|                  348.0|                156.0|             246.0|\n",
            "| U00023| 46| Other|  Chennai|     Samsung|Android|                  8.1|                 15.5|                    206.8|                      77|                        5.9|                        1776|                     3.4|                  2.5|                        899| Social Media| Middle-aged|             486.0|                  354.0|                204.0|             150.0|\n",
            "| U00025| 29|Female|Bangalore|      Realme|Android|                  7.0|                 41.7|                     51.0|                     130|                        1.4|                        2604|                     3.5|                  1.6|                       1154|    Education|       Young|             420.0|                   84.0|                210.0|              96.0|\n",
            "| U00026| 36|  Male|Hyderabad|        Vivo|  apple|                  5.6|                 47.4|                    155.4|                     123|                        5.9|                        1886|                     2.3|                  3.0|                        955|         Work| Middle-aged|             336.0|                  354.0|                138.0|             180.0|\n",
            "| U00028| 41| Other|   Jaipur|      Realme|Android|                  8.1|                 44.1|                     81.8|                      25|                        1.9|                        5545|                     5.7|                  3.7|                       1488|    Education| Middle-aged|             486.0|                  114.0|                342.0|             222.0|\n",
            "| U00029| 51|Female|  Kolkata|        Vivo|  apple|                 10.7|                 45.1|                     94.0|                     127|                        3.5|                        2293|                     6.7|                  5.0|                        333|    Education| Middle-aged|             642.0|                  210.0|                402.0|             300.0|\n",
            "+-------+---+------+---------+------------+-------+---------------------+---------------------+-------------------------+------------------------+---------------------------+----------------------------+------------------------+---------------------+---------------------------+-------------+------------+------------------+-----------------------+---------------------+------------------+\n",
            "only showing top 20 rows\n",
            "\n"
          ]
        }
      ]
    },
    {
      "cell_type": "code",
      "source": [
        "df = df.withColumn(\"Screen_Time_Category\",\n",
        "                       when(col(\"ScreenTime_Minutes\")<=180,\"Low-Usage\").\n",
        "                       when(col(\"ScreenTime_Minutes\")<=360,\"Moderate-Usage\").\n",
        "                       otherwise(\"High-Usage\"))\n",
        "df.select(\"Screen_Time_Category\").distinct().show()"
      ],
      "metadata": {
        "colab": {
          "base_uri": "https://localhost:8080/"
        },
        "id": "mIcLSgwVoEGu",
        "outputId": "3b7b18a9-28e6-4c1b-fdac-134e71113922"
      },
      "execution_count": null,
      "outputs": [
        {
          "output_type": "stream",
          "name": "stdout",
          "text": [
            "+--------------------+\n",
            "|Screen_Time_Category|\n",
            "+--------------------+\n",
            "|          High-Usage|\n",
            "|           Low-Usage|\n",
            "|      Moderate-Usage|\n",
            "+--------------------+\n",
            "\n"
          ]
        }
      ]
    },
    {
      "cell_type": "code",
      "source": [
        "primary_use_case = df.groupBy(\"Primary Use\").agg(sum(col(\"Monthly Recharge Cost (INR)\")).alias(\"Total Cost\")).orderBy(\"Total Cost\")\n",
        "primary_use_case.show()"
      ],
      "metadata": {
        "colab": {
          "base_uri": "https://localhost:8080/"
        },
        "id": "F_9VcseCoEcM",
        "outputId": "c9df602a-4863-40ca-b88a-511edf308cb6"
      },
      "execution_count": null,
      "outputs": [
        {
          "output_type": "stream",
          "name": "stdout",
          "text": [
            "+-------------+----------+\n",
            "|  Primary Use|Total Cost|\n",
            "+-------------+----------+\n",
            "|Entertainment|   3302462|\n",
            "| Social Media|   3433779|\n",
            "|       Gaming|   3464171|\n",
            "|    Education|   3478342|\n",
            "|         Work|   3499693|\n",
            "+-------------+----------+\n",
            "\n"
          ]
        }
      ]
    },
    {
      "cell_type": "code",
      "source": [
        "df = df.toPandas()\n",
        "df.to_csv(\"cleaned_7.csv\")"
      ],
      "metadata": {
        "id": "gPZZnd_rmMvP"
      },
      "execution_count": null,
      "outputs": []
    },
    {
      "cell_type": "code",
      "source": [
        "spark.stop()"
      ],
      "metadata": {
        "id": "rWqVo5nmmNS6"
      },
      "execution_count": null,
      "outputs": []
    }
  ]
}