{
  "nbformat": 4,
  "nbformat_minor": 0,
  "metadata": {
    "colab": {
      "provenance": []
    },
    "kernelspec": {
      "name": "python3",
      "display_name": "Python 3"
    },
    "language_info": {
      "name": "python"
    }
  },
  "cells": [
    {
      "cell_type": "code",
      "execution_count": null,
      "metadata": {
        "id": "gwWikPaCJLud"
      },
      "outputs": [],
      "source": [
        "from pyspark import *;\n",
        "from pyspark.sql import *;\n",
        "from pyspark.sql.functions import *;\n",
        "import pandas as pd;"
      ]
    },
    {
      "cell_type": "code",
      "source": [
        "spark = SparkSession.builder.appName(\"Q5\").getOrCreate()"
      ],
      "metadata": {
        "id": "bc6xWwl5Jz1J"
      },
      "execution_count": null,
      "outputs": []
    },
    {
      "cell_type": "code",
      "source": [
        "df = spark.read.csv(\"crime_data.csv\",header=True,inferSchema=True)\n",
        "df.printSchema()\n",
        "df.show()"
      ],
      "metadata": {
        "colab": {
          "base_uri": "https://localhost:8080/"
        },
        "id": "SWY272_3J17U",
        "outputId": "f4bbe8bc-36c3-43f4-ac03-b67654359de3"
      },
      "execution_count": null,
      "outputs": [
        {
          "output_type": "stream",
          "name": "stdout",
          "text": [
            "root\n",
            " |-- DR_NO: integer (nullable = true)\n",
            " |-- Date Rptd: string (nullable = true)\n",
            " |-- DATE OCC: string (nullable = true)\n",
            " |-- TIME OCC: integer (nullable = true)\n",
            " |-- AREA NAME: string (nullable = true)\n",
            " |-- Part 1-2: integer (nullable = true)\n",
            " |-- Crime code: string (nullable = true)\n",
            " |-- Crime Code Desc: string (nullable = true)\n",
            " |-- Vict Age: integer (nullable = true)\n",
            " |-- Vict Sex: string (nullable = true)\n",
            " |-- Premis Cd: integer (nullable = true)\n",
            " |-- Premis Desc: string (nullable = true)\n",
            " |-- Status Desc: string (nullable = true)\n",
            " |-- LAT: double (nullable = true)\n",
            " |-- LON: double (nullable = true)\n",
            "\n",
            "+---------+--------------------+--------------------+--------+-----------+--------+----------+--------------------+--------+--------+---------+--------------------+------------+-------+---------+\n",
            "|    DR_NO|           Date Rptd|            DATE OCC|TIME OCC|  AREA NAME|Part 1-2|Crime code|     Crime Code Desc|Vict Age|Vict Sex|Premis Cd|         Premis Desc| Status Desc|    LAT|      LON|\n",
            "+---------+--------------------+--------------------+--------+-----------+--------+----------+--------------------+--------+--------+---------+--------------------+------------+-------+---------+\n",
            "|190326475|    03-01-2020 00:00|    03-01-2020 00:00|    2130| Wilshire \\|       1|       510|    VEHICLE - STOLEN|       0|       M|      101|              STREET|Adult Arrest|34.0375|-118.3506|\n",
            "|200106753|    02-09-2020 00:00|    02-08-2020 00:00|    1800|    Central|       1|       330|BURGLARY FROM VEH...|      47|       M|      128|BUS STOP/LAYOVER ...| Invest Cont|34.0444|-118.2628|\n",
            "|200320258|    11-11-2020 00:00|    11-04-2020 00:00|    1700|  Southwest|       1|       480|       BIKE - STOLEN|      19|       X|      502|MULTI-UNIT DWELLI...| Invest Cont| 34.021|-118.3002|\n",
            "|200907217|    05-10-2023 00:00|    03-10-2020 00:00|    2037| Van Nuys /|       1|       343|SHOPLIFTING-GRAND...|      19|       M|      405|      CLOTHING STORE| Invest Cont|34.1576|-118.4387|\n",
            "|200412582|    09-09-2020 00:00|    09-09-2020 00:00|     630| Hollenbeck|       1|       510|    VEHICLE - STOLEN|    NULL|    NULL|      101|              STREET| Invest Cont| 34.082| -118.213|\n",
            "|200209713|    05-03-2020 00:00|    05-02-2020 00:00|    1800|    Rampart|       1|     AB510|    VEHICLE - STOLEN|    NULL|    NULL|      101|              STREET| Invest Cont|34.0642|-118.2771|\n",
            "|200200759|    07-07-2020 00:00|    07-07-2020 00:00|    1340| Rampart //|       1|       648|               ARSON|    NULL|       X|      101|              STREET| Invest Cont|34.0536|-118.2788|\n",
            "|201308739|03/27/2020 12:00:...|03/27/2020 12:00:...|    1210|     Newton|       1|       510|    VEHICLE - STOLEN|    NULL|    NULL|      101|              STREET| Invest Cont| 34.017|-118.2643|\n",
            "|201112065|07/31/2020 12:00:...|07/30/2020 12:00:...|    2030|  Northeast|       1|     NB510|    VEHICLE - STOLEN|    NULL|    NULL|      101|              STREET|Adult Arrest|34.0953|-118.2974|\n",
            "|200121929|    12-04-2020 00:00|    12-03-2020 00:00|    2300|    Central|       1|       510|    VEHICLE - STOLEN|    NULL|    NULL|      101|              STREET| Invest Cont| 34.071|-118.2302|\n",
            "|201215394|06/26/2020 12:00:...|06/25/2020 12:00:...|    2200|77th Street|       1|       510|    VEHICLE - STOLEN|    NULL|    NULL|      101|              STREET| Invest Cont|33.9747|-118.2587|\n",
            "|200406391|    03-02-2020 00:00|    03-01-2020 00:00|    1430| Hollenbeck|       1|       310|            BURGLARY|      27|       M|      221|      PUBLIC STORAGE| Invest Cont|34.0881|-118.1877|\n",
            "|200114396|    07-06-2020 00:00|    07-04-2020 00:00|     100|    Central|       1|       510|    VEHICLE - STOLEN|       0|    NULL|      101|              STREET| Invest Cont|34.0423|-118.2453|\n",
            "|200912561|07/20/2020 12:00:...|07/20/2020 12:00:...|     700| Van Nuys ||       1|     NM510|    VEHICLE - STOLEN|       0|    NULL|      101|              STREET| Invest Cont|34.1812|-118.4356|\n",
            "|200207955|03/19/2020 12:00:...|03/19/2020 12:00:...|     130|  Rampart ||       1|       510|    VEHICLE - STOLEN|       0|    NULL|      101|              STREET| Invest Cont|34.0632|-118.2693|\n",
            "|200112598|    06-01-2020 00:00|05/30/2020 12:00:...|      30|  Central ||       1|       310|            BURGLARY|       0|       M|      201|       JEWELRY STORE|Adult Arrest|34.0467| -118.252|\n",
            "|200905707|    02-08-2020 00:00|    02-07-2020 00:00|    2000| Van Nuys ||       1|       510|    VEHICLE - STOLEN|       0|    NULL|      101|              STREET| Adult Other|34.1803|-118.4204|\n",
            "|200215463|09/26/2020 12:00:...|09/25/2020 12:00:...|    1900|    Rampart|       1|       510|    VEHICLE - STOLEN|       0|    NULL|      101|              STREET| Invest Cont|34.0668|-118.2627|\n",
            "|200308100|    03-07-2020 00:00|    03-06-2020 00:00|    2200|  Southwest|       1|     NM510|    VEHICLE - STOLEN|       0|    NULL|      101|              STREET| Invest Cont|34.0344|-118.2915|\n",
            "|200606074|    02-12-2020 00:00|    02-07-2020 00:00|    1615|  Hollywood|       2|       805|             PIMPING|      23|       F|      101|              STREET|Adult Arrest|34.1016| -118.337|\n",
            "+---------+--------------------+--------------------+--------+-----------+--------+----------+--------------------+--------+--------+---------+--------------------+------------+-------+---------+\n",
            "only showing top 20 rows\n",
            "\n"
          ]
        }
      ]
    },
    {
      "cell_type": "code",
      "source": [
        "df.select([count(when(isnull(c)|isnan(c),c)).alias(c) for c in df.columns]).show()"
      ],
      "metadata": {
        "colab": {
          "base_uri": "https://localhost:8080/"
        },
        "id": "nP1mFP47KH5e",
        "outputId": "e5b03c13-a33c-4c27-c996-5d0b7e8b872b"
      },
      "execution_count": null,
      "outputs": [
        {
          "output_type": "stream",
          "name": "stdout",
          "text": [
            "+-----+---------+--------+--------+---------+--------+----------+---------------+--------+--------+---------+-----------+-----------+---+---+\n",
            "|DR_NO|Date Rptd|DATE OCC|TIME OCC|AREA NAME|Part 1-2|Crime code|Crime Code Desc|Vict Age|Vict Sex|Premis Cd|Premis Desc|Status Desc|LAT|LON|\n",
            "+-----+---------+--------+--------+---------+--------+----------+---------------+--------+--------+---------+-----------+-----------+---+---+\n",
            "|    0|        0|       0|       0|        0|       0|         0|              0|      15|     168|        0|          1|          0|  0|  0|\n",
            "+-----+---------+--------+--------+---------+--------+----------+---------------+--------+--------+---------+-----------+-----------+---+---+\n",
            "\n"
          ]
        }
      ]
    },
    {
      "cell_type": "code",
      "source": [
        "df = df.fillna({\"Vict Sex\": \"Unknown\", \"Vict Age\": -1})\n",
        "df = df.filter((col(\"Vict Age\") > 0) & (col(\"Vict Age\") <= 120))\n",
        "df.show()"
      ],
      "metadata": {
        "colab": {
          "base_uri": "https://localhost:8080/"
        },
        "id": "n5gkBAH3L5bp",
        "outputId": "b5311b59-60fa-4a16-b6db-405899d23915"
      },
      "execution_count": null,
      "outputs": [
        {
          "output_type": "stream",
          "name": "stdout",
          "text": [
            "+---------+--------------------+--------------------+--------+-----------+--------+----------+--------------------+--------+--------+---------+--------------------+------------+-------+---------+\n",
            "|    DR_NO|           Date Rptd|            DATE OCC|TIME OCC|  AREA NAME|Part 1-2|Crime code|     Crime Code Desc|Vict Age|Vict Sex|Premis Cd|         Premis Desc| Status Desc|    LAT|      LON|\n",
            "+---------+--------------------+--------------------+--------+-----------+--------+----------+--------------------+--------+--------+---------+--------------------+------------+-------+---------+\n",
            "|200106753|    02-09-2020 00:00|    02-08-2020 00:00|    1800|    Central|       1|       330|BURGLARY FROM VEH...|      47|       M|      128|BUS STOP/LAYOVER ...| Invest Cont|34.0444|-118.2628|\n",
            "|200320258|    11-11-2020 00:00|    11-04-2020 00:00|    1700|  Southwest|       1|       480|       BIKE - STOLEN|      19|       X|      502|MULTI-UNIT DWELLI...| Invest Cont| 34.021|-118.3002|\n",
            "|200907217|    05-10-2023 00:00|    03-10-2020 00:00|    2037| Van Nuys /|       1|       343|SHOPLIFTING-GRAND...|      19|       M|      405|      CLOTHING STORE| Invest Cont|34.1576|-118.4387|\n",
            "|200406391|    03-02-2020 00:00|    03-01-2020 00:00|    1430| Hollenbeck|       1|       310|            BURGLARY|      27|       M|      221|      PUBLIC STORAGE| Invest Cont|34.0881|-118.1877|\n",
            "|200606074|    02-12-2020 00:00|    02-07-2020 00:00|    1615|  Hollywood|       2|       805|             PIMPING|      23|       F|      101|              STREET|Adult Arrest|34.1016| -118.337|\n",
            "|201000767|07/14/2020 12:00:...|07/13/2020 12:00:...|    2000|West Valley|       1|       330|BURGLARY FROM VEH...|      41|       M|      108|         PARKING LOT|Adult Arrest|34.1774|-118.5387|\n",
            "|201106871|    03-04-2020 00:00|    03-02-2020 00:00|    2130|  Northeast|       2|       745|VANDALISM - MISDE...|      50|       M|      101|              STREET| Invest Cont|34.1241|-118.1878|\n",
            "|200111627|    05-12-2020 00:00|    05-10-2020 00:00|    2200|    Central|       2|       626|INTIMATE PARTNER ...|      30|       F|      502|MULTI-UNIT DWELLI...|Adult Arrest|34.0618|-118.2424|\n",
            "|201225656|    12-02-2020 00:00|    12-02-2020 00:00|    2245|77th Street|       1|       210|             ROBBERY|      21|       M|      101|              STREET| Invest Cont| 33.961|-118.2695|\n",
            "|200309451|    04-04-2020 00:00|    04-04-2020 00:00|    1210|  Southwest|       1|       310|            BURGLARY|      19|       X|      301|         GAS STATION| Invest Cont|34.0199|-118.3556|\n",
            "|201212036|    05-02-2020 00:00|    05-01-2020 00:00|    2330|77th Street|       1|       230|ASSAULT WITH DEAD...|      28|       F|      501|SINGLE FAMILY DWE...| Invest Cont|33.9654|-118.2739|\n",
            "|200914517|    09-10-2020 00:00|    09-09-2020 00:00|    1735|   Van Nuys|       2|       354|   THEFT OF IDENTITY|      40|       M|      507|CONDOMINIUM/TOWNH...| Invest Cont|34.2039|-118.4312|\n",
            "|200105246|01/18/2020 12:00:...|01/18/2020 12:00:...|     940|    Central|       2|       624|BATTERY - SIMPLE ...|      42|       M|      502|MULTI-UNIT DWELLI...|Adult Arrest|34.0639|-118.2295|\n",
            "|201106067|02/15/2020 12:00:...|02/15/2020 12:00:...|    1830|  Northeast|       1|       330|BURGLARY FROM VEH...|      43|       M|      108|         PARKING LOT| Invest Cont|34.1179| -118.293|\n",
            "|201116118|11/27/2020 12:00:...|11/23/2020 12:00:...|    1200|  Northeast|       2|       354|   THEFT OF IDENTITY|      26|       M|      501|SINGLE FAMILY DWE...| Invest Cont|34.1095|-118.2958|\n",
            "|200716724|    12-04-2020 00:00|    12-03-2020 00:00|     811|   Wilshire|       1|       442|SHOPLIFTING - PET...|      19|       M|      203|      OTHER BUSINESS| Invest Cont|34.0761|-118.3737|\n",
            "|200217442|11/15/2020 12:00:...|11/15/2020 12:00:...|     310|    Rampart|       1|       310|            BURGLARY|      36|       M|      210|RESTAURANT/FAST FOOD| Invest Cont|34.0758|-118.2552|\n",
            "|200914052|08/27/2020 12:00:...|08/27/2020 12:00:...|    1255|   Van Nuys|       2|       624|BATTERY - SIMPLE ...|      57|       F|      102|            SIDEWALK| Invest Cont|34.1847|  -118.44|\n",
            "|200810920|06/20/2020 12:00:...|06/20/2020 12:00:...|    1000|    West LA|       2|       624|BATTERY - SIMPLE ...|      78|       F|      510|NURSING/CONVALESC...| Adult Other|34.0423|-118.4656|\n",
            "|201112187|    08-04-2020 00:00|07/16/2020 12:00:...|    1900|  Northeast|       2|       662|  BUNCO, GRAND THEFT|      51|       F|      501|SINGLE FAMILY DWE...| Invest Cont| 34.099|-118.2738|\n",
            "+---------+--------------------+--------------------+--------+-----------+--------+----------+--------------------+--------+--------+---------+--------------------+------------+-------+---------+\n",
            "only showing top 20 rows\n",
            "\n"
          ]
        }
      ]
    },
    {
      "cell_type": "code",
      "source": [
        "df = df.withColumn(\"TIME OCC\", lpad(col(\"TIME OCC\").cast(\"string\"), 4, \"0\"))\n",
        "df = df.withColumn(\"TIME OCC\", regexp_replace(col(\"TIME OCC\"), r\"(\\d{2})(\\d{2})\", \"$1:$2\"))\n",
        "df.show()"
      ],
      "metadata": {
        "colab": {
          "base_uri": "https://localhost:8080/"
        },
        "id": "lO-2L_FWMbEH",
        "outputId": "b7bad0f1-0f9d-41eb-fac7-77edd949ca96"
      },
      "execution_count": null,
      "outputs": [
        {
          "output_type": "stream",
          "name": "stdout",
          "text": [
            "+---------+--------------------+--------------------+--------+-----------+--------+----------+--------------------+--------+--------+---------+--------------------+------------+-------+---------+\n",
            "|    DR_NO|           Date Rptd|            DATE OCC|TIME OCC|  AREA NAME|Part 1-2|Crime code|     Crime Code Desc|Vict Age|Vict Sex|Premis Cd|         Premis Desc| Status Desc|    LAT|      LON|\n",
            "+---------+--------------------+--------------------+--------+-----------+--------+----------+--------------------+--------+--------+---------+--------------------+------------+-------+---------+\n",
            "|200106753|    02-09-2020 00:00|    02-08-2020 00:00|   18:00|    Central|       1|       330|BURGLARY FROM VEH...|      47|       M|      128|BUS STOP/LAYOVER ...| Invest Cont|34.0444|-118.2628|\n",
            "|200320258|    11-11-2020 00:00|    11-04-2020 00:00|   17:00|  Southwest|       1|       480|       BIKE - STOLEN|      19|       X|      502|MULTI-UNIT DWELLI...| Invest Cont| 34.021|-118.3002|\n",
            "|200907217|    05-10-2023 00:00|    03-10-2020 00:00|   20:37| Van Nuys /|       1|       343|SHOPLIFTING-GRAND...|      19|       M|      405|      CLOTHING STORE| Invest Cont|34.1576|-118.4387|\n",
            "|200406391|    03-02-2020 00:00|    03-01-2020 00:00|   14:30| Hollenbeck|       1|       310|            BURGLARY|      27|       M|      221|      PUBLIC STORAGE| Invest Cont|34.0881|-118.1877|\n",
            "|200606074|    02-12-2020 00:00|    02-07-2020 00:00|   16:15|  Hollywood|       2|       805|             PIMPING|      23|       F|      101|              STREET|Adult Arrest|34.1016| -118.337|\n",
            "|201000767|07/14/2020 12:00:...|07/13/2020 12:00:...|   20:00|West Valley|       1|       330|BURGLARY FROM VEH...|      41|       M|      108|         PARKING LOT|Adult Arrest|34.1774|-118.5387|\n",
            "|201106871|    03-04-2020 00:00|    03-02-2020 00:00|   21:30|  Northeast|       2|       745|VANDALISM - MISDE...|      50|       M|      101|              STREET| Invest Cont|34.1241|-118.1878|\n",
            "|200111627|    05-12-2020 00:00|    05-10-2020 00:00|   22:00|    Central|       2|       626|INTIMATE PARTNER ...|      30|       F|      502|MULTI-UNIT DWELLI...|Adult Arrest|34.0618|-118.2424|\n",
            "|201225656|    12-02-2020 00:00|    12-02-2020 00:00|   22:45|77th Street|       1|       210|             ROBBERY|      21|       M|      101|              STREET| Invest Cont| 33.961|-118.2695|\n",
            "|200309451|    04-04-2020 00:00|    04-04-2020 00:00|   12:10|  Southwest|       1|       310|            BURGLARY|      19|       X|      301|         GAS STATION| Invest Cont|34.0199|-118.3556|\n",
            "|201212036|    05-02-2020 00:00|    05-01-2020 00:00|   23:30|77th Street|       1|       230|ASSAULT WITH DEAD...|      28|       F|      501|SINGLE FAMILY DWE...| Invest Cont|33.9654|-118.2739|\n",
            "|200914517|    09-10-2020 00:00|    09-09-2020 00:00|   17:35|   Van Nuys|       2|       354|   THEFT OF IDENTITY|      40|       M|      507|CONDOMINIUM/TOWNH...| Invest Cont|34.2039|-118.4312|\n",
            "|200105246|01/18/2020 12:00:...|01/18/2020 12:00:...|   09:40|    Central|       2|       624|BATTERY - SIMPLE ...|      42|       M|      502|MULTI-UNIT DWELLI...|Adult Arrest|34.0639|-118.2295|\n",
            "|201106067|02/15/2020 12:00:...|02/15/2020 12:00:...|   18:30|  Northeast|       1|       330|BURGLARY FROM VEH...|      43|       M|      108|         PARKING LOT| Invest Cont|34.1179| -118.293|\n",
            "|201116118|11/27/2020 12:00:...|11/23/2020 12:00:...|   12:00|  Northeast|       2|       354|   THEFT OF IDENTITY|      26|       M|      501|SINGLE FAMILY DWE...| Invest Cont|34.1095|-118.2958|\n",
            "|200716724|    12-04-2020 00:00|    12-03-2020 00:00|   08:11|   Wilshire|       1|       442|SHOPLIFTING - PET...|      19|       M|      203|      OTHER BUSINESS| Invest Cont|34.0761|-118.3737|\n",
            "|200217442|11/15/2020 12:00:...|11/15/2020 12:00:...|   03:10|    Rampart|       1|       310|            BURGLARY|      36|       M|      210|RESTAURANT/FAST FOOD| Invest Cont|34.0758|-118.2552|\n",
            "|200914052|08/27/2020 12:00:...|08/27/2020 12:00:...|   12:55|   Van Nuys|       2|       624|BATTERY - SIMPLE ...|      57|       F|      102|            SIDEWALK| Invest Cont|34.1847|  -118.44|\n",
            "|200810920|06/20/2020 12:00:...|06/20/2020 12:00:...|   10:00|    West LA|       2|       624|BATTERY - SIMPLE ...|      78|       F|      510|NURSING/CONVALESC...| Adult Other|34.0423|-118.4656|\n",
            "|201112187|    08-04-2020 00:00|07/16/2020 12:00:...|   19:00|  Northeast|       2|       662|  BUNCO, GRAND THEFT|      51|       F|      501|SINGLE FAMILY DWE...| Invest Cont| 34.099|-118.2738|\n",
            "+---------+--------------------+--------------------+--------+-----------+--------+----------+--------------------+--------+--------+---------+--------------------+------------+-------+---------+\n",
            "only showing top 20 rows\n",
            "\n"
          ]
        }
      ]
    },
    {
      "cell_type": "code",
      "source": [
        "df = df.withColumn(\"AREA NAME\", regexp_replace(col(\"AREA NAME\"), r\"[\\\\/|]+\", \"\"))\n",
        "df = df.withColumn(\"AREA NAME\",trim(col(\"AREA NAME\")))\n",
        "df.show()"
      ],
      "metadata": {
        "colab": {
          "base_uri": "https://localhost:8080/"
        },
        "id": "nWClmi8QNBt6",
        "outputId": "87848a8c-59a8-4af7-c54b-7418b292b65a"
      },
      "execution_count": null,
      "outputs": [
        {
          "output_type": "stream",
          "name": "stdout",
          "text": [
            "+---------+--------------------+--------------------+--------+-----------+--------+----------+--------------------+--------+--------+---------+--------------------+------------+-------+---------+\n",
            "|    DR_NO|           Date Rptd|            DATE OCC|TIME OCC|  AREA NAME|Part 1-2|Crime code|     Crime Code Desc|Vict Age|Vict Sex|Premis Cd|         Premis Desc| Status Desc|    LAT|      LON|\n",
            "+---------+--------------------+--------------------+--------+-----------+--------+----------+--------------------+--------+--------+---------+--------------------+------------+-------+---------+\n",
            "|200106753|    02-09-2020 00:00|    02-08-2020 00:00|   18:00|    Central|       1|       330|BURGLARY FROM VEH...|      47|       M|      128|BUS STOP/LAYOVER ...| Invest Cont|34.0444|-118.2628|\n",
            "|200320258|    11-11-2020 00:00|    11-04-2020 00:00|   17:00|  Southwest|       1|       480|       BIKE - STOLEN|      19|       X|      502|MULTI-UNIT DWELLI...| Invest Cont| 34.021|-118.3002|\n",
            "|200907217|    05-10-2023 00:00|    03-10-2020 00:00|   20:37|   Van Nuys|       1|       343|SHOPLIFTING-GRAND...|      19|       M|      405|      CLOTHING STORE| Invest Cont|34.1576|-118.4387|\n",
            "|200406391|    03-02-2020 00:00|    03-01-2020 00:00|   14:30| Hollenbeck|       1|       310|            BURGLARY|      27|       M|      221|      PUBLIC STORAGE| Invest Cont|34.0881|-118.1877|\n",
            "|200606074|    02-12-2020 00:00|    02-07-2020 00:00|   16:15|  Hollywood|       2|       805|             PIMPING|      23|       F|      101|              STREET|Adult Arrest|34.1016| -118.337|\n",
            "|201000767|07/14/2020 12:00:...|07/13/2020 12:00:...|   20:00|West Valley|       1|       330|BURGLARY FROM VEH...|      41|       M|      108|         PARKING LOT|Adult Arrest|34.1774|-118.5387|\n",
            "|201106871|    03-04-2020 00:00|    03-02-2020 00:00|   21:30|  Northeast|       2|       745|VANDALISM - MISDE...|      50|       M|      101|              STREET| Invest Cont|34.1241|-118.1878|\n",
            "|200111627|    05-12-2020 00:00|    05-10-2020 00:00|   22:00|    Central|       2|       626|INTIMATE PARTNER ...|      30|       F|      502|MULTI-UNIT DWELLI...|Adult Arrest|34.0618|-118.2424|\n",
            "|201225656|    12-02-2020 00:00|    12-02-2020 00:00|   22:45|77th Street|       1|       210|             ROBBERY|      21|       M|      101|              STREET| Invest Cont| 33.961|-118.2695|\n",
            "|200309451|    04-04-2020 00:00|    04-04-2020 00:00|   12:10|  Southwest|       1|       310|            BURGLARY|      19|       X|      301|         GAS STATION| Invest Cont|34.0199|-118.3556|\n",
            "|201212036|    05-02-2020 00:00|    05-01-2020 00:00|   23:30|77th Street|       1|       230|ASSAULT WITH DEAD...|      28|       F|      501|SINGLE FAMILY DWE...| Invest Cont|33.9654|-118.2739|\n",
            "|200914517|    09-10-2020 00:00|    09-09-2020 00:00|   17:35|   Van Nuys|       2|       354|   THEFT OF IDENTITY|      40|       M|      507|CONDOMINIUM/TOWNH...| Invest Cont|34.2039|-118.4312|\n",
            "|200105246|01/18/2020 12:00:...|01/18/2020 12:00:...|   09:40|    Central|       2|       624|BATTERY - SIMPLE ...|      42|       M|      502|MULTI-UNIT DWELLI...|Adult Arrest|34.0639|-118.2295|\n",
            "|201106067|02/15/2020 12:00:...|02/15/2020 12:00:...|   18:30|  Northeast|       1|       330|BURGLARY FROM VEH...|      43|       M|      108|         PARKING LOT| Invest Cont|34.1179| -118.293|\n",
            "|201116118|11/27/2020 12:00:...|11/23/2020 12:00:...|   12:00|  Northeast|       2|       354|   THEFT OF IDENTITY|      26|       M|      501|SINGLE FAMILY DWE...| Invest Cont|34.1095|-118.2958|\n",
            "|200716724|    12-04-2020 00:00|    12-03-2020 00:00|   08:11|   Wilshire|       1|       442|SHOPLIFTING - PET...|      19|       M|      203|      OTHER BUSINESS| Invest Cont|34.0761|-118.3737|\n",
            "|200217442|11/15/2020 12:00:...|11/15/2020 12:00:...|   03:10|    Rampart|       1|       310|            BURGLARY|      36|       M|      210|RESTAURANT/FAST FOOD| Invest Cont|34.0758|-118.2552|\n",
            "|200914052|08/27/2020 12:00:...|08/27/2020 12:00:...|   12:55|   Van Nuys|       2|       624|BATTERY - SIMPLE ...|      57|       F|      102|            SIDEWALK| Invest Cont|34.1847|  -118.44|\n",
            "|200810920|06/20/2020 12:00:...|06/20/2020 12:00:...|   10:00|    West LA|       2|       624|BATTERY - SIMPLE ...|      78|       F|      510|NURSING/CONVALESC...| Adult Other|34.0423|-118.4656|\n",
            "|201112187|    08-04-2020 00:00|07/16/2020 12:00:...|   19:00|  Northeast|       2|       662|  BUNCO, GRAND THEFT|      51|       F|      501|SINGLE FAMILY DWE...| Invest Cont| 34.099|-118.2738|\n",
            "+---------+--------------------+--------------------+--------+-----------+--------+----------+--------------------+--------+--------+---------+--------------------+------------+-------+---------+\n",
            "only showing top 20 rows\n",
            "\n"
          ]
        }
      ]
    },
    {
      "cell_type": "code",
      "source": [
        "df = df.withColumn(\"Date_Rptd\",split(\"Date Rptd\", \" \")[0])\n",
        "df = df.withColumn(\"Date_Occ\",split(\"DATE OCC\", \" \")[0])\n",
        "df = df.withColumn(\"Date_Rptd\",regexp_replace(\"Date_Rptd\",\"/\",\"-\"))\n",
        "df = df.withColumn(\"Date_Occ\",regexp_replace(\"Date_Occ\",\"/\",\"-\"))\n",
        "df = df.withColumn(\"Date_Rptd\",date_format(to_date(\"Date_Rptd\",\"MM-dd-yyyy\"),\"yyyy-MM-dd\"))\n",
        "df = df.withColumn(\"Date_Occ\",date_format(to_date(\"Date_Occ\",\"MM-dd-yyyy\"),\"yyyy-MM-dd\"))\n",
        "\n",
        "df = df.drop(\"DATE OCC\",\"Date Rptd\")\n",
        "df.show()"
      ],
      "metadata": {
        "colab": {
          "base_uri": "https://localhost:8080/"
        },
        "id": "UBeR5LIRNCeK",
        "outputId": "7a05b9f8-8fd3-4eeb-bd11-33acd7553188"
      },
      "execution_count": null,
      "outputs": [
        {
          "output_type": "stream",
          "name": "stdout",
          "text": [
            "+---------+--------+-----------+--------+----------+--------------------+--------+--------+---------+--------------------+------------+-------+---------+----------+----------+\n",
            "|    DR_NO|TIME OCC|  AREA NAME|Part 1-2|Crime code|     Crime Code Desc|Vict Age|Vict Sex|Premis Cd|         Premis Desc| Status Desc|    LAT|      LON| Date_Rptd|  Date_Occ|\n",
            "+---------+--------+-----------+--------+----------+--------------------+--------+--------+---------+--------------------+------------+-------+---------+----------+----------+\n",
            "|200106753|   18:00|    Central|       1|       330|BURGLARY FROM VEH...|      47|       M|      128|BUS STOP/LAYOVER ...| Invest Cont|34.0444|-118.2628|2020-02-09|2020-02-08|\n",
            "|200320258|   17:00|  Southwest|       1|       480|       BIKE - STOLEN|      19|       X|      502|MULTI-UNIT DWELLI...| Invest Cont| 34.021|-118.3002|2020-11-11|2020-11-04|\n",
            "|200907217|   20:37|   Van Nuys|       1|       343|SHOPLIFTING-GRAND...|      19|       M|      405|      CLOTHING STORE| Invest Cont|34.1576|-118.4387|2023-05-10|2020-03-10|\n",
            "|200406391|   14:30| Hollenbeck|       1|       310|            BURGLARY|      27|       M|      221|      PUBLIC STORAGE| Invest Cont|34.0881|-118.1877|2020-03-02|2020-03-01|\n",
            "|200606074|   16:15|  Hollywood|       2|       805|             PIMPING|      23|       F|      101|              STREET|Adult Arrest|34.1016| -118.337|2020-02-12|2020-02-07|\n",
            "|201000767|   20:00|West Valley|       1|       330|BURGLARY FROM VEH...|      41|       M|      108|         PARKING LOT|Adult Arrest|34.1774|-118.5387|2020-07-14|2020-07-13|\n",
            "|201106871|   21:30|  Northeast|       2|       745|VANDALISM - MISDE...|      50|       M|      101|              STREET| Invest Cont|34.1241|-118.1878|2020-03-04|2020-03-02|\n",
            "|200111627|   22:00|    Central|       2|       626|INTIMATE PARTNER ...|      30|       F|      502|MULTI-UNIT DWELLI...|Adult Arrest|34.0618|-118.2424|2020-05-12|2020-05-10|\n",
            "|201225656|   22:45|77th Street|       1|       210|             ROBBERY|      21|       M|      101|              STREET| Invest Cont| 33.961|-118.2695|2020-12-02|2020-12-02|\n",
            "|200309451|   12:10|  Southwest|       1|       310|            BURGLARY|      19|       X|      301|         GAS STATION| Invest Cont|34.0199|-118.3556|2020-04-04|2020-04-04|\n",
            "|201212036|   23:30|77th Street|       1|       230|ASSAULT WITH DEAD...|      28|       F|      501|SINGLE FAMILY DWE...| Invest Cont|33.9654|-118.2739|2020-05-02|2020-05-01|\n",
            "|200914517|   17:35|   Van Nuys|       2|       354|   THEFT OF IDENTITY|      40|       M|      507|CONDOMINIUM/TOWNH...| Invest Cont|34.2039|-118.4312|2020-09-10|2020-09-09|\n",
            "|200105246|   09:40|    Central|       2|       624|BATTERY - SIMPLE ...|      42|       M|      502|MULTI-UNIT DWELLI...|Adult Arrest|34.0639|-118.2295|2020-01-18|2020-01-18|\n",
            "|201106067|   18:30|  Northeast|       1|       330|BURGLARY FROM VEH...|      43|       M|      108|         PARKING LOT| Invest Cont|34.1179| -118.293|2020-02-15|2020-02-15|\n",
            "|201116118|   12:00|  Northeast|       2|       354|   THEFT OF IDENTITY|      26|       M|      501|SINGLE FAMILY DWE...| Invest Cont|34.1095|-118.2958|2020-11-27|2020-11-23|\n",
            "|200716724|   08:11|   Wilshire|       1|       442|SHOPLIFTING - PET...|      19|       M|      203|      OTHER BUSINESS| Invest Cont|34.0761|-118.3737|2020-12-04|2020-12-03|\n",
            "|200217442|   03:10|    Rampart|       1|       310|            BURGLARY|      36|       M|      210|RESTAURANT/FAST FOOD| Invest Cont|34.0758|-118.2552|2020-11-15|2020-11-15|\n",
            "|200914052|   12:55|   Van Nuys|       2|       624|BATTERY - SIMPLE ...|      57|       F|      102|            SIDEWALK| Invest Cont|34.1847|  -118.44|2020-08-27|2020-08-27|\n",
            "|200810920|   10:00|    West LA|       2|       624|BATTERY - SIMPLE ...|      78|       F|      510|NURSING/CONVALESC...| Adult Other|34.0423|-118.4656|2020-06-20|2020-06-20|\n",
            "|201112187|   19:00|  Northeast|       2|       662|  BUNCO, GRAND THEFT|      51|       F|      501|SINGLE FAMILY DWE...| Invest Cont| 34.099|-118.2738|2020-08-04|2020-07-16|\n",
            "+---------+--------+-----------+--------+----------+--------------------+--------+--------+---------+--------------------+------------+-------+---------+----------+----------+\n",
            "only showing top 20 rows\n",
            "\n"
          ]
        }
      ]
    },
    {
      "cell_type": "code",
      "source": [
        "df = df.withColumn(\"Crime code\", regexp_extract(col(\"Crime code\"), r\"(\\d+)\", 1))\n",
        "df.show()"
      ],
      "metadata": {
        "colab": {
          "base_uri": "https://localhost:8080/"
        },
        "id": "e7rOBeM0NEaj",
        "outputId": "933ab156-8f0a-438a-82b0-c70f5a23c64d"
      },
      "execution_count": null,
      "outputs": [
        {
          "output_type": "stream",
          "name": "stdout",
          "text": [
            "+---------+--------+-----------+--------+----------+--------------------+--------+--------+---------+--------------------+------------+-------+---------+----------+----------+\n",
            "|    DR_NO|TIME OCC|  AREA NAME|Part 1-2|Crime code|     Crime Code Desc|Vict Age|Vict Sex|Premis Cd|         Premis Desc| Status Desc|    LAT|      LON| Date_Rptd|  Date_Occ|\n",
            "+---------+--------+-----------+--------+----------+--------------------+--------+--------+---------+--------------------+------------+-------+---------+----------+----------+\n",
            "|200106753|   18:00|    Central|       1|       330|BURGLARY FROM VEH...|      47|       M|      128|BUS STOP/LAYOVER ...| Invest Cont|34.0444|-118.2628|2020-02-09|2020-02-08|\n",
            "|200320258|   17:00|  Southwest|       1|       480|       BIKE - STOLEN|      19|       X|      502|MULTI-UNIT DWELLI...| Invest Cont| 34.021|-118.3002|2020-11-11|2020-11-04|\n",
            "|200907217|   20:37|   Van Nuys|       1|       343|SHOPLIFTING-GRAND...|      19|       M|      405|      CLOTHING STORE| Invest Cont|34.1576|-118.4387|2023-05-10|2020-03-10|\n",
            "|200406391|   14:30| Hollenbeck|       1|       310|            BURGLARY|      27|       M|      221|      PUBLIC STORAGE| Invest Cont|34.0881|-118.1877|2020-03-02|2020-03-01|\n",
            "|200606074|   16:15|  Hollywood|       2|       805|             PIMPING|      23|       F|      101|              STREET|Adult Arrest|34.1016| -118.337|2020-02-12|2020-02-07|\n",
            "|201000767|   20:00|West Valley|       1|       330|BURGLARY FROM VEH...|      41|       M|      108|         PARKING LOT|Adult Arrest|34.1774|-118.5387|2020-07-14|2020-07-13|\n",
            "|201106871|   21:30|  Northeast|       2|       745|VANDALISM - MISDE...|      50|       M|      101|              STREET| Invest Cont|34.1241|-118.1878|2020-03-04|2020-03-02|\n",
            "|200111627|   22:00|    Central|       2|       626|INTIMATE PARTNER ...|      30|       F|      502|MULTI-UNIT DWELLI...|Adult Arrest|34.0618|-118.2424|2020-05-12|2020-05-10|\n",
            "|201225656|   22:45|77th Street|       1|       210|             ROBBERY|      21|       M|      101|              STREET| Invest Cont| 33.961|-118.2695|2020-12-02|2020-12-02|\n",
            "|200309451|   12:10|  Southwest|       1|       310|            BURGLARY|      19|       X|      301|         GAS STATION| Invest Cont|34.0199|-118.3556|2020-04-04|2020-04-04|\n",
            "|201212036|   23:30|77th Street|       1|       230|ASSAULT WITH DEAD...|      28|       F|      501|SINGLE FAMILY DWE...| Invest Cont|33.9654|-118.2739|2020-05-02|2020-05-01|\n",
            "|200914517|   17:35|   Van Nuys|       2|       354|   THEFT OF IDENTITY|      40|       M|      507|CONDOMINIUM/TOWNH...| Invest Cont|34.2039|-118.4312|2020-09-10|2020-09-09|\n",
            "|200105246|   09:40|    Central|       2|       624|BATTERY - SIMPLE ...|      42|       M|      502|MULTI-UNIT DWELLI...|Adult Arrest|34.0639|-118.2295|2020-01-18|2020-01-18|\n",
            "|201106067|   18:30|  Northeast|       1|       330|BURGLARY FROM VEH...|      43|       M|      108|         PARKING LOT| Invest Cont|34.1179| -118.293|2020-02-15|2020-02-15|\n",
            "|201116118|   12:00|  Northeast|       2|       354|   THEFT OF IDENTITY|      26|       M|      501|SINGLE FAMILY DWE...| Invest Cont|34.1095|-118.2958|2020-11-27|2020-11-23|\n",
            "|200716724|   08:11|   Wilshire|       1|       442|SHOPLIFTING - PET...|      19|       M|      203|      OTHER BUSINESS| Invest Cont|34.0761|-118.3737|2020-12-04|2020-12-03|\n",
            "|200217442|   03:10|    Rampart|       1|       310|            BURGLARY|      36|       M|      210|RESTAURANT/FAST FOOD| Invest Cont|34.0758|-118.2552|2020-11-15|2020-11-15|\n",
            "|200914052|   12:55|   Van Nuys|       2|       624|BATTERY - SIMPLE ...|      57|       F|      102|            SIDEWALK| Invest Cont|34.1847|  -118.44|2020-08-27|2020-08-27|\n",
            "|200810920|   10:00|    West LA|       2|       624|BATTERY - SIMPLE ...|      78|       F|      510|NURSING/CONVALESC...| Adult Other|34.0423|-118.4656|2020-06-20|2020-06-20|\n",
            "|201112187|   19:00|  Northeast|       2|       662|  BUNCO, GRAND THEFT|      51|       F|      501|SINGLE FAMILY DWE...| Invest Cont| 34.099|-118.2738|2020-08-04|2020-07-16|\n",
            "+---------+--------+-----------+--------+----------+--------------------+--------+--------+---------+--------------------+------------+-------+---------+----------+----------+\n",
            "only showing top 20 rows\n",
            "\n"
          ]
        }
      ]
    },
    {
      "cell_type": "code",
      "source": [
        "df = df.withColumn(\"Year\", year(col(\"Date_Rptd\")))\n",
        "df = df.withColumn(\"Month\", month(col(\"Date_Rptd\")))\n",
        "df.show()"
      ],
      "metadata": {
        "colab": {
          "base_uri": "https://localhost:8080/"
        },
        "id": "zpY6k8eINJA7",
        "outputId": "569fda9f-aee8-431d-9942-efa3a87b27a1"
      },
      "execution_count": null,
      "outputs": [
        {
          "output_type": "stream",
          "name": "stdout",
          "text": [
            "+---------+--------+-----------+--------+----------+--------------------+--------+--------+---------+--------------------+------------+-------+---------+----------+----------+----+-----+\n",
            "|    DR_NO|TIME OCC|  AREA NAME|Part 1-2|Crime code|     Crime Code Desc|Vict Age|Vict Sex|Premis Cd|         Premis Desc| Status Desc|    LAT|      LON| Date_Rptd|  Date_Occ|Year|Month|\n",
            "+---------+--------+-----------+--------+----------+--------------------+--------+--------+---------+--------------------+------------+-------+---------+----------+----------+----+-----+\n",
            "|200106753|   18:00|    Central|       1|       330|BURGLARY FROM VEH...|      47|       M|      128|BUS STOP/LAYOVER ...| Invest Cont|34.0444|-118.2628|2020-02-09|2020-02-08|2020|    2|\n",
            "|200320258|   17:00|  Southwest|       1|       480|       BIKE - STOLEN|      19|       X|      502|MULTI-UNIT DWELLI...| Invest Cont| 34.021|-118.3002|2020-11-11|2020-11-04|2020|   11|\n",
            "|200907217|   20:37|   Van Nuys|       1|       343|SHOPLIFTING-GRAND...|      19|       M|      405|      CLOTHING STORE| Invest Cont|34.1576|-118.4387|2023-05-10|2020-03-10|2023|    5|\n",
            "|200406391|   14:30| Hollenbeck|       1|       310|            BURGLARY|      27|       M|      221|      PUBLIC STORAGE| Invest Cont|34.0881|-118.1877|2020-03-02|2020-03-01|2020|    3|\n",
            "|200606074|   16:15|  Hollywood|       2|       805|             PIMPING|      23|       F|      101|              STREET|Adult Arrest|34.1016| -118.337|2020-02-12|2020-02-07|2020|    2|\n",
            "|201000767|   20:00|West Valley|       1|       330|BURGLARY FROM VEH...|      41|       M|      108|         PARKING LOT|Adult Arrest|34.1774|-118.5387|2020-07-14|2020-07-13|2020|    7|\n",
            "|201106871|   21:30|  Northeast|       2|       745|VANDALISM - MISDE...|      50|       M|      101|              STREET| Invest Cont|34.1241|-118.1878|2020-03-04|2020-03-02|2020|    3|\n",
            "|200111627|   22:00|    Central|       2|       626|INTIMATE PARTNER ...|      30|       F|      502|MULTI-UNIT DWELLI...|Adult Arrest|34.0618|-118.2424|2020-05-12|2020-05-10|2020|    5|\n",
            "|201225656|   22:45|77th Street|       1|       210|             ROBBERY|      21|       M|      101|              STREET| Invest Cont| 33.961|-118.2695|2020-12-02|2020-12-02|2020|   12|\n",
            "|200309451|   12:10|  Southwest|       1|       310|            BURGLARY|      19|       X|      301|         GAS STATION| Invest Cont|34.0199|-118.3556|2020-04-04|2020-04-04|2020|    4|\n",
            "|201212036|   23:30|77th Street|       1|       230|ASSAULT WITH DEAD...|      28|       F|      501|SINGLE FAMILY DWE...| Invest Cont|33.9654|-118.2739|2020-05-02|2020-05-01|2020|    5|\n",
            "|200914517|   17:35|   Van Nuys|       2|       354|   THEFT OF IDENTITY|      40|       M|      507|CONDOMINIUM/TOWNH...| Invest Cont|34.2039|-118.4312|2020-09-10|2020-09-09|2020|    9|\n",
            "|200105246|   09:40|    Central|       2|       624|BATTERY - SIMPLE ...|      42|       M|      502|MULTI-UNIT DWELLI...|Adult Arrest|34.0639|-118.2295|2020-01-18|2020-01-18|2020|    1|\n",
            "|201106067|   18:30|  Northeast|       1|       330|BURGLARY FROM VEH...|      43|       M|      108|         PARKING LOT| Invest Cont|34.1179| -118.293|2020-02-15|2020-02-15|2020|    2|\n",
            "|201116118|   12:00|  Northeast|       2|       354|   THEFT OF IDENTITY|      26|       M|      501|SINGLE FAMILY DWE...| Invest Cont|34.1095|-118.2958|2020-11-27|2020-11-23|2020|   11|\n",
            "|200716724|   08:11|   Wilshire|       1|       442|SHOPLIFTING - PET...|      19|       M|      203|      OTHER BUSINESS| Invest Cont|34.0761|-118.3737|2020-12-04|2020-12-03|2020|   12|\n",
            "|200217442|   03:10|    Rampart|       1|       310|            BURGLARY|      36|       M|      210|RESTAURANT/FAST FOOD| Invest Cont|34.0758|-118.2552|2020-11-15|2020-11-15|2020|   11|\n",
            "|200914052|   12:55|   Van Nuys|       2|       624|BATTERY - SIMPLE ...|      57|       F|      102|            SIDEWALK| Invest Cont|34.1847|  -118.44|2020-08-27|2020-08-27|2020|    8|\n",
            "|200810920|   10:00|    West LA|       2|       624|BATTERY - SIMPLE ...|      78|       F|      510|NURSING/CONVALESC...| Adult Other|34.0423|-118.4656|2020-06-20|2020-06-20|2020|    6|\n",
            "|201112187|   19:00|  Northeast|       2|       662|  BUNCO, GRAND THEFT|      51|       F|      501|SINGLE FAMILY DWE...| Invest Cont| 34.099|-118.2738|2020-08-04|2020-07-16|2020|    8|\n",
            "+---------+--------+-----------+--------+----------+--------------------+--------+--------+---------+--------------------+------------+-------+---------+----------+----------+----+-----+\n",
            "only showing top 20 rows\n",
            "\n"
          ]
        }
      ]
    },
    {
      "cell_type": "code",
      "source": [
        "area_crime_counts = df.groupBy(\"AREA NAME\").count()\n",
        "area_crime_counts.show()"
      ],
      "metadata": {
        "colab": {
          "base_uri": "https://localhost:8080/"
        },
        "id": "yfOfh6tlNL0f",
        "outputId": "d40f2c64-33a3-430c-82d4-39fb542120af"
      },
      "execution_count": null,
      "outputs": [
        {
          "output_type": "stream",
          "name": "stdout",
          "text": [
            "+-----------+-----+\n",
            "|  AREA NAME|count|\n",
            "+-----------+-----+\n",
            "|  Hollywood|   61|\n",
            "|     Harbor|   42|\n",
            "|     Newton|   18|\n",
            "|   Van Nuys|   53|\n",
            "|West Valley|   49|\n",
            "|   Wilshire|   64|\n",
            "|    Central|   67|\n",
            "| Hollenbeck|   46|\n",
            "|  Southwest|   87|\n",
            "|    Rampart|   46|\n",
            "|    West LA|   42|\n",
            "|77th Street|   81|\n",
            "|  Northeast|   47|\n",
            "+-----------+-----+\n",
            "\n"
          ]
        }
      ]
    },
    {
      "cell_type": "code",
      "source": [
        "df = df.toPandas()\n",
        "df.to_csv(\"cleaned_crime.csv\")"
      ],
      "metadata": {
        "id": "MuU2AJbVa0-I"
      },
      "execution_count": null,
      "outputs": []
    },
    {
      "cell_type": "code",
      "source": [
        "spark.stop()"
      ],
      "metadata": {
        "id": "1hz2DMlkbLKo"
      },
      "execution_count": null,
      "outputs": []
    }
  ]
}