{
  "nbformat": 4,
  "nbformat_minor": 0,
  "metadata": {
    "colab": {
      "provenance": []
    },
    "kernelspec": {
      "name": "python3",
      "display_name": "Python 3"
    },
    "language_info": {
      "name": "python"
    }
  },
  "cells": [
    {
      "cell_type": "code",
      "execution_count": null,
      "metadata": {
        "id": "7j3u3ck1topV"
      },
      "outputs": [],
      "source": [
        "from pyspark import *;\n",
        "from pyspark.sql import *;\n",
        "from pyspark.sql.functions import *;\n",
        "import pandas as pd;"
      ]
    },
    {
      "cell_type": "code",
      "source": [
        "spark = SparkSession.builder.appName(\"Q6\").getOrCreate()"
      ],
      "metadata": {
        "id": "1-Yh96WvvcNe"
      },
      "execution_count": null,
      "outputs": []
    },
    {
      "cell_type": "code",
      "source": [
        "df = spark.read.csv(\"movie_dataset_uncleaned.csv\",header=True,inferSchema=True)\n",
        "df.printSchema()\n",
        "df.show()"
      ],
      "metadata": {
        "colab": {
          "base_uri": "https://localhost:8080/"
        },
        "id": "JxfVjiMyvlJW",
        "outputId": "649f5193-4a0a-40ae-c272-740ae9289053"
      },
      "execution_count": null,
      "outputs": [
        {
          "output_type": "stream",
          "name": "stdout",
          "text": [
            "root\n",
            " |-- MOVIES: string (nullable = true)\n",
            " |-- YEAR: string (nullable = true)\n",
            " |-- GENRE: string (nullable = true)\n",
            " |-- RATING: double (nullable = true)\n",
            " |-- VOTES: integer (nullable = true)\n",
            " |-- RunTime: integer (nullable = true)\n",
            " |-- Gross: string (nullable = true)\n",
            "\n",
            "+--------------------+-----------+--------------------+------+-------+-------+-----+\n",
            "|              MOVIES|       YEAR|               GENRE|RATING|  VOTES|RunTime|Gross|\n",
            "+--------------------+-----------+--------------------+------+-------+-------+-----+\n",
            "|       Blood Red Sky|      -2021|Action$ Horror$ T...|   6.1|  21062|    121| NULL|\n",
            "|Masters of the Un...|   (2021– )|Animation$ Action...|   5.0|  17870|     25| NULL|\n",
            "|    The Walking Dead|(2010–2022)|Drama$ Horror$ Th...|   8.2| 885805|     44| NULL|\n",
            "|      Rick and Morty|   (2013– )|Animation$ Advent...|   9.2| 414849|     23| NULL|\n",
            "|     Army of Thieves|      -2021|Action$ Crime$ Ho...|  NULL|   NULL|   NULL| NULL|\n",
            "|         Outer Banks|   (2020– )|Action$ Crime$ Drama|   7.6|  25858|     50| NULL|\n",
            "|The Last Letter f...|      -2021|      Drama$ Romance|   6.8|   5283|    110| NULL|\n",
            "|              Dexter|(2006–2013)|Crime$ Drama$ Mys...|   8.6| 665387|     53| NULL|\n",
            "|   Never Have I Ever|   (2020– )|              Comedy|   7.9|  34530|     30| NULL|\n",
            "|        Virgin River|   (2019– )|                NULL|   7.4|  27279|     44| NULL|\n",
            "| Gunpowder Milkshake|      -2021|Action$ Adventure...|   6.0|  17989|    114| NULL|\n",
            "|             Lucifer|(2016–2021)|Crime$ Drama$ Fan...|   8.1| 264222|     42| NULL|\n",
            "|   Fear Street: 1994|      -2021|Drama$ Horror$ My...|   6.2|  50148|    107| NULL|\n",
            "|            Sex/Life|   (2021– )|Comedy$ Drama$ Ro...|   5.4|  12172|   NULL| NULL|\n",
            "|American Horror S...|   (2011– )|Drama$ Horror$ Th...|   8.0| 286488|     60| NULL|\n",
            "|      Grey's Anatomy|   (2005– )|      Drama$ Romance|   7.5| 266258|     41| NULL|\n",
            "|        Breaking Bad|(2008–2013)|Crime$ Drama$ Thr...|   9.4|1552311|     49| NULL|\n",
            "|     The Good Doctor|   (2017– )|               Drama|   8.1|  70871|     41| NULL|\n",
            "|            Atypical|(2017–2021)|       Comedy$ Drama|   8.3|  71544|     30| NULL|\n",
            "|     Stranger Things|   (2016– )|Drama$ Fantasy$ H...|   8.7| 885856|     51| NULL|\n",
            "+--------------------+-----------+--------------------+------+-------+-------+-----+\n",
            "only showing top 20 rows\n",
            "\n"
          ]
        }
      ]
    },
    {
      "cell_type": "code",
      "source": [
        "df.select([count(when(isnull(c) | isnan(c), c)).alias(c) for c in df.columns]).show()"
      ],
      "metadata": {
        "colab": {
          "base_uri": "https://localhost:8080/"
        },
        "id": "nCeCXh0pwBN8",
        "outputId": "37455561-5560-422e-de46-92a39766a309"
      },
      "execution_count": null,
      "outputs": [
        {
          "output_type": "stream",
          "name": "stdout",
          "text": [
            "+------+----+-----+------+-----+-------+-----+\n",
            "|MOVIES|YEAR|GENRE|RATING|VOTES|RunTime|Gross|\n",
            "+------+----+-----+------+-----+-------+-----+\n",
            "|     0|  13|   94|    64|   64|    103| 1311|\n",
            "+------+----+-----+------+-----+-------+-----+\n",
            "\n"
          ]
        }
      ]
    },
    {
      "cell_type": "code",
      "source": [
        "df = df.fillna({\"RATING\":df.select(mean(col(\"RATING\"))).collect()[0][0]})"
      ],
      "metadata": {
        "id": "TFpc_ipEwNK_"
      },
      "execution_count": null,
      "outputs": []
    },
    {
      "cell_type": "code",
      "source": [
        "df = df.fillna({\"VOTES\":df.select(median(col(\"VOTES\"))).collect()[0][0]})"
      ],
      "metadata": {
        "id": "OsQa7h9Ywv3H"
      },
      "execution_count": null,
      "outputs": []
    },
    {
      "cell_type": "code",
      "source": [
        "df = df.fillna({\"RunTime\":0})\n",
        "df = df.fillna({'Genre': 'Unknown'})\n",
        "df = df.fillna({'Gross': '$0.00M'})"
      ],
      "metadata": {
        "id": "By1IqhZ5yO18"
      },
      "execution_count": null,
      "outputs": []
    },
    {
      "cell_type": "code",
      "source": [
        "df = df.filter((col(\"Rating\")>=1) & (col(\"Rating\")<=10))\n",
        "df.show()"
      ],
      "metadata": {
        "colab": {
          "base_uri": "https://localhost:8080/"
        },
        "id": "ugqA7Im1yjKn",
        "outputId": "149625d7-dd22-4402-d797-a10b6f7e6421"
      },
      "execution_count": null,
      "outputs": [
        {
          "output_type": "stream",
          "name": "stdout",
          "text": [
            "+--------------------+-----------+--------------------+------+-------+-------+------+\n",
            "|              MOVIES|       YEAR|               GENRE|RATING|  VOTES|RunTime| Gross|\n",
            "+--------------------+-----------+--------------------+------+-------+-------+------+\n",
            "|       Blood Red Sky|      -2021|Action$ Horror$ T...|   6.1|  21062|    121|$0.00M|\n",
            "|Masters of the Un...|   (2021– )|Animation$ Action...|   5.0|  17870|     25|$0.00M|\n",
            "|    The Walking Dead|(2010–2022)|Drama$ Horror$ Th...|   8.2| 885805|     44|$0.00M|\n",
            "|      Rick and Morty|   (2013– )|Animation$ Advent...|   9.2| 414849|     23|$0.00M|\n",
            "|         Outer Banks|   (2020– )|Action$ Crime$ Drama|   7.6|  25858|     50|$0.00M|\n",
            "|The Last Letter f...|      -2021|      Drama$ Romance|   6.8|   5283|    110|$0.00M|\n",
            "|              Dexter|(2006–2013)|Crime$ Drama$ Mys...|   8.6| 665387|     53|$0.00M|\n",
            "|   Never Have I Ever|   (2020– )|              Comedy|   7.9|  34530|     30|$0.00M|\n",
            "|        Virgin River|   (2019– )|             Unknown|   7.4|  27279|     44|$0.00M|\n",
            "| Gunpowder Milkshake|      -2021|Action$ Adventure...|   6.0|  17989|    114|$0.00M|\n",
            "|             Lucifer|(2016–2021)|Crime$ Drama$ Fan...|   8.1| 264222|     42|$0.00M|\n",
            "|   Fear Street: 1994|      -2021|Drama$ Horror$ My...|   6.2|  50148|    107|$0.00M|\n",
            "|            Sex/Life|   (2021– )|Comedy$ Drama$ Ro...|   5.4|  12172|      0|$0.00M|\n",
            "|American Horror S...|   (2011– )|Drama$ Horror$ Th...|   8.0| 286488|     60|$0.00M|\n",
            "|      Grey's Anatomy|   (2005– )|      Drama$ Romance|   7.5| 266258|     41|$0.00M|\n",
            "|        Breaking Bad|(2008–2013)|Crime$ Drama$ Thr...|   9.4|1552311|     49|$0.00M|\n",
            "|     The Good Doctor|   (2017– )|               Drama|   8.1|  70871|     41|$0.00M|\n",
            "|            Atypical|(2017–2021)|       Comedy$ Drama|   8.3|  71544|     30|$0.00M|\n",
            "|     Stranger Things|   (2016– )|Drama$ Fantasy$ H...|   8.7| 885856|     51|$0.00M|\n",
            "|   Fear Street: 1978|      -2021|Drama$ Horror$ My...|   6.8|  36634|    109|$0.00M|\n",
            "+--------------------+-----------+--------------------+------+-------+-------+------+\n",
            "only showing top 20 rows\n",
            "\n"
          ]
        }
      ]
    },
    {
      "cell_type": "code",
      "source": [
        "df = df.filter(col(\"YEAR\").isNotNull())"
      ],
      "metadata": {
        "id": "EqlW0boHyx3l"
      },
      "execution_count": null,
      "outputs": []
    },
    {
      "cell_type": "code",
      "source": [
        "df = df.withColumn(\"End_Year\", when(col(\"Year\").rlike(\"^-\\d{4}$\"),\n",
        "                                    regexp_extract(col(\"Year\"), r\"^-(\\d{4})$\", 1).cast(\"int\")))\n",
        "df = df.withColumn(\"Start_Year\", when(col(\"End_Year\").isNotNull(), col(\"End_Year\") - 5))\n",
        "df.show()\n"
      ],
      "metadata": {
        "colab": {
          "base_uri": "https://localhost:8080/"
        },
        "id": "LleVPlnG0F1-",
        "outputId": "aba5921a-2e53-47e0-e4d9-a6c9ce62e0ff"
      },
      "execution_count": null,
      "outputs": [
        {
          "output_type": "stream",
          "name": "stdout",
          "text": [
            "+--------------------+-----------+--------------------+------+-------+-------+------+--------+----------+\n",
            "|              MOVIES|       YEAR|               GENRE|RATING|  VOTES|RunTime| Gross|End_Year|Start_Year|\n",
            "+--------------------+-----------+--------------------+------+-------+-------+------+--------+----------+\n",
            "|       Blood Red Sky|      -2021|Action$ Horror$ T...|   6.1|  21062|    121|$0.00M|    2021|      2016|\n",
            "|Masters of the Un...|   (2021– )|Animation$ Action...|   5.0|  17870|     25|$0.00M|    NULL|      NULL|\n",
            "|    The Walking Dead|(2010–2022)|Drama$ Horror$ Th...|   8.2| 885805|     44|$0.00M|    NULL|      NULL|\n",
            "|      Rick and Morty|   (2013– )|Animation$ Advent...|   9.2| 414849|     23|$0.00M|    NULL|      NULL|\n",
            "|         Outer Banks|   (2020– )|Action$ Crime$ Drama|   7.6|  25858|     50|$0.00M|    NULL|      NULL|\n",
            "|The Last Letter f...|      -2021|      Drama$ Romance|   6.8|   5283|    110|$0.00M|    2021|      2016|\n",
            "|              Dexter|(2006–2013)|Crime$ Drama$ Mys...|   8.6| 665387|     53|$0.00M|    NULL|      NULL|\n",
            "|   Never Have I Ever|   (2020– )|              Comedy|   7.9|  34530|     30|$0.00M|    NULL|      NULL|\n",
            "|        Virgin River|   (2019– )|             Unknown|   7.4|  27279|     44|$0.00M|    NULL|      NULL|\n",
            "| Gunpowder Milkshake|      -2021|Action$ Adventure...|   6.0|  17989|    114|$0.00M|    2021|      2016|\n",
            "|             Lucifer|(2016–2021)|Crime$ Drama$ Fan...|   8.1| 264222|     42|$0.00M|    NULL|      NULL|\n",
            "|   Fear Street: 1994|      -2021|Drama$ Horror$ My...|   6.2|  50148|    107|$0.00M|    2021|      2016|\n",
            "|            Sex/Life|   (2021– )|Comedy$ Drama$ Ro...|   5.4|  12172|      0|$0.00M|    NULL|      NULL|\n",
            "|American Horror S...|   (2011– )|Drama$ Horror$ Th...|   8.0| 286488|     60|$0.00M|    NULL|      NULL|\n",
            "|      Grey's Anatomy|   (2005– )|      Drama$ Romance|   7.5| 266258|     41|$0.00M|    NULL|      NULL|\n",
            "|        Breaking Bad|(2008–2013)|Crime$ Drama$ Thr...|   9.4|1552311|     49|$0.00M|    NULL|      NULL|\n",
            "|     The Good Doctor|   (2017– )|               Drama|   8.1|  70871|     41|$0.00M|    NULL|      NULL|\n",
            "|            Atypical|(2017–2021)|       Comedy$ Drama|   8.3|  71544|     30|$0.00M|    NULL|      NULL|\n",
            "|     Stranger Things|   (2016– )|Drama$ Fantasy$ H...|   8.7| 885856|     51|$0.00M|    NULL|      NULL|\n",
            "|   Fear Street: 1978|      -2021|Drama$ Horror$ My...|   6.8|  36634|    109|$0.00M|    2021|      2016|\n",
            "+--------------------+-----------+--------------------+------+-------+-------+------+--------+----------+\n",
            "only showing top 20 rows\n",
            "\n"
          ]
        }
      ]
    },
    {
      "cell_type": "code",
      "source": [
        "df = df.withColumn(\"Start_Year\", when(col(\"Start_Year\").isNull(), regexp_extract(col(\"Year\"), r\"(\\d{4})\", 1).cast(\"int\")).otherwise(col(\"Start_Year\")))\n",
        "df = df.withColumn(\"End_Year\", when(col(\"End_Year\").isNull(), regexp_extract(col(\"Year\"), r\"(\\d{4})$\", 1).cast(\"int\")).otherwise(col(\"End_Year\")))"
      ],
      "metadata": {
        "id": "GeSLqn3N0GCJ"
      },
      "execution_count": null,
      "outputs": []
    },
    {
      "cell_type": "code",
      "source": [
        "df = df.withColumn(\"Start_Year\", when(col(\"Start_Year\").isNull(), col(\"End_Year\") - 5).otherwise(col(\"Start_Year\")))\n",
        "df = df.withColumn(\"End_Year\", when(col(\"End_Year\").isNull(), col(\"Start_Year\") + 5).otherwise(col(\"End_Year\")))"
      ],
      "metadata": {
        "id": "2h47NB_R0GYl"
      },
      "execution_count": null,
      "outputs": []
    },
    {
      "cell_type": "code",
      "source": [
        "df.show()"
      ],
      "metadata": {
        "colab": {
          "base_uri": "https://localhost:8080/"
        },
        "id": "b-c8FYq67i0T",
        "outputId": "a845bda9-8d9b-426b-c0e9-6997ff12c304"
      },
      "execution_count": null,
      "outputs": [
        {
          "output_type": "stream",
          "name": "stdout",
          "text": [
            "+--------------------+-----------+--------------------+------+-------+-------+------+--------+----------+\n",
            "|              MOVIES|       YEAR|               GENRE|RATING|  VOTES|RunTime| Gross|End_Year|Start_Year|\n",
            "+--------------------+-----------+--------------------+------+-------+-------+------+--------+----------+\n",
            "|       Blood Red Sky|      -2021|Action$ Horror$ T...|   6.1|  21062|    121|$0.00M|    2021|      2016|\n",
            "|Masters of the Un...|   (2021– )|Animation$ Action...|   5.0|  17870|     25|$0.00M|    2026|      2021|\n",
            "|    The Walking Dead|(2010–2022)|Drama$ Horror$ Th...|   8.2| 885805|     44|$0.00M|    2015|      2010|\n",
            "|      Rick and Morty|   (2013– )|Animation$ Advent...|   9.2| 414849|     23|$0.00M|    2018|      2013|\n",
            "|         Outer Banks|   (2020– )|Action$ Crime$ Drama|   7.6|  25858|     50|$0.00M|    2025|      2020|\n",
            "|The Last Letter f...|      -2021|      Drama$ Romance|   6.8|   5283|    110|$0.00M|    2021|      2016|\n",
            "|              Dexter|(2006–2013)|Crime$ Drama$ Mys...|   8.6| 665387|     53|$0.00M|    2011|      2006|\n",
            "|   Never Have I Ever|   (2020– )|              Comedy|   7.9|  34530|     30|$0.00M|    2025|      2020|\n",
            "|        Virgin River|   (2019– )|             Unknown|   7.4|  27279|     44|$0.00M|    2024|      2019|\n",
            "| Gunpowder Milkshake|      -2021|Action$ Adventure...|   6.0|  17989|    114|$0.00M|    2021|      2016|\n",
            "|             Lucifer|(2016–2021)|Crime$ Drama$ Fan...|   8.1| 264222|     42|$0.00M|    2021|      2016|\n",
            "|   Fear Street: 1994|      -2021|Drama$ Horror$ My...|   6.2|  50148|    107|$0.00M|    2021|      2016|\n",
            "|            Sex/Life|   (2021– )|Comedy$ Drama$ Ro...|   5.4|  12172|      0|$0.00M|    2026|      2021|\n",
            "|American Horror S...|   (2011– )|Drama$ Horror$ Th...|   8.0| 286488|     60|$0.00M|    2016|      2011|\n",
            "|      Grey's Anatomy|   (2005– )|      Drama$ Romance|   7.5| 266258|     41|$0.00M|    2010|      2005|\n",
            "|        Breaking Bad|(2008–2013)|Crime$ Drama$ Thr...|   9.4|1552311|     49|$0.00M|    2013|      2008|\n",
            "|     The Good Doctor|   (2017– )|               Drama|   8.1|  70871|     41|$0.00M|    2022|      2017|\n",
            "|            Atypical|(2017–2021)|       Comedy$ Drama|   8.3|  71544|     30|$0.00M|    2022|      2017|\n",
            "|     Stranger Things|   (2016– )|Drama$ Fantasy$ H...|   8.7| 885856|     51|$0.00M|    2021|      2016|\n",
            "|   Fear Street: 1978|      -2021|Drama$ Horror$ My...|   6.8|  36634|    109|$0.00M|    2021|      2016|\n",
            "+--------------------+-----------+--------------------+------+-------+-------+------+--------+----------+\n",
            "only showing top 20 rows\n",
            "\n"
          ]
        }
      ]
    },
    {
      "cell_type": "code",
      "source": [
        "df = df.dropna(subset=[\"Start_Year\", \"End_Year\"])"
      ],
      "metadata": {
        "id": "WckYg3nF7ZTM"
      },
      "execution_count": null,
      "outputs": []
    },
    {
      "cell_type": "code",
      "source": [
        "df = df.withColumn(\"Final_Genre\", split(col(\"Genre\"), \"\\$\")[0])\n",
        "df = df.withColumn(\"Final_Genre\", when(col(\"Final_Genre\").isNull(), \"unknown\").otherwise(col(\"Final_Genre\")))\n",
        "df.show()"
      ],
      "metadata": {
        "colab": {
          "base_uri": "https://localhost:8080/"
        },
        "id": "GQJLdNms72-N",
        "outputId": "b50a7f91-ed9b-4d9d-d1ef-9e3f9a4943da"
      },
      "execution_count": null,
      "outputs": [
        {
          "output_type": "stream",
          "name": "stdout",
          "text": [
            "+--------------------+-----------+--------------------+------+-------+-------+------+--------+----------+-----------+\n",
            "|              MOVIES|       YEAR|               GENRE|RATING|  VOTES|RunTime| Gross|End_Year|Start_Year|Final_Genre|\n",
            "+--------------------+-----------+--------------------+------+-------+-------+------+--------+----------+-----------+\n",
            "|       Blood Red Sky|      -2021|Action$ Horror$ T...|   6.1|  21062|    121|$0.00M|    2021|      2016|     Action|\n",
            "|Masters of the Un...|   (2021– )|Animation$ Action...|   5.0|  17870|     25|$0.00M|    2026|      2021|  Animation|\n",
            "|    The Walking Dead|(2010–2022)|Drama$ Horror$ Th...|   8.2| 885805|     44|$0.00M|    2015|      2010|      Drama|\n",
            "|      Rick and Morty|   (2013– )|Animation$ Advent...|   9.2| 414849|     23|$0.00M|    2018|      2013|  Animation|\n",
            "|         Outer Banks|   (2020– )|Action$ Crime$ Drama|   7.6|  25858|     50|$0.00M|    2025|      2020|     Action|\n",
            "|The Last Letter f...|      -2021|      Drama$ Romance|   6.8|   5283|    110|$0.00M|    2021|      2016|      Drama|\n",
            "|              Dexter|(2006–2013)|Crime$ Drama$ Mys...|   8.6| 665387|     53|$0.00M|    2011|      2006|      Crime|\n",
            "|   Never Have I Ever|   (2020– )|              Comedy|   7.9|  34530|     30|$0.00M|    2025|      2020|     Comedy|\n",
            "|        Virgin River|   (2019– )|             Unknown|   7.4|  27279|     44|$0.00M|    2024|      2019|    Unknown|\n",
            "| Gunpowder Milkshake|      -2021|Action$ Adventure...|   6.0|  17989|    114|$0.00M|    2021|      2016|     Action|\n",
            "|             Lucifer|(2016–2021)|Crime$ Drama$ Fan...|   8.1| 264222|     42|$0.00M|    2021|      2016|      Crime|\n",
            "|   Fear Street: 1994|      -2021|Drama$ Horror$ My...|   6.2|  50148|    107|$0.00M|    2021|      2016|      Drama|\n",
            "|            Sex/Life|   (2021– )|Comedy$ Drama$ Ro...|   5.4|  12172|      0|$0.00M|    2026|      2021|     Comedy|\n",
            "|American Horror S...|   (2011– )|Drama$ Horror$ Th...|   8.0| 286488|     60|$0.00M|    2016|      2011|      Drama|\n",
            "|      Grey's Anatomy|   (2005– )|      Drama$ Romance|   7.5| 266258|     41|$0.00M|    2010|      2005|      Drama|\n",
            "|        Breaking Bad|(2008–2013)|Crime$ Drama$ Thr...|   9.4|1552311|     49|$0.00M|    2013|      2008|      Crime|\n",
            "|     The Good Doctor|   (2017– )|               Drama|   8.1|  70871|     41|$0.00M|    2022|      2017|      Drama|\n",
            "|            Atypical|(2017–2021)|       Comedy$ Drama|   8.3|  71544|     30|$0.00M|    2022|      2017|     Comedy|\n",
            "|     Stranger Things|   (2016– )|Drama$ Fantasy$ H...|   8.7| 885856|     51|$0.00M|    2021|      2016|      Drama|\n",
            "|   Fear Street: 1978|      -2021|Drama$ Horror$ My...|   6.8|  36634|    109|$0.00M|    2021|      2016|      Drama|\n",
            "+--------------------+-----------+--------------------+------+-------+-------+------+--------+----------+-----------+\n",
            "only showing top 20 rows\n",
            "\n"
          ]
        }
      ]
    },
    {
      "cell_type": "code",
      "source": [
        "df = df.toPandas()\n",
        "df.to_csv(\"cleaned_6.csv\")"
      ],
      "metadata": {
        "id": "8uKxNvGLzgg0"
      },
      "execution_count": null,
      "outputs": []
    },
    {
      "cell_type": "code",
      "source": [
        "spark.stop()"
      ],
      "metadata": {
        "id": "JAoaHqZc0EbX"
      },
      "execution_count": null,
      "outputs": []
    }
  ]
}