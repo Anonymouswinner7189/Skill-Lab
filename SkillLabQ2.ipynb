{
  "nbformat": 4,
  "nbformat_minor": 0,
  "metadata": {
    "colab": {
      "provenance": []
    },
    "kernelspec": {
      "name": "python3",
      "display_name": "Python 3"
    },
    "language_info": {
      "name": "python"
    }
  },
  "cells": [
    {
      "cell_type": "code",
      "execution_count": null,
      "metadata": {
        "id": "UFGagWKUnsoK"
      },
      "outputs": [],
      "source": [
        "from pyspark.sql import *;\n",
        "from pyspark.sql.functions import *;\n",
        "from pyspark.sql.window import *;\n",
        "import pandas as pd;"
      ]
    },
    {
      "cell_type": "code",
      "source": [
        "spark = SparkSession.builder.appName(\"Q2\").getOrCreate()"
      ],
      "metadata": {
        "id": "WvA0BO5Bn8zL"
      },
      "execution_count": null,
      "outputs": []
    },
    {
      "cell_type": "code",
      "source": [
        "df = spark.read.csv(\"Sales Data.csv\",header=True,inferSchema=True)\n",
        "df.printSchema()\n",
        "df.show()"
      ],
      "metadata": {
        "colab": {
          "base_uri": "https://localhost:8080/"
        },
        "id": "XrlboWpjoHYl",
        "outputId": "1e04a941-2648-4e64-f271-7268c32faf89"
      },
      "execution_count": null,
      "outputs": [
        {
          "output_type": "stream",
          "name": "stdout",
          "text": [
            "root\n",
            " |-- _c0: integer (nullable = true)\n",
            " |-- Order ID: integer (nullable = true)\n",
            " |-- Product: string (nullable = true)\n",
            " |-- Quantity Ordered: integer (nullable = true)\n",
            " |-- Price Each: double (nullable = true)\n",
            " |-- Order Date: string (nullable = true)\n",
            " |-- Purchase Address: string (nullable = true)\n",
            " |-- Month: integer (nullable = true)\n",
            " |-- Sales: double (nullable = true)\n",
            " |-- City: string (nullable = true)\n",
            " |-- Hour: integer (nullable = true)\n",
            "\n",
            "+---+--------+--------------------+----------------+----------+----------------+--------------------+-----+------+--------------+----+\n",
            "|_c0|Order ID|             Product|Quantity Ordered|Price Each|      Order Date|    Purchase Address|Month| Sales|          City|Hour|\n",
            "+---+--------+--------------------+----------------+----------+----------------+--------------------+-----+------+--------------+----+\n",
            "|  0|  295665|  Macbook Pro Laptop|               1|    1700.0|30-12-2019 00:01|136 Church St, Ne...|   12|1700.0| New York City|   0|\n",
            "|  1|  295666|  LG Washing Machine|               1|     600.0|29-12-2019 07:03|562 2nd St, New Y...|   12| 600.0| New York City|   7|\n",
            "|  2|  295667|USB-C Charging Cable|               1|     11.95|12-12-2019 18:21|277 Main St, New ...|   12| 11.95| New York City|  18|\n",
            "|  3|  295668|    27in FHD Monitor|               1|    149.99|22-12-2019 15:13|410 6th St, San F...|   12|149.99| San Francisco|  15|\n",
            "|  4|  295669|USB-C Charging Cable|               1|     11.95|18-12-2019 12:38|43 Hill St, Atlan...|   12| 11.95|       Atlanta| -12|\n",
            "|  5|  295670|AA Batteries (4-p...|               1|      3.84|31-12-2019 22:58|200 Jefferson St,...|   12|  NULL| New York City| 122|\n",
            "|  6|  295671|USB-C Charging Cable|               1|     11.95|16-12-2019 15:10|928 12th St, Port...|   12| 11.95|      Portland|  15|\n",
            "|  7|  295672|USB-C Charging Cable|               2|     11.95|13-12-2019 09:29|813 Hickory St, D...|   12|  23.9|        Dallas|   9|\n",
            "|  8|  295673|Bose SoundSport H...|               1|     99.99|15-12-2019 23:26|718 Wilson St, Da...|   12| 99.99|        Dallas|  23|\n",
            "|  9|  295674|AAA Batteries (4-...|               4|      2.99|28-12-2019 11:51|77 7th St, Dallas...|   12| 11.96|        Dallas|  11|\n",
            "| 10|  295675|USB-C Charging Cable|               2|     11.95|13-12-2019 13:52|594 1st St, San F...|   12|  23.9| San Francisco|  13|\n",
            "| 11|  295676|     ThinkPad Laptop|               1|    999.99|28-12-2019 17:19|410 Lincoln St, L...|   12|999.99|   Los Angeles|  17|\n",
            "| 12|  295677|AA Batteries (4-p...|               2|      3.84|20-12-2019 19:19|866 Pine St, Bost...|   12|  7.68|        Boston| -19|\n",
            "| 13|  295678|AAA Batteries (4-...|               2|      2.99|06-12-2019 09:38|187 Lincoln St, D...|   12|  5.98|        Dallas|   9|\n",
            "| 14|  295679|USB-C Charging Cable|               1|     11.95|25-12-2019 09:39|902 2nd St, Dalla...|   12| 11.95|        Dallas|   9|\n",
            "| 15|  295680|Lightning Chargin...|               1|     14.95|01-12-2019 14:30|338 Main St, Aust...|   12| 14.95|        Austin|  14|\n",
            "| 16|  295681|        Google Phone|               1|     600.0|25-12-2019 12:37|79 Elm St, Boston...|   12| 600.0|        Boston|  12|\n",
            "| 17|  295681|USB-C Charging Cable|               1|     11.95|25-12-2019 12:37|79 Elm St, Boston...|   12|  NULL|        Boston|  12|\n",
            "| 18|  295681|Bose SoundSport H...|               1|     99.99|25-12-2019 12:37|79 Elm St, Boston...|   12| 99.99|        Boston|  12|\n",
            "| 19|  295681|    Wired Headphones|               1|     11.99|25-12-2019 12:37|79 Elm St, Boston...|   12| 11.99|        Boston|  12|\n",
            "+---+--------+--------------------+----------------+----------+----------------+--------------------+-----+------+--------------+----+\n",
            "only showing top 20 rows\n",
            "\n"
          ]
        }
      ]
    },
    {
      "cell_type": "code",
      "source": [
        "df.select([count(when(isnan(c)|isnull(c),c)).alias(c) for c in df.columns]).show()"
      ],
      "metadata": {
        "colab": {
          "base_uri": "https://localhost:8080/"
        },
        "id": "gV3gOhdGokJo",
        "outputId": "5473cb26-142f-49b2-99d0-37e1041eec78"
      },
      "execution_count": null,
      "outputs": [
        {
          "output_type": "stream",
          "name": "stdout",
          "text": [
            "+---+--------+-------+----------------+----------+----------+----------------+-----+-----+----+----+\n",
            "|_c0|Order ID|Product|Quantity Ordered|Price Each|Order Date|Purchase Address|Month|Sales|City|Hour|\n",
            "+---+--------+-------+----------------+----------+----------+----------------+-----+-----+----+----+\n",
            "|  0|       0|      0|               0|         0|         0|               0|    0|    3|   0|   0|\n",
            "+---+--------+-------+----------------+----------+----------+----------------+-----+-----+----+----+\n",
            "\n"
          ]
        }
      ]
    },
    {
      "cell_type": "code",
      "source": [
        "numerical_cols = [\"Sales\"]\n",
        "for c in numerical_cols:\n",
        "  mean_value = df.select(mean(c)).first()[0]\n",
        "  df = df.fillna({c:mean_value})\n",
        "\n",
        "df.select([count(when(isnan(c)|isnull(c),c)).alias(c) for c in df.columns]).show()"
      ],
      "metadata": {
        "id": "jWw5VxYHpG7T",
        "colab": {
          "base_uri": "https://localhost:8080/"
        },
        "outputId": "33c7ecd7-4d69-40f3-90c8-087391133ba6"
      },
      "execution_count": null,
      "outputs": [
        {
          "output_type": "stream",
          "name": "stdout",
          "text": [
            "+---+--------+-------+----------------+----------+----------+----------------+-----+-----+----+----+\n",
            "|_c0|Order ID|Product|Quantity Ordered|Price Each|Order Date|Purchase Address|Month|Sales|City|Hour|\n",
            "+---+--------+-------+----------------+----------+----------+----------------+-----+-----+----+----+\n",
            "|  0|       0|      0|               0|         0|         0|               0|    0|    0|   0|   0|\n",
            "+---+--------+-------+----------------+----------+----------+----------------+-----+-----+----+----+\n",
            "\n"
          ]
        }
      ]
    },
    {
      "cell_type": "code",
      "source": [
        "df = df.filter(col(\"Order ID\").isNotNull() & col(\"Product\").isNotNull())"
      ],
      "metadata": {
        "id": "P-yPm9Dwq9Bq"
      },
      "execution_count": null,
      "outputs": []
    },
    {
      "cell_type": "code",
      "source": [
        "df = df.dropDuplicates()"
      ],
      "metadata": {
        "id": "OyDhnI04qG59"
      },
      "execution_count": null,
      "outputs": []
    },
    {
      "cell_type": "code",
      "source": [
        "df.printSchema()"
      ],
      "metadata": {
        "colab": {
          "base_uri": "https://localhost:8080/"
        },
        "id": "iugdLwMaq1md",
        "outputId": "f5d7c19c-6a66-49e2-98a5-aa55513bfb59"
      },
      "execution_count": null,
      "outputs": [
        {
          "output_type": "stream",
          "name": "stdout",
          "text": [
            "root\n",
            " |-- _c0: integer (nullable = true)\n",
            " |-- Order ID: integer (nullable = true)\n",
            " |-- Product: string (nullable = true)\n",
            " |-- Quantity Ordered: integer (nullable = true)\n",
            " |-- Price Each: double (nullable = true)\n",
            " |-- Order Date: string (nullable = true)\n",
            " |-- Purchase Address: string (nullable = true)\n",
            " |-- Month: integer (nullable = true)\n",
            " |-- Sales: double (nullable = false)\n",
            " |-- City: string (nullable = true)\n",
            " |-- Hour: integer (nullable = true)\n",
            "\n"
          ]
        }
      ]
    },
    {
      "cell_type": "code",
      "source": [
        "df = df.filter((col(\"Sales\")>=0) & (col(\"Price Each\")>=0) & (col(\"Quantity Ordered\")>=0))"
      ],
      "metadata": {
        "id": "Usrxk2u6rUe0"
      },
      "execution_count": null,
      "outputs": []
    },
    {
      "cell_type": "code",
      "source": [
        "product_sales = df.groupBy(\"Product\").agg(round(sum(\"Sales\"),2).alias(\"Product Sales\"))\n",
        "product_sales.show()"
      ],
      "metadata": {
        "colab": {
          "base_uri": "https://localhost:8080/"
        },
        "id": "56eRhcqCrtZr",
        "outputId": "fc8e6620-3192-4191-e6ea-0d89a4d3d0a5"
      },
      "execution_count": null,
      "outputs": [
        {
          "output_type": "stream",
          "name": "stdout",
          "text": [
            "+--------------------+-------------+\n",
            "|             Product|Product Sales|\n",
            "+--------------------+-------------+\n",
            "|    Wired Headphones|    246651.93|\n",
            "|  Macbook Pro Laptop|    8037600.0|\n",
            "|Apple Airpods Hea...|    2349150.0|\n",
            "|              iPhone|    4794300.0|\n",
            "|Lightning Chargin...|    347094.15|\n",
            "|Bose SoundSport H...|   1345565.43|\n",
            "|USB-C Charging Cable|    286674.79|\n",
            "|AAA Batteries (4-...|     92740.83|\n",
            "|        20in Monitor|    454148.71|\n",
            "|    27in FHD Monitor|    1132424.5|\n",
            "|     Vareebadd Phone|     827200.0|\n",
            "|34in Ultrawide Mo...|   2355558.01|\n",
            "|            LG Dryer|     387600.0|\n",
            "|AA Batteries (4-p...|    106300.05|\n",
            "|        Google Phone|    3319200.0|\n",
            "|       Flatscreen TV|    1445700.0|\n",
            "|  LG Washing Machine|     399600.0|\n",
            "|27in 4K Gaming Mo...|   2435097.56|\n",
            "|     ThinkPad Laptop|    4129958.7|\n",
            "+--------------------+-------------+\n",
            "\n"
          ]
        }
      ]
    }
  ]
}