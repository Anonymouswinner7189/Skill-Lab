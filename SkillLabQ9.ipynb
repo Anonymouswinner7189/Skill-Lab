{
  "nbformat": 4,
  "nbformat_minor": 0,
  "metadata": {
    "colab": {
      "provenance": []
    },
    "kernelspec": {
      "name": "python3",
      "display_name": "Python 3"
    },
    "language_info": {
      "name": "python"
    }
  },
  "cells": [
    {
      "cell_type": "code",
      "execution_count": null,
      "metadata": {
        "colab": {
          "base_uri": "https://localhost:8080/"
        },
        "id": "vBo2UMwegO_N",
        "outputId": "017f2e51-8bde-4cfe-b2db-5c59404c4195"
      },
      "outputs": [
        {
          "output_type": "stream",
          "name": "stdout",
          "text": [
            "root\n",
            " |-- school: string (nullable = true)\n",
            " |-- sex: string (nullable = true)\n",
            " |-- age: integer (nullable = true)\n",
            " |-- address: string (nullable = true)\n",
            " |-- family_size: string (nullable = true)\n",
            " |-- Mother_edu: integer (nullable = true)\n",
            " |-- Father_edu: integer (nullable = true)\n",
            " |-- Mother_job: string (nullable = true)\n",
            " |-- Father_job: string (nullable = true)\n",
            " |-- traveltime: integer (nullable = true)\n",
            " |-- internet: string (nullable = true)\n",
            "\n",
            "+------+---+---+-------+-----------+----------+----------+----------+----------+----------+--------+\n",
            "|school|sex|age|address|family_size|Mother_edu|Father_edu|Mother_job|Father_job|traveltime|internet|\n",
            "+------+---+---+-------+-----------+----------+----------+----------+----------+----------+--------+\n",
            "|    GP|  F| 18|      U|        GT3|         4|         4|   at_home|   teacher|         2|      no|\n",
            "|    GP|  F| 17|      U|        GT3|         1|         1|   at_home|     other|         1|     yes|\n",
            "|    GP|  F| 15|      U|        LE3|         1|         1|   at_home|     other|         1|     yes|\n",
            "|    GP|  F| 15|      U|        GT3|         4|         2|    health|  services|         1|     yes|\n",
            "|    GP|  F| 16|      U|        GT3|         3|         3|     other|     other|         1|      no|\n",
            "|    GP|  M| 16|      U|        LE3|         4|         3|  services|     other|         1|     yes|\n",
            "|    GP|  M| 16|      U|        LE3|         2|         2|     other|     other|         1|     yes|\n",
            "|    GP|  F| 17|      U|        GT3|         4|         4|     other|   teacher|         2|      no|\n",
            "|    GP|  M| 15|      U|        LE3|         3|         2|  services|     other|         1|     yes|\n",
            "|    GP|  M| 15|      U|        GT3|         3|         4|      NULL|     other|         1|     yes|\n",
            "|    GP|  F| 15|      U|        GT3|         4|         4|   teacher|    health|         1|     yes|\n",
            "|    GP|  F| 15|      U|        GT3|         2|         1|  services|     other|         3|     yes|\n",
            "|    GP|  M| 15|      U|        LE3|         4|         4|    health|  services|         1|     yes|\n",
            "|    GP|  M| 15|      U|        GT3|         4|         3|   teacher|     other|         2|     yes|\n",
            "|    GP|  M| 15|      U|        GT3|         2|         2|     other|     other|         1|     yes|\n",
            "|    GP|  F| 16|      U|        GT3|         4|         4|    health|     other|         1|    NULL|\n",
            "|    GP|  F| 16|      U|        GT3|         4|         4|  services|  services|         1|    NULL|\n",
            "|    GP|  F| 16|      U|        GT3|         3|         3|     other|     other|         3|    NULL|\n",
            "|    GP|  M| 17|      U|        GT3|         3|         2|  services|  services|         1|    NULL|\n",
            "|    GP|  M| 16|      U|        LE3|         4|         3|    health|     other|         1|    NULL|\n",
            "+------+---+---+-------+-----------+----------+----------+----------+----------+----------+--------+\n",
            "only showing top 20 rows\n",
            "\n"
          ]
        }
      ],
      "source": [
        "from pyspark import *;\n",
        "from pyspark.sql import *;\n",
        "from pyspark.sql.functions import *;\n",
        "import pandas as pd;\n",
        "\n",
        "spark = SparkSession.builder.appName(\"Q9\").getOrCreate()\n",
        "\n",
        "df = spark.read.csv(\"student-info.csv\",header=True,inferSchema=True)\n",
        "df.printSchema()\n",
        "df.show()"
      ]
    },
    {
      "cell_type": "code",
      "source": [
        "df.select([count(when(isnull(c)|isnan(c),c)).alias(c) for c in df.columns]).show()"
      ],
      "metadata": {
        "colab": {
          "base_uri": "https://localhost:8080/"
        },
        "id": "YOnIXOZwgnHZ",
        "outputId": "f742c450-137f-43d0-cdec-ae7fff0f2e47"
      },
      "execution_count": null,
      "outputs": [
        {
          "output_type": "stream",
          "name": "stdout",
          "text": [
            "+------+---+---+-------+-----------+----------+----------+----------+----------+----------+--------+\n",
            "|school|sex|age|address|family_size|Mother_edu|Father_edu|Mother_job|Father_job|traveltime|internet|\n",
            "+------+---+---+-------+-----------+----------+----------+----------+----------+----------+--------+\n",
            "|     0|  0|  0|      0|          0|         0|         0|        12|         0|         0|      22|\n",
            "+------+---+---+-------+-----------+----------+----------+----------+----------+----------+--------+\n",
            "\n"
          ]
        }
      ]
    },
    {
      "cell_type": "code",
      "source": [
        "df = df.withColumn(\"school\",\n",
        "                   when(col(\"school\")==\"GP\",\"Gabriel Pereira\").\n",
        "                   when(col(\"school\")==\"MS\",\"Mousinho da Silveira\").\n",
        "                   otherwise(col(\"school\")))\n",
        "df.show()"
      ],
      "metadata": {
        "colab": {
          "base_uri": "https://localhost:8080/"
        },
        "id": "ITpOI2iGgzZ-",
        "outputId": "b5b6e589-40c7-43b6-a50a-1185c40fc06c"
      },
      "execution_count": null,
      "outputs": [
        {
          "output_type": "stream",
          "name": "stdout",
          "text": [
            "+---------------+---+---+-------+-----------+----------+----------+----------+----------+----------+--------+\n",
            "|         school|sex|age|address|family_size|Mother_edu|Father_edu|Mother_job|Father_job|traveltime|internet|\n",
            "+---------------+---+---+-------+-----------+----------+----------+----------+----------+----------+--------+\n",
            "|Gabriel Pereira|  F| 18|      U|        GT3|         4|         4|   at_home|   teacher|         2|      no|\n",
            "|Gabriel Pereira|  F| 17|      U|        GT3|         1|         1|   at_home|     other|         1|     yes|\n",
            "|Gabriel Pereira|  F| 15|      U|        LE3|         1|         1|   at_home|     other|         1|     yes|\n",
            "|Gabriel Pereira|  F| 15|      U|        GT3|         4|         2|    health|  services|         1|     yes|\n",
            "|Gabriel Pereira|  F| 16|      U|        GT3|         3|         3|     other|     other|         1|      no|\n",
            "|Gabriel Pereira|  M| 16|      U|        LE3|         4|         3|  services|     other|         1|     yes|\n",
            "|Gabriel Pereira|  M| 16|      U|        LE3|         2|         2|     other|     other|         1|     yes|\n",
            "|Gabriel Pereira|  F| 17|      U|        GT3|         4|         4|     other|   teacher|         2|      no|\n",
            "|Gabriel Pereira|  M| 15|      U|        LE3|         3|         2|  services|     other|         1|     yes|\n",
            "|Gabriel Pereira|  M| 15|      U|        GT3|         3|         4|      NULL|     other|         1|     yes|\n",
            "|Gabriel Pereira|  F| 15|      U|        GT3|         4|         4|   teacher|    health|         1|     yes|\n",
            "|Gabriel Pereira|  F| 15|      U|        GT3|         2|         1|  services|     other|         3|     yes|\n",
            "|Gabriel Pereira|  M| 15|      U|        LE3|         4|         4|    health|  services|         1|     yes|\n",
            "|Gabriel Pereira|  M| 15|      U|        GT3|         4|         3|   teacher|     other|         2|     yes|\n",
            "|Gabriel Pereira|  M| 15|      U|        GT3|         2|         2|     other|     other|         1|     yes|\n",
            "|Gabriel Pereira|  F| 16|      U|        GT3|         4|         4|    health|     other|         1|    NULL|\n",
            "|Gabriel Pereira|  F| 16|      U|        GT3|         4|         4|  services|  services|         1|    NULL|\n",
            "|Gabriel Pereira|  F| 16|      U|        GT3|         3|         3|     other|     other|         3|    NULL|\n",
            "|Gabriel Pereira|  M| 17|      U|        GT3|         3|         2|  services|  services|         1|    NULL|\n",
            "|Gabriel Pereira|  M| 16|      U|        LE3|         4|         3|    health|     other|         1|    NULL|\n",
            "+---------------+---+---+-------+-----------+----------+----------+----------+----------+----------+--------+\n",
            "only showing top 20 rows\n",
            "\n"
          ]
        }
      ]
    },
    {
      "cell_type": "code",
      "source": [
        "df = df.withColumn(\"address\",\n",
        "                   when(col(\"address\")==\"U\", \"Urban\").\n",
        "                   when(col(\"address\")==\"R\", \"Rural\").\n",
        "                   otherwise(col(\"address\")))\n",
        "df.show()"
      ],
      "metadata": {
        "colab": {
          "base_uri": "https://localhost:8080/"
        },
        "id": "8LMzBe4FgzyY",
        "outputId": "8a8992e6-dea8-42ac-ba7e-82bd19269963"
      },
      "execution_count": null,
      "outputs": [
        {
          "output_type": "stream",
          "name": "stdout",
          "text": [
            "+---------------+---+---+-------+-----------+----------+----------+----------+----------+----------+--------+\n",
            "|         school|sex|age|address|family_size|Mother_edu|Father_edu|Mother_job|Father_job|traveltime|internet|\n",
            "+---------------+---+---+-------+-----------+----------+----------+----------+----------+----------+--------+\n",
            "|Gabriel Pereira|  F| 18|  Urban|        GT3|         4|         4|   at_home|   teacher|         2|      no|\n",
            "|Gabriel Pereira|  F| 17|  Urban|        GT3|         1|         1|   at_home|     other|         1|     yes|\n",
            "|Gabriel Pereira|  F| 15|  Urban|        LE3|         1|         1|   at_home|     other|         1|     yes|\n",
            "|Gabriel Pereira|  F| 15|  Urban|        GT3|         4|         2|    health|  services|         1|     yes|\n",
            "|Gabriel Pereira|  F| 16|  Urban|        GT3|         3|         3|     other|     other|         1|      no|\n",
            "|Gabriel Pereira|  M| 16|  Urban|        LE3|         4|         3|  services|     other|         1|     yes|\n",
            "|Gabriel Pereira|  M| 16|  Urban|        LE3|         2|         2|     other|     other|         1|     yes|\n",
            "|Gabriel Pereira|  F| 17|  Urban|        GT3|         4|         4|     other|   teacher|         2|      no|\n",
            "|Gabriel Pereira|  M| 15|  Urban|        LE3|         3|         2|  services|     other|         1|     yes|\n",
            "|Gabriel Pereira|  M| 15|  Urban|        GT3|         3|         4|      NULL|     other|         1|     yes|\n",
            "|Gabriel Pereira|  F| 15|  Urban|        GT3|         4|         4|   teacher|    health|         1|     yes|\n",
            "|Gabriel Pereira|  F| 15|  Urban|        GT3|         2|         1|  services|     other|         3|     yes|\n",
            "|Gabriel Pereira|  M| 15|  Urban|        LE3|         4|         4|    health|  services|         1|     yes|\n",
            "|Gabriel Pereira|  M| 15|  Urban|        GT3|         4|         3|   teacher|     other|         2|     yes|\n",
            "|Gabriel Pereira|  M| 15|  Urban|        GT3|         2|         2|     other|     other|         1|     yes|\n",
            "|Gabriel Pereira|  F| 16|  Urban|        GT3|         4|         4|    health|     other|         1|    NULL|\n",
            "|Gabriel Pereira|  F| 16|  Urban|        GT3|         4|         4|  services|  services|         1|    NULL|\n",
            "|Gabriel Pereira|  F| 16|  Urban|        GT3|         3|         3|     other|     other|         3|    NULL|\n",
            "|Gabriel Pereira|  M| 17|  Urban|        GT3|         3|         2|  services|  services|         1|    NULL|\n",
            "|Gabriel Pereira|  M| 16|  Urban|        LE3|         4|         3|    health|     other|         1|    NULL|\n",
            "+---------------+---+---+-------+-----------+----------+----------+----------+----------+----------+--------+\n",
            "only showing top 20 rows\n",
            "\n"
          ]
        }
      ]
    },
    {
      "cell_type": "code",
      "source": [
        "df = df.withColumn(\"family_size\",\n",
        "                   when(col(\"family_size\")==\"LE3\", \"Less or Equal to 3\").\n",
        "                   when(col(\"family_size\")==\"GT3\", \"Greater than 3\").\n",
        "                   otherwise(col(\"family_size\")))\n",
        "df.show()"
      ],
      "metadata": {
        "colab": {
          "base_uri": "https://localhost:8080/"
        },
        "id": "YJPMMjtKiDPv",
        "outputId": "0c9c081b-e6f8-4710-e7ad-2409519194a4"
      },
      "execution_count": null,
      "outputs": [
        {
          "output_type": "stream",
          "name": "stdout",
          "text": [
            "+---------------+---+---+-------+------------------+----------+----------+----------+----------+----------+--------+\n",
            "|         school|sex|age|address|       family_size|Mother_edu|Father_edu|Mother_job|Father_job|traveltime|internet|\n",
            "+---------------+---+---+-------+------------------+----------+----------+----------+----------+----------+--------+\n",
            "|Gabriel Pereira|  F| 18|  Urban|    Greater than 3|         4|         4|   at_home|   teacher|         2|      no|\n",
            "|Gabriel Pereira|  F| 17|  Urban|    Greater than 3|         1|         1|   at_home|     other|         1|     yes|\n",
            "|Gabriel Pereira|  F| 15|  Urban|Less or Equal to 3|         1|         1|   at_home|     other|         1|     yes|\n",
            "|Gabriel Pereira|  F| 15|  Urban|    Greater than 3|         4|         2|    health|  services|         1|     yes|\n",
            "|Gabriel Pereira|  F| 16|  Urban|    Greater than 3|         3|         3|     other|     other|         1|      no|\n",
            "|Gabriel Pereira|  M| 16|  Urban|Less or Equal to 3|         4|         3|  services|     other|         1|     yes|\n",
            "|Gabriel Pereira|  M| 16|  Urban|Less or Equal to 3|         2|         2|     other|     other|         1|     yes|\n",
            "|Gabriel Pereira|  F| 17|  Urban|    Greater than 3|         4|         4|     other|   teacher|         2|      no|\n",
            "|Gabriel Pereira|  M| 15|  Urban|Less or Equal to 3|         3|         2|  services|     other|         1|     yes|\n",
            "|Gabriel Pereira|  M| 15|  Urban|    Greater than 3|         3|         4|      NULL|     other|         1|     yes|\n",
            "|Gabriel Pereira|  F| 15|  Urban|    Greater than 3|         4|         4|   teacher|    health|         1|     yes|\n",
            "|Gabriel Pereira|  F| 15|  Urban|    Greater than 3|         2|         1|  services|     other|         3|     yes|\n",
            "|Gabriel Pereira|  M| 15|  Urban|Less or Equal to 3|         4|         4|    health|  services|         1|     yes|\n",
            "|Gabriel Pereira|  M| 15|  Urban|    Greater than 3|         4|         3|   teacher|     other|         2|     yes|\n",
            "|Gabriel Pereira|  M| 15|  Urban|    Greater than 3|         2|         2|     other|     other|         1|     yes|\n",
            "|Gabriel Pereira|  F| 16|  Urban|    Greater than 3|         4|         4|    health|     other|         1|    NULL|\n",
            "|Gabriel Pereira|  F| 16|  Urban|    Greater than 3|         4|         4|  services|  services|         1|    NULL|\n",
            "|Gabriel Pereira|  F| 16|  Urban|    Greater than 3|         3|         3|     other|     other|         3|    NULL|\n",
            "|Gabriel Pereira|  M| 17|  Urban|    Greater than 3|         3|         2|  services|  services|         1|    NULL|\n",
            "|Gabriel Pereira|  M| 16|  Urban|Less or Equal to 3|         4|         3|    health|     other|         1|    NULL|\n",
            "+---------------+---+---+-------+------------------+----------+----------+----------+----------+----------+--------+\n",
            "only showing top 20 rows\n",
            "\n"
          ]
        }
      ]
    },
    {
      "cell_type": "code",
      "source": [
        "df = df.withColumn(\"Mother_edu\",\n",
        "                   when(col(\"Mother_edu\")==0, \"None\").\n",
        "                   when(col(\"Mother_edu\")==1, \"Primary Education (4th Grade)\").\n",
        "                   when(col(\"Mother_edu\")==2, \"5th to 9th Grade\").\n",
        "                   when(col(\"Mother_edu\")==3, \"Secondary Education\").\n",
        "                   when(col(\"Mother_edu\")==4, \"Higher Education\").\n",
        "                   otherwise(col(\"Mother_edu\")))\n",
        "df.show()"
      ],
      "metadata": {
        "colab": {
          "base_uri": "https://localhost:8080/"
        },
        "id": "uVMVEJ8yiW6Z",
        "outputId": "0e6b34a8-eb03-4631-b7c4-097bf5a37f87"
      },
      "execution_count": null,
      "outputs": [
        {
          "output_type": "stream",
          "name": "stdout",
          "text": [
            "+---------------+---+---+-------+------------------+--------------------+----------+----------+----------+----------+--------+\n",
            "|         school|sex|age|address|       family_size|          Mother_edu|Father_edu|Mother_job|Father_job|traveltime|internet|\n",
            "+---------------+---+---+-------+------------------+--------------------+----------+----------+----------+----------+--------+\n",
            "|Gabriel Pereira|  F| 18|  Urban|    Greater than 3|    Higher Education|         4|   at_home|   teacher|         2|      no|\n",
            "|Gabriel Pereira|  F| 17|  Urban|    Greater than 3|Primary Education...|         1|   at_home|     other|         1|     yes|\n",
            "|Gabriel Pereira|  F| 15|  Urban|Less or Equal to 3|Primary Education...|         1|   at_home|     other|         1|     yes|\n",
            "|Gabriel Pereira|  F| 15|  Urban|    Greater than 3|    Higher Education|         2|    health|  services|         1|     yes|\n",
            "|Gabriel Pereira|  F| 16|  Urban|    Greater than 3| Secondary Education|         3|     other|     other|         1|      no|\n",
            "|Gabriel Pereira|  M| 16|  Urban|Less or Equal to 3|    Higher Education|         3|  services|     other|         1|     yes|\n",
            "|Gabriel Pereira|  M| 16|  Urban|Less or Equal to 3|    5th to 9th Grade|         2|     other|     other|         1|     yes|\n",
            "|Gabriel Pereira|  F| 17|  Urban|    Greater than 3|    Higher Education|         4|     other|   teacher|         2|      no|\n",
            "|Gabriel Pereira|  M| 15|  Urban|Less or Equal to 3| Secondary Education|         2|  services|     other|         1|     yes|\n",
            "|Gabriel Pereira|  M| 15|  Urban|    Greater than 3| Secondary Education|         4|      NULL|     other|         1|     yes|\n",
            "|Gabriel Pereira|  F| 15|  Urban|    Greater than 3|    Higher Education|         4|   teacher|    health|         1|     yes|\n",
            "|Gabriel Pereira|  F| 15|  Urban|    Greater than 3|    5th to 9th Grade|         1|  services|     other|         3|     yes|\n",
            "|Gabriel Pereira|  M| 15|  Urban|Less or Equal to 3|    Higher Education|         4|    health|  services|         1|     yes|\n",
            "|Gabriel Pereira|  M| 15|  Urban|    Greater than 3|    Higher Education|         3|   teacher|     other|         2|     yes|\n",
            "|Gabriel Pereira|  M| 15|  Urban|    Greater than 3|    5th to 9th Grade|         2|     other|     other|         1|     yes|\n",
            "|Gabriel Pereira|  F| 16|  Urban|    Greater than 3|    Higher Education|         4|    health|     other|         1|    NULL|\n",
            "|Gabriel Pereira|  F| 16|  Urban|    Greater than 3|    Higher Education|         4|  services|  services|         1|    NULL|\n",
            "|Gabriel Pereira|  F| 16|  Urban|    Greater than 3| Secondary Education|         3|     other|     other|         3|    NULL|\n",
            "|Gabriel Pereira|  M| 17|  Urban|    Greater than 3| Secondary Education|         2|  services|  services|         1|    NULL|\n",
            "|Gabriel Pereira|  M| 16|  Urban|Less or Equal to 3|    Higher Education|         3|    health|     other|         1|    NULL|\n",
            "+---------------+---+---+-------+------------------+--------------------+----------+----------+----------+----------+--------+\n",
            "only showing top 20 rows\n",
            "\n"
          ]
        }
      ]
    },
    {
      "cell_type": "code",
      "source": [
        "df = df.withColumn(\"Father_edu\",\n",
        "                   when(col(\"Father_edu\")==0, \"None\").\n",
        "                   when(col(\"Father_edu\")==1, \"Primary Education (4th Grade)\").\n",
        "                   when(col(\"Father_edu\")==2, \"5th to 9th Grade\").\n",
        "                   when(col(\"Father_edu\")==3, \"Secondary Education\").\n",
        "                   when(col(\"Father_edu\")==4, \"Higher Education\").\n",
        "                   otherwise(col(\"Father_edu\")))\n",
        "df.show()"
      ],
      "metadata": {
        "colab": {
          "base_uri": "https://localhost:8080/"
        },
        "id": "Lu64zFhYibWb",
        "outputId": "5431e226-b307-4bcd-c477-d4e9eb3e82d7"
      },
      "execution_count": null,
      "outputs": [
        {
          "output_type": "stream",
          "name": "stdout",
          "text": [
            "+---------------+---+---+-------+------------------+--------------------+--------------------+----------+----------+----------+--------+\n",
            "|         school|sex|age|address|       family_size|          Mother_edu|          Father_edu|Mother_job|Father_job|traveltime|internet|\n",
            "+---------------+---+---+-------+------------------+--------------------+--------------------+----------+----------+----------+--------+\n",
            "|Gabriel Pereira|  F| 18|  Urban|    Greater than 3|    Higher Education|    Higher Education|   at_home|   teacher|         2|      no|\n",
            "|Gabriel Pereira|  F| 17|  Urban|    Greater than 3|Primary Education...|Primary Education...|   at_home|     other|         1|     yes|\n",
            "|Gabriel Pereira|  F| 15|  Urban|Less or Equal to 3|Primary Education...|Primary Education...|   at_home|     other|         1|     yes|\n",
            "|Gabriel Pereira|  F| 15|  Urban|    Greater than 3|    Higher Education|    5th to 9th Grade|    health|  services|         1|     yes|\n",
            "|Gabriel Pereira|  F| 16|  Urban|    Greater than 3| Secondary Education| Secondary Education|     other|     other|         1|      no|\n",
            "|Gabriel Pereira|  M| 16|  Urban|Less or Equal to 3|    Higher Education| Secondary Education|  services|     other|         1|     yes|\n",
            "|Gabriel Pereira|  M| 16|  Urban|Less or Equal to 3|    5th to 9th Grade|    5th to 9th Grade|     other|     other|         1|     yes|\n",
            "|Gabriel Pereira|  F| 17|  Urban|    Greater than 3|    Higher Education|    Higher Education|     other|   teacher|         2|      no|\n",
            "|Gabriel Pereira|  M| 15|  Urban|Less or Equal to 3| Secondary Education|    5th to 9th Grade|  services|     other|         1|     yes|\n",
            "|Gabriel Pereira|  M| 15|  Urban|    Greater than 3| Secondary Education|    Higher Education|      NULL|     other|         1|     yes|\n",
            "|Gabriel Pereira|  F| 15|  Urban|    Greater than 3|    Higher Education|    Higher Education|   teacher|    health|         1|     yes|\n",
            "|Gabriel Pereira|  F| 15|  Urban|    Greater than 3|    5th to 9th Grade|Primary Education...|  services|     other|         3|     yes|\n",
            "|Gabriel Pereira|  M| 15|  Urban|Less or Equal to 3|    Higher Education|    Higher Education|    health|  services|         1|     yes|\n",
            "|Gabriel Pereira|  M| 15|  Urban|    Greater than 3|    Higher Education| Secondary Education|   teacher|     other|         2|     yes|\n",
            "|Gabriel Pereira|  M| 15|  Urban|    Greater than 3|    5th to 9th Grade|    5th to 9th Grade|     other|     other|         1|     yes|\n",
            "|Gabriel Pereira|  F| 16|  Urban|    Greater than 3|    Higher Education|    Higher Education|    health|     other|         1|    NULL|\n",
            "|Gabriel Pereira|  F| 16|  Urban|    Greater than 3|    Higher Education|    Higher Education|  services|  services|         1|    NULL|\n",
            "|Gabriel Pereira|  F| 16|  Urban|    Greater than 3| Secondary Education| Secondary Education|     other|     other|         3|    NULL|\n",
            "|Gabriel Pereira|  M| 17|  Urban|    Greater than 3| Secondary Education|    5th to 9th Grade|  services|  services|         1|    NULL|\n",
            "|Gabriel Pereira|  M| 16|  Urban|Less or Equal to 3|    Higher Education| Secondary Education|    health|     other|         1|    NULL|\n",
            "+---------------+---+---+-------+------------------+--------------------+--------------------+----------+----------+----------+--------+\n",
            "only showing top 20 rows\n",
            "\n"
          ]
        }
      ]
    },
    {
      "cell_type": "code",
      "source": [
        "df = df.fillna({\"Mother_job\":\"other\"})\n",
        "df.show()"
      ],
      "metadata": {
        "colab": {
          "base_uri": "https://localhost:8080/"
        },
        "id": "uwHxoWBRioh7",
        "outputId": "0620ec84-3bd6-434f-bc68-54e817a3ed69"
      },
      "execution_count": null,
      "outputs": [
        {
          "output_type": "stream",
          "name": "stdout",
          "text": [
            "+---------------+---+---+-------+------------------+--------------------+--------------------+----------+----------+----------+--------+\n",
            "|         school|sex|age|address|       family_size|          Mother_edu|          Father_edu|Mother_job|Father_job|traveltime|internet|\n",
            "+---------------+---+---+-------+------------------+--------------------+--------------------+----------+----------+----------+--------+\n",
            "|Gabriel Pereira|  F| 18|  Urban|    Greater than 3|    Higher Education|    Higher Education|   at_home|   teacher|         2|      no|\n",
            "|Gabriel Pereira|  F| 17|  Urban|    Greater than 3|Primary Education...|Primary Education...|   at_home|     other|         1|     yes|\n",
            "|Gabriel Pereira|  F| 15|  Urban|Less or Equal to 3|Primary Education...|Primary Education...|   at_home|     other|         1|     yes|\n",
            "|Gabriel Pereira|  F| 15|  Urban|    Greater than 3|    Higher Education|    5th to 9th Grade|    health|  services|         1|     yes|\n",
            "|Gabriel Pereira|  F| 16|  Urban|    Greater than 3| Secondary Education| Secondary Education|     other|     other|         1|      no|\n",
            "|Gabriel Pereira|  M| 16|  Urban|Less or Equal to 3|    Higher Education| Secondary Education|  services|     other|         1|     yes|\n",
            "|Gabriel Pereira|  M| 16|  Urban|Less or Equal to 3|    5th to 9th Grade|    5th to 9th Grade|     other|     other|         1|     yes|\n",
            "|Gabriel Pereira|  F| 17|  Urban|    Greater than 3|    Higher Education|    Higher Education|     other|   teacher|         2|      no|\n",
            "|Gabriel Pereira|  M| 15|  Urban|Less or Equal to 3| Secondary Education|    5th to 9th Grade|  services|     other|         1|     yes|\n",
            "|Gabriel Pereira|  M| 15|  Urban|    Greater than 3| Secondary Education|    Higher Education|     other|     other|         1|     yes|\n",
            "|Gabriel Pereira|  F| 15|  Urban|    Greater than 3|    Higher Education|    Higher Education|   teacher|    health|         1|     yes|\n",
            "|Gabriel Pereira|  F| 15|  Urban|    Greater than 3|    5th to 9th Grade|Primary Education...|  services|     other|         3|     yes|\n",
            "|Gabriel Pereira|  M| 15|  Urban|Less or Equal to 3|    Higher Education|    Higher Education|    health|  services|         1|     yes|\n",
            "|Gabriel Pereira|  M| 15|  Urban|    Greater than 3|    Higher Education| Secondary Education|   teacher|     other|         2|     yes|\n",
            "|Gabriel Pereira|  M| 15|  Urban|    Greater than 3|    5th to 9th Grade|    5th to 9th Grade|     other|     other|         1|     yes|\n",
            "|Gabriel Pereira|  F| 16|  Urban|    Greater than 3|    Higher Education|    Higher Education|    health|     other|         1|    NULL|\n",
            "|Gabriel Pereira|  F| 16|  Urban|    Greater than 3|    Higher Education|    Higher Education|  services|  services|         1|    NULL|\n",
            "|Gabriel Pereira|  F| 16|  Urban|    Greater than 3| Secondary Education| Secondary Education|     other|     other|         3|    NULL|\n",
            "|Gabriel Pereira|  M| 17|  Urban|    Greater than 3| Secondary Education|    5th to 9th Grade|  services|  services|         1|    NULL|\n",
            "|Gabriel Pereira|  M| 16|  Urban|Less or Equal to 3|    Higher Education| Secondary Education|    health|     other|         1|    NULL|\n",
            "+---------------+---+---+-------+------------------+--------------------+--------------------+----------+----------+----------+--------+\n",
            "only showing top 20 rows\n",
            "\n"
          ]
        }
      ]
    },
    {
      "cell_type": "code",
      "source": [
        "df = df.withColumn(\"traveltime\",\n",
        "                   when(col(\"traveltime\")==1, \"15 Min\").\n",
        "                   when(col(\"traveltime\")==2, \"30 Min\").\n",
        "                   when(col(\"traveltime\")==3, \"45 Min\").\n",
        "                   when(col(\"traveltime\")==4, \"60 Min\").\n",
        "                   otherwise(None))\n",
        "df.show()"
      ],
      "metadata": {
        "colab": {
          "base_uri": "https://localhost:8080/"
        },
        "id": "Z-f8591Pi85r",
        "outputId": "d2e76cdb-d404-4e42-ae11-dfa45cfb0da8"
      },
      "execution_count": null,
      "outputs": [
        {
          "output_type": "stream",
          "name": "stdout",
          "text": [
            "+---------------+---+---+-------+------------------+--------------------+--------------------+----------+----------+----------+--------+\n",
            "|         school|sex|age|address|       family_size|          Mother_edu|          Father_edu|Mother_job|Father_job|traveltime|internet|\n",
            "+---------------+---+---+-------+------------------+--------------------+--------------------+----------+----------+----------+--------+\n",
            "|Gabriel Pereira|  F| 18|  Urban|    Greater than 3|    Higher Education|    Higher Education|   at_home|   teacher|    30 Min|      no|\n",
            "|Gabriel Pereira|  F| 17|  Urban|    Greater than 3|Primary Education...|Primary Education...|   at_home|     other|    15 Min|     yes|\n",
            "|Gabriel Pereira|  F| 15|  Urban|Less or Equal to 3|Primary Education...|Primary Education...|   at_home|     other|    15 Min|     yes|\n",
            "|Gabriel Pereira|  F| 15|  Urban|    Greater than 3|    Higher Education|    5th to 9th Grade|    health|  services|    15 Min|     yes|\n",
            "|Gabriel Pereira|  F| 16|  Urban|    Greater than 3| Secondary Education| Secondary Education|     other|     other|    15 Min|      no|\n",
            "|Gabriel Pereira|  M| 16|  Urban|Less or Equal to 3|    Higher Education| Secondary Education|  services|     other|    15 Min|     yes|\n",
            "|Gabriel Pereira|  M| 16|  Urban|Less or Equal to 3|    5th to 9th Grade|    5th to 9th Grade|     other|     other|    15 Min|     yes|\n",
            "|Gabriel Pereira|  F| 17|  Urban|    Greater than 3|    Higher Education|    Higher Education|     other|   teacher|    30 Min|      no|\n",
            "|Gabriel Pereira|  M| 15|  Urban|Less or Equal to 3| Secondary Education|    5th to 9th Grade|  services|     other|    15 Min|     yes|\n",
            "|Gabriel Pereira|  M| 15|  Urban|    Greater than 3| Secondary Education|    Higher Education|     other|     other|    15 Min|     yes|\n",
            "|Gabriel Pereira|  F| 15|  Urban|    Greater than 3|    Higher Education|    Higher Education|   teacher|    health|    15 Min|     yes|\n",
            "|Gabriel Pereira|  F| 15|  Urban|    Greater than 3|    5th to 9th Grade|Primary Education...|  services|     other|    45 Min|     yes|\n",
            "|Gabriel Pereira|  M| 15|  Urban|Less or Equal to 3|    Higher Education|    Higher Education|    health|  services|    15 Min|     yes|\n",
            "|Gabriel Pereira|  M| 15|  Urban|    Greater than 3|    Higher Education| Secondary Education|   teacher|     other|    30 Min|     yes|\n",
            "|Gabriel Pereira|  M| 15|  Urban|    Greater than 3|    5th to 9th Grade|    5th to 9th Grade|     other|     other|    15 Min|     yes|\n",
            "|Gabriel Pereira|  F| 16|  Urban|    Greater than 3|    Higher Education|    Higher Education|    health|     other|    15 Min|    NULL|\n",
            "|Gabriel Pereira|  F| 16|  Urban|    Greater than 3|    Higher Education|    Higher Education|  services|  services|    15 Min|    NULL|\n",
            "|Gabriel Pereira|  F| 16|  Urban|    Greater than 3| Secondary Education| Secondary Education|     other|     other|    45 Min|    NULL|\n",
            "|Gabriel Pereira|  M| 17|  Urban|    Greater than 3| Secondary Education|    5th to 9th Grade|  services|  services|    15 Min|    NULL|\n",
            "|Gabriel Pereira|  M| 16|  Urban|Less or Equal to 3|    Higher Education| Secondary Education|    health|     other|    15 Min|    NULL|\n",
            "+---------------+---+---+-------+------------------+--------------------+--------------------+----------+----------+----------+--------+\n",
            "only showing top 20 rows\n",
            "\n"
          ]
        }
      ]
    },
    {
      "cell_type": "code",
      "source": [
        "df = df.fillna({\"internet\":\"Unknown\"})\n",
        "df.show()"
      ],
      "metadata": {
        "colab": {
          "base_uri": "https://localhost:8080/"
        },
        "id": "24b79OfDi9GQ",
        "outputId": "5dd6362b-94c4-429c-9968-6572dc776e95"
      },
      "execution_count": null,
      "outputs": [
        {
          "output_type": "stream",
          "name": "stdout",
          "text": [
            "+---------------+---+---+-------+------------------+--------------------+--------------------+----------+----------+----------+--------+\n",
            "|         school|sex|age|address|       family_size|          Mother_edu|          Father_edu|Mother_job|Father_job|traveltime|internet|\n",
            "+---------------+---+---+-------+------------------+--------------------+--------------------+----------+----------+----------+--------+\n",
            "|Gabriel Pereira|  F| 18|  Urban|    Greater than 3|    Higher Education|    Higher Education|   at_home|   teacher|    30 Min|      no|\n",
            "|Gabriel Pereira|  F| 17|  Urban|    Greater than 3|Primary Education...|Primary Education...|   at_home|     other|    15 Min|     yes|\n",
            "|Gabriel Pereira|  F| 15|  Urban|Less or Equal to 3|Primary Education...|Primary Education...|   at_home|     other|    15 Min|     yes|\n",
            "|Gabriel Pereira|  F| 15|  Urban|    Greater than 3|    Higher Education|    5th to 9th Grade|    health|  services|    15 Min|     yes|\n",
            "|Gabriel Pereira|  F| 16|  Urban|    Greater than 3| Secondary Education| Secondary Education|     other|     other|    15 Min|      no|\n",
            "|Gabriel Pereira|  M| 16|  Urban|Less or Equal to 3|    Higher Education| Secondary Education|  services|     other|    15 Min|     yes|\n",
            "|Gabriel Pereira|  M| 16|  Urban|Less or Equal to 3|    5th to 9th Grade|    5th to 9th Grade|     other|     other|    15 Min|     yes|\n",
            "|Gabriel Pereira|  F| 17|  Urban|    Greater than 3|    Higher Education|    Higher Education|     other|   teacher|    30 Min|      no|\n",
            "|Gabriel Pereira|  M| 15|  Urban|Less or Equal to 3| Secondary Education|    5th to 9th Grade|  services|     other|    15 Min|     yes|\n",
            "|Gabriel Pereira|  M| 15|  Urban|    Greater than 3| Secondary Education|    Higher Education|     other|     other|    15 Min|     yes|\n",
            "|Gabriel Pereira|  F| 15|  Urban|    Greater than 3|    Higher Education|    Higher Education|   teacher|    health|    15 Min|     yes|\n",
            "|Gabriel Pereira|  F| 15|  Urban|    Greater than 3|    5th to 9th Grade|Primary Education...|  services|     other|    45 Min|     yes|\n",
            "|Gabriel Pereira|  M| 15|  Urban|Less or Equal to 3|    Higher Education|    Higher Education|    health|  services|    15 Min|     yes|\n",
            "|Gabriel Pereira|  M| 15|  Urban|    Greater than 3|    Higher Education| Secondary Education|   teacher|     other|    30 Min|     yes|\n",
            "|Gabriel Pereira|  M| 15|  Urban|    Greater than 3|    5th to 9th Grade|    5th to 9th Grade|     other|     other|    15 Min|     yes|\n",
            "|Gabriel Pereira|  F| 16|  Urban|    Greater than 3|    Higher Education|    Higher Education|    health|     other|    15 Min| Unknown|\n",
            "|Gabriel Pereira|  F| 16|  Urban|    Greater than 3|    Higher Education|    Higher Education|  services|  services|    15 Min| Unknown|\n",
            "|Gabriel Pereira|  F| 16|  Urban|    Greater than 3| Secondary Education| Secondary Education|     other|     other|    45 Min| Unknown|\n",
            "|Gabriel Pereira|  M| 17|  Urban|    Greater than 3| Secondary Education|    5th to 9th Grade|  services|  services|    15 Min| Unknown|\n",
            "|Gabriel Pereira|  M| 16|  Urban|Less or Equal to 3|    Higher Education| Secondary Education|    health|     other|    15 Min| Unknown|\n",
            "+---------------+---+---+-------+------------------+--------------------+--------------------+----------+----------+----------+--------+\n",
            "only showing top 20 rows\n",
            "\n"
          ]
        }
      ]
    },
    {
      "cell_type": "code",
      "source": [
        "df.select(\"age\").distinct().show()\n",
        "df = df.filter((col(\"age\")>=15) & (col(\"age\")<=22))\n",
        "df.select(\"age\").distinct().show()"
      ],
      "metadata": {
        "colab": {
          "base_uri": "https://localhost:8080/"
        },
        "id": "d1EAu-KtjDzF",
        "outputId": "066fd7e5-9681-4d1a-e4a2-404549e618e8"
      },
      "execution_count": null,
      "outputs": [
        {
          "output_type": "stream",
          "name": "stdout",
          "text": [
            "+---+\n",
            "|age|\n",
            "+---+\n",
            "| 22|\n",
            "| 16|\n",
            "| 20|\n",
            "| 96|\n",
            "| 19|\n",
            "| 15|\n",
            "| 17|\n",
            "| 21|\n",
            "| 98|\n",
            "| 90|\n",
            "| 99|\n",
            "| 18|\n",
            "+---+\n",
            "\n",
            "+---+\n",
            "|age|\n",
            "+---+\n",
            "| 22|\n",
            "| 16|\n",
            "| 20|\n",
            "| 19|\n",
            "| 15|\n",
            "| 17|\n",
            "| 21|\n",
            "| 18|\n",
            "+---+\n",
            "\n"
          ]
        }
      ]
    },
    {
      "cell_type": "code",
      "source": [
        "df = df.toPandas()\n",
        "df.to_csv(\"cleaned_9.csv\")"
      ],
      "metadata": {
        "id": "PdoGH6FVgqxp"
      },
      "execution_count": null,
      "outputs": []
    },
    {
      "cell_type": "code",
      "source": [
        "spark.stop()"
      ],
      "metadata": {
        "id": "0-jcz6_xjMW7"
      },
      "execution_count": null,
      "outputs": []
    }
  ]
}